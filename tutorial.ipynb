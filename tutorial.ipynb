{
 "cells": [
  {
   "cell_type": "markdown",
   "metadata": {
    "id": "0fQm9v7oCnl8"
   },
   "source": [
    "# Home Credit Default Risk\n",
    "This NOTEBOOK will provide an introduction to the process of creating forecast results and the basic methodology.\n",
    "\n",
    "First, let's review the task we will be performing (see README.ipynb for details).\n",
    "\n",
    "Objective: To predict the probability of default based on customer data.\n",
    "\n",
    "Evaluation index: Area Under the Curve (AUC)"
   ]
  },
  {
   "cell_type": "markdown",
   "metadata": {
    "id": "xcuOu_ttCnmA"
   },
   "source": [
    "## Contents\n",
    "0. Loading libraries and the data\n",
    "1. Data visualization and analysis\n",
    "2. Preprocessing and feature creation\n",
    "3. Machine learning model creation\n",
    "4. Creating prediction results"
   ]
  },
  {
   "cell_type": "markdown",
   "metadata": {
    "id": "a5KcDAE8CnmB"
   },
   "source": [
    "## 0. Loading libraries and the data"
   ]
  },
  {
   "cell_type": "markdown",
   "metadata": {
    "id": "617twnHyCnmB"
   },
   "source": [
    "Let's load basic libraries.\n",
    "Other required libraries will be loaded when we explain them.\n",
    "- numpy: Library for efficient numerical computation\n",
    "- pandas: Library useful for data analysis\n",
    "- matplotlib: Graph drawing library\n",
    "- seaborn: Graph drawing library as well"
   ]
  },
  {
   "cell_type": "code",
   "execution_count": 1,
   "metadata": {
    "id": "QShif6ZLCnmC"
   },
   "outputs": [],
   "source": [
    "# Loading libraries\n",
    "import numpy as np\n",
    "import pandas as pd\n",
    "import matplotlib.pyplot as plt\n",
    "import seaborn as sns\n",
    "\n",
    "import warnings\n",
    "warnings.filterwarnings('ignore')"
   ]
  },
  {
   "cell_type": "code",
   "execution_count": 2,
   "metadata": {
    "id": "kNikBXwXl3fx"
   },
   "outputs": [],
   "source": [
    "import os\n",
    "from pathlib import Path\n",
    "\n",
    "# Automatically get the current working directory\n",
    "current_dir = Path(os.getcwd())\n",
    "\n",
    "# Define file paths using pathlib\n",
    "train_file = current_dir / \"input\" / \"train.csv\"\n",
    "test_file = current_dir / \"input\" / \"test.csv\"\n",
    "sample_sub_file = current_dir / \"input\" / \"sample_submission.csv\"\n",
    "\n",
    "# Load data\n",
    "train = pd.read_csv(train_file)\n",
    "test = pd.read_csv(test_file)\n",
    "sample_sub = pd.read_csv(sample_sub_file)"
   ]
  },
  {
   "cell_type": "markdown",
   "metadata": {
    "id": "3NuP1zcmCnmF"
   },
   "source": [
    "## 1. Data visualization and analysis"
   ]
  },
  {
   "cell_type": "markdown",
   "metadata": {
    "id": "jSh7uV_4CnmF"
   },
   "source": [
    "### 1.1 Data Overview\n",
    "Before conducting a full-scale analysis, we will first review a brief overview of the data."
   ]
  },
  {
   "cell_type": "code",
   "execution_count": 3,
   "metadata": {
    "colab": {
     "base_uri": "https://localhost:8080/",
     "height": 246
    },
    "executionInfo": {
     "elapsed": 174,
     "status": "ok",
     "timestamp": 1740899683314,
     "user": {
      "displayName": "Hiroki Arashi",
      "userId": "11190395752703205632"
     },
     "user_tz": -540
    },
    "id": "tmJzxS2nCnmG",
    "outputId": "d8bdc87d-8700-4ea7-dc1f-222b236fcfa7"
   },
   "outputs": [
    {
     "name": "stdout",
     "output_type": "stream",
     "text": [
      "train shape: (171202, 34)\n"
     ]
    },
    {
     "data": {
      "application/vnd.microsoft.datawrangler.viewer.v0+json": {
       "columns": [
        {
         "name": "index",
         "rawType": "int64",
         "type": "integer"
        },
        {
         "name": "SK_ID_CURR",
         "rawType": "int64",
         "type": "integer"
        },
        {
         "name": "NAME_CONTRACT_TYPE",
         "rawType": "object",
         "type": "string"
        },
        {
         "name": "CODE_GENDER",
         "rawType": "object",
         "type": "string"
        },
        {
         "name": "CNT_CHILDREN",
         "rawType": "int64",
         "type": "integer"
        },
        {
         "name": "AMT_INCOME_TOTAL",
         "rawType": "float64",
         "type": "float"
        },
        {
         "name": "AMT_CREDIT",
         "rawType": "float64",
         "type": "float"
        },
        {
         "name": "AMT_ANNUITY",
         "rawType": "float64",
         "type": "float"
        },
        {
         "name": "AMT_GOODS_PRICE",
         "rawType": "float64",
         "type": "float"
        },
        {
         "name": "NAME_INCOME_TYPE",
         "rawType": "object",
         "type": "string"
        },
        {
         "name": "NAME_EDUCATION_TYPE",
         "rawType": "object",
         "type": "string"
        },
        {
         "name": "NAME_FAMILY_STATUS",
         "rawType": "object",
         "type": "string"
        },
        {
         "name": "NAME_HOUSING_TYPE",
         "rawType": "object",
         "type": "string"
        },
        {
         "name": "REGION_POPULATION_RELATIVE",
         "rawType": "float64",
         "type": "float"
        },
        {
         "name": "DAYS_BIRTH",
         "rawType": "int64",
         "type": "integer"
        },
        {
         "name": "DAYS_EMPLOYED",
         "rawType": "int64",
         "type": "integer"
        },
        {
         "name": "DAYS_REGISTRATION",
         "rawType": "float64",
         "type": "float"
        },
        {
         "name": "DAYS_ID_PUBLISH",
         "rawType": "int64",
         "type": "integer"
        },
        {
         "name": "OWN_CAR_AGE",
         "rawType": "float64",
         "type": "float"
        },
        {
         "name": "FLAG_MOBIL",
         "rawType": "int64",
         "type": "integer"
        },
        {
         "name": "FLAG_EMP_PHONE",
         "rawType": "int64",
         "type": "integer"
        },
        {
         "name": "FLAG_WORK_PHONE",
         "rawType": "int64",
         "type": "integer"
        },
        {
         "name": "OCCUPATION_TYPE",
         "rawType": "object",
         "type": "string"
        },
        {
         "name": "CNT_FAM_MEMBERS",
         "rawType": "float64",
         "type": "float"
        },
        {
         "name": "REGION_RATING_CLIENT",
         "rawType": "int64",
         "type": "integer"
        },
        {
         "name": "ORGANIZATION_TYPE",
         "rawType": "object",
         "type": "string"
        },
        {
         "name": "EXT_SOURCE_1",
         "rawType": "float64",
         "type": "float"
        },
        {
         "name": "EXT_SOURCE_2",
         "rawType": "float64",
         "type": "float"
        },
        {
         "name": "EXT_SOURCE_3",
         "rawType": "float64",
         "type": "float"
        },
        {
         "name": "DAYS_LAST_PHONE_CHANGE",
         "rawType": "float64",
         "type": "float"
        },
        {
         "name": "AMT_REQ_CREDIT_BUREAU_HOUR",
         "rawType": "float64",
         "type": "float"
        },
        {
         "name": "AMT_REQ_CREDIT_BUREAU_MON",
         "rawType": "float64",
         "type": "float"
        },
        {
         "name": "AMT_REQ_CREDIT_BUREAU_QRT",
         "rawType": "float64",
         "type": "float"
        },
        {
         "name": "AMT_REQ_CREDIT_BUREAU_YEAR",
         "rawType": "float64",
         "type": "float"
        },
        {
         "name": "TARGET",
         "rawType": "int64",
         "type": "integer"
        }
       ],
       "conversionMethod": "pd.DataFrame",
       "ref": "7729a2d7-7df3-435b-ad75-246a8bfc5468",
       "rows": [
        [
         "0",
         "0",
         "Cash loans",
         "F",
         "0",
         "112500.0",
         "755190.0",
         "36328.5",
         "675000.0",
         "Working",
         "Higher education",
         "Married",
         "House / apartment",
         "0.010032",
         "-9233",
         "-878",
         "-333.0",
         "-522",
         null,
         "1",
         "1",
         "1",
         "Core staff",
         "2.0",
         "2",
         "School",
         null,
         "0.3725906530484186",
         null,
         "-292.0",
         null,
         null,
         null,
         null,
         "0"
        ],
        [
         "1",
         "1",
         "Cash loans",
         "F",
         "0",
         "225000.0",
         "585000.0",
         "16893.0",
         "585000.0",
         "Pensioner",
         "Secondary / secondary special",
         "Married",
         "House / apartment",
         "0.008019",
         "-20148",
         "365243",
         "-4469.0",
         "-3436",
         null,
         "1",
         "0",
         "0",
         "Other",
         "2.0",
         "2",
         "XNA",
         null,
         "0.4495669178425824",
         "0.5531646987710016",
         "-617.0",
         "0.0",
         "0.0",
         "0.0",
         "1.0",
         "0"
        ],
        [
         "2",
         "2",
         "Cash loans",
         "F",
         "0",
         "54000.0",
         "334152.0",
         "18256.5",
         "270000.0",
         "State servant",
         "Secondary / secondary special",
         "Married",
         "House / apartment",
         "0.00496",
         "-18496",
         "-523",
         "-3640.0",
         "-2050",
         null,
         "1",
         "1",
         "1",
         "Core staff",
         "2.0",
         "2",
         "Postal",
         null,
         "0.5695033488190875",
         null,
         "-542.0",
         null,
         null,
         null,
         null,
         "0"
        ]
       ],
       "shape": {
        "columns": 34,
        "rows": 3
       }
      },
      "text/html": [
       "<div>\n",
       "<style scoped>\n",
       "    .dataframe tbody tr th:only-of-type {\n",
       "        vertical-align: middle;\n",
       "    }\n",
       "\n",
       "    .dataframe tbody tr th {\n",
       "        vertical-align: top;\n",
       "    }\n",
       "\n",
       "    .dataframe thead th {\n",
       "        text-align: right;\n",
       "    }\n",
       "</style>\n",
       "<table border=\"1\" class=\"dataframe\">\n",
       "  <thead>\n",
       "    <tr style=\"text-align: right;\">\n",
       "      <th></th>\n",
       "      <th>SK_ID_CURR</th>\n",
       "      <th>NAME_CONTRACT_TYPE</th>\n",
       "      <th>CODE_GENDER</th>\n",
       "      <th>CNT_CHILDREN</th>\n",
       "      <th>AMT_INCOME_TOTAL</th>\n",
       "      <th>AMT_CREDIT</th>\n",
       "      <th>AMT_ANNUITY</th>\n",
       "      <th>AMT_GOODS_PRICE</th>\n",
       "      <th>NAME_INCOME_TYPE</th>\n",
       "      <th>NAME_EDUCATION_TYPE</th>\n",
       "      <th>...</th>\n",
       "      <th>ORGANIZATION_TYPE</th>\n",
       "      <th>EXT_SOURCE_1</th>\n",
       "      <th>EXT_SOURCE_2</th>\n",
       "      <th>EXT_SOURCE_3</th>\n",
       "      <th>DAYS_LAST_PHONE_CHANGE</th>\n",
       "      <th>AMT_REQ_CREDIT_BUREAU_HOUR</th>\n",
       "      <th>AMT_REQ_CREDIT_BUREAU_MON</th>\n",
       "      <th>AMT_REQ_CREDIT_BUREAU_QRT</th>\n",
       "      <th>AMT_REQ_CREDIT_BUREAU_YEAR</th>\n",
       "      <th>TARGET</th>\n",
       "    </tr>\n",
       "  </thead>\n",
       "  <tbody>\n",
       "    <tr>\n",
       "      <th>0</th>\n",
       "      <td>0</td>\n",
       "      <td>Cash loans</td>\n",
       "      <td>F</td>\n",
       "      <td>0</td>\n",
       "      <td>112500.0</td>\n",
       "      <td>755190.0</td>\n",
       "      <td>36328.5</td>\n",
       "      <td>675000.0</td>\n",
       "      <td>Working</td>\n",
       "      <td>Higher education</td>\n",
       "      <td>...</td>\n",
       "      <td>School</td>\n",
       "      <td>NaN</td>\n",
       "      <td>0.372591</td>\n",
       "      <td>NaN</td>\n",
       "      <td>-292.0</td>\n",
       "      <td>NaN</td>\n",
       "      <td>NaN</td>\n",
       "      <td>NaN</td>\n",
       "      <td>NaN</td>\n",
       "      <td>0</td>\n",
       "    </tr>\n",
       "    <tr>\n",
       "      <th>1</th>\n",
       "      <td>1</td>\n",
       "      <td>Cash loans</td>\n",
       "      <td>F</td>\n",
       "      <td>0</td>\n",
       "      <td>225000.0</td>\n",
       "      <td>585000.0</td>\n",
       "      <td>16893.0</td>\n",
       "      <td>585000.0</td>\n",
       "      <td>Pensioner</td>\n",
       "      <td>Secondary / secondary special</td>\n",
       "      <td>...</td>\n",
       "      <td>XNA</td>\n",
       "      <td>NaN</td>\n",
       "      <td>0.449567</td>\n",
       "      <td>0.553165</td>\n",
       "      <td>-617.0</td>\n",
       "      <td>0.0</td>\n",
       "      <td>0.0</td>\n",
       "      <td>0.0</td>\n",
       "      <td>1.0</td>\n",
       "      <td>0</td>\n",
       "    </tr>\n",
       "    <tr>\n",
       "      <th>2</th>\n",
       "      <td>2</td>\n",
       "      <td>Cash loans</td>\n",
       "      <td>F</td>\n",
       "      <td>0</td>\n",
       "      <td>54000.0</td>\n",
       "      <td>334152.0</td>\n",
       "      <td>18256.5</td>\n",
       "      <td>270000.0</td>\n",
       "      <td>State servant</td>\n",
       "      <td>Secondary / secondary special</td>\n",
       "      <td>...</td>\n",
       "      <td>Postal</td>\n",
       "      <td>NaN</td>\n",
       "      <td>0.569503</td>\n",
       "      <td>NaN</td>\n",
       "      <td>-542.0</td>\n",
       "      <td>NaN</td>\n",
       "      <td>NaN</td>\n",
       "      <td>NaN</td>\n",
       "      <td>NaN</td>\n",
       "      <td>0</td>\n",
       "    </tr>\n",
       "  </tbody>\n",
       "</table>\n",
       "<p>3 rows × 34 columns</p>\n",
       "</div>"
      ],
      "text/plain": [
       "   SK_ID_CURR NAME_CONTRACT_TYPE CODE_GENDER  CNT_CHILDREN  AMT_INCOME_TOTAL  \\\n",
       "0           0         Cash loans           F             0          112500.0   \n",
       "1           1         Cash loans           F             0          225000.0   \n",
       "2           2         Cash loans           F             0           54000.0   \n",
       "\n",
       "   AMT_CREDIT  AMT_ANNUITY  AMT_GOODS_PRICE NAME_INCOME_TYPE  \\\n",
       "0    755190.0      36328.5         675000.0          Working   \n",
       "1    585000.0      16893.0         585000.0        Pensioner   \n",
       "2    334152.0      18256.5         270000.0    State servant   \n",
       "\n",
       "             NAME_EDUCATION_TYPE  ... ORGANIZATION_TYPE EXT_SOURCE_1  \\\n",
       "0               Higher education  ...            School          NaN   \n",
       "1  Secondary / secondary special  ...               XNA          NaN   \n",
       "2  Secondary / secondary special  ...            Postal          NaN   \n",
       "\n",
       "   EXT_SOURCE_2  EXT_SOURCE_3  DAYS_LAST_PHONE_CHANGE  \\\n",
       "0      0.372591           NaN                  -292.0   \n",
       "1      0.449567      0.553165                  -617.0   \n",
       "2      0.569503           NaN                  -542.0   \n",
       "\n",
       "   AMT_REQ_CREDIT_BUREAU_HOUR  AMT_REQ_CREDIT_BUREAU_MON  \\\n",
       "0                         NaN                        NaN   \n",
       "1                         0.0                        0.0   \n",
       "2                         NaN                        NaN   \n",
       "\n",
       "   AMT_REQ_CREDIT_BUREAU_QRT  AMT_REQ_CREDIT_BUREAU_YEAR  TARGET  \n",
       "0                        NaN                         NaN       0  \n",
       "1                        0.0                         1.0       0  \n",
       "2                        NaN                         NaN       0  \n",
       "\n",
       "[3 rows x 34 columns]"
      ]
     },
     "execution_count": 3,
     "metadata": {},
     "output_type": "execute_result"
    }
   ],
   "source": [
    "# Check train data\n",
    "print(f\"train shape: {train.shape}\")\n",
    "train.head(3)"
   ]
  },
  {
   "cell_type": "code",
   "execution_count": 4,
   "metadata": {
    "colab": {
     "base_uri": "https://localhost:8080/",
     "height": 246
    },
    "executionInfo": {
     "elapsed": 59,
     "status": "ok",
     "timestamp": 1740899685301,
     "user": {
      "displayName": "Hiroki Arashi",
      "userId": "11190395752703205632"
     },
     "user_tz": -540
    },
    "id": "0j6hSZwjCnmG",
    "outputId": "2acc6964-9a2e-40d2-ce69-60d4b08645fd"
   },
   "outputs": [
    {
     "name": "stdout",
     "output_type": "stream",
     "text": [
      "test shape: (61500, 33)\n"
     ]
    },
    {
     "data": {
      "application/vnd.microsoft.datawrangler.viewer.v0+json": {
       "columns": [
        {
         "name": "index",
         "rawType": "int64",
         "type": "integer"
        },
        {
         "name": "SK_ID_CURR",
         "rawType": "int64",
         "type": "integer"
        },
        {
         "name": "NAME_CONTRACT_TYPE",
         "rawType": "object",
         "type": "string"
        },
        {
         "name": "CODE_GENDER",
         "rawType": "object",
         "type": "string"
        },
        {
         "name": "CNT_CHILDREN",
         "rawType": "int64",
         "type": "integer"
        },
        {
         "name": "AMT_INCOME_TOTAL",
         "rawType": "float64",
         "type": "float"
        },
        {
         "name": "AMT_CREDIT",
         "rawType": "float64",
         "type": "float"
        },
        {
         "name": "AMT_ANNUITY",
         "rawType": "float64",
         "type": "float"
        },
        {
         "name": "AMT_GOODS_PRICE",
         "rawType": "float64",
         "type": "float"
        },
        {
         "name": "NAME_INCOME_TYPE",
         "rawType": "object",
         "type": "string"
        },
        {
         "name": "NAME_EDUCATION_TYPE",
         "rawType": "object",
         "type": "string"
        },
        {
         "name": "NAME_FAMILY_STATUS",
         "rawType": "object",
         "type": "string"
        },
        {
         "name": "NAME_HOUSING_TYPE",
         "rawType": "object",
         "type": "string"
        },
        {
         "name": "REGION_POPULATION_RELATIVE",
         "rawType": "float64",
         "type": "float"
        },
        {
         "name": "DAYS_BIRTH",
         "rawType": "int64",
         "type": "integer"
        },
        {
         "name": "DAYS_EMPLOYED",
         "rawType": "int64",
         "type": "integer"
        },
        {
         "name": "DAYS_REGISTRATION",
         "rawType": "float64",
         "type": "float"
        },
        {
         "name": "DAYS_ID_PUBLISH",
         "rawType": "int64",
         "type": "integer"
        },
        {
         "name": "OWN_CAR_AGE",
         "rawType": "float64",
         "type": "float"
        },
        {
         "name": "FLAG_MOBIL",
         "rawType": "int64",
         "type": "integer"
        },
        {
         "name": "FLAG_EMP_PHONE",
         "rawType": "int64",
         "type": "integer"
        },
        {
         "name": "FLAG_WORK_PHONE",
         "rawType": "int64",
         "type": "integer"
        },
        {
         "name": "OCCUPATION_TYPE",
         "rawType": "object",
         "type": "string"
        },
        {
         "name": "CNT_FAM_MEMBERS",
         "rawType": "float64",
         "type": "float"
        },
        {
         "name": "REGION_RATING_CLIENT",
         "rawType": "int64",
         "type": "integer"
        },
        {
         "name": "ORGANIZATION_TYPE",
         "rawType": "object",
         "type": "string"
        },
        {
         "name": "EXT_SOURCE_1",
         "rawType": "float64",
         "type": "float"
        },
        {
         "name": "EXT_SOURCE_2",
         "rawType": "float64",
         "type": "float"
        },
        {
         "name": "EXT_SOURCE_3",
         "rawType": "float64",
         "type": "float"
        },
        {
         "name": "DAYS_LAST_PHONE_CHANGE",
         "rawType": "float64",
         "type": "float"
        },
        {
         "name": "AMT_REQ_CREDIT_BUREAU_HOUR",
         "rawType": "float64",
         "type": "float"
        },
        {
         "name": "AMT_REQ_CREDIT_BUREAU_MON",
         "rawType": "float64",
         "type": "float"
        },
        {
         "name": "AMT_REQ_CREDIT_BUREAU_QRT",
         "rawType": "float64",
         "type": "float"
        },
        {
         "name": "AMT_REQ_CREDIT_BUREAU_YEAR",
         "rawType": "float64",
         "type": "float"
        }
       ],
       "conversionMethod": "pd.DataFrame",
       "ref": "ded59b8a-792f-48a8-a418-49b797171b07",
       "rows": [
        [
         "0",
         "171202",
         "Cash loans",
         "F",
         "1",
         "144000.0",
         "961146.0",
         "28233.0",
         "688500.0",
         "Working",
         "Higher education",
         "Married",
         "House / apartment",
         "0.025164",
         "-12108",
         "-2372",
         "-2446.0",
         "-3022",
         null,
         "1",
         "1",
         "0",
         "Medicine staff",
         "3.0",
         "2",
         "Kindergarten",
         null,
         "0.7204155832419394",
         null,
         "-1.0",
         null,
         null,
         null,
         null
        ],
        [
         "1",
         "171203",
         "Cash loans",
         "F",
         "0",
         "103500.0",
         "296280.0",
         "16069.5",
         "225000.0",
         "Working",
         "Secondary / secondary special",
         "Married",
         "House / apartment",
         "0.00702",
         "-17907",
         "-1712",
         "-10450.0",
         "-253",
         null,
         "1",
         "1",
         "1",
         "Cleaning staff",
         "2.0",
         "2",
         "School",
         null,
         "0.2873062585469742",
         null,
         "-212.0",
         null,
         null,
         null,
         null
        ],
        [
         "2",
         "171204",
         "Cash loans",
         "F",
         "1",
         "180000.0",
         "183694.5",
         "11236.5",
         "139500.0",
         "Commercial associate",
         "Secondary / secondary special",
         "Single / not married",
         "House / apartment",
         "0.006852",
         "-15221",
         "-553",
         "-1056.0",
         "-4495",
         null,
         "1",
         "1",
         "0",
         "Other",
         "2.0",
         "3",
         "Trade: type 7",
         null,
         "0.3524559579915555",
         "0.3893387918468769",
         "-428.0",
         "0.0",
         "1.0",
         "1.0",
         "1.0"
        ]
       ],
       "shape": {
        "columns": 33,
        "rows": 3
       }
      },
      "text/html": [
       "<div>\n",
       "<style scoped>\n",
       "    .dataframe tbody tr th:only-of-type {\n",
       "        vertical-align: middle;\n",
       "    }\n",
       "\n",
       "    .dataframe tbody tr th {\n",
       "        vertical-align: top;\n",
       "    }\n",
       "\n",
       "    .dataframe thead th {\n",
       "        text-align: right;\n",
       "    }\n",
       "</style>\n",
       "<table border=\"1\" class=\"dataframe\">\n",
       "  <thead>\n",
       "    <tr style=\"text-align: right;\">\n",
       "      <th></th>\n",
       "      <th>SK_ID_CURR</th>\n",
       "      <th>NAME_CONTRACT_TYPE</th>\n",
       "      <th>CODE_GENDER</th>\n",
       "      <th>CNT_CHILDREN</th>\n",
       "      <th>AMT_INCOME_TOTAL</th>\n",
       "      <th>AMT_CREDIT</th>\n",
       "      <th>AMT_ANNUITY</th>\n",
       "      <th>AMT_GOODS_PRICE</th>\n",
       "      <th>NAME_INCOME_TYPE</th>\n",
       "      <th>NAME_EDUCATION_TYPE</th>\n",
       "      <th>...</th>\n",
       "      <th>REGION_RATING_CLIENT</th>\n",
       "      <th>ORGANIZATION_TYPE</th>\n",
       "      <th>EXT_SOURCE_1</th>\n",
       "      <th>EXT_SOURCE_2</th>\n",
       "      <th>EXT_SOURCE_3</th>\n",
       "      <th>DAYS_LAST_PHONE_CHANGE</th>\n",
       "      <th>AMT_REQ_CREDIT_BUREAU_HOUR</th>\n",
       "      <th>AMT_REQ_CREDIT_BUREAU_MON</th>\n",
       "      <th>AMT_REQ_CREDIT_BUREAU_QRT</th>\n",
       "      <th>AMT_REQ_CREDIT_BUREAU_YEAR</th>\n",
       "    </tr>\n",
       "  </thead>\n",
       "  <tbody>\n",
       "    <tr>\n",
       "      <th>0</th>\n",
       "      <td>171202</td>\n",
       "      <td>Cash loans</td>\n",
       "      <td>F</td>\n",
       "      <td>1</td>\n",
       "      <td>144000.0</td>\n",
       "      <td>961146.0</td>\n",
       "      <td>28233.0</td>\n",
       "      <td>688500.0</td>\n",
       "      <td>Working</td>\n",
       "      <td>Higher education</td>\n",
       "      <td>...</td>\n",
       "      <td>2</td>\n",
       "      <td>Kindergarten</td>\n",
       "      <td>NaN</td>\n",
       "      <td>0.720416</td>\n",
       "      <td>NaN</td>\n",
       "      <td>-1.0</td>\n",
       "      <td>NaN</td>\n",
       "      <td>NaN</td>\n",
       "      <td>NaN</td>\n",
       "      <td>NaN</td>\n",
       "    </tr>\n",
       "    <tr>\n",
       "      <th>1</th>\n",
       "      <td>171203</td>\n",
       "      <td>Cash loans</td>\n",
       "      <td>F</td>\n",
       "      <td>0</td>\n",
       "      <td>103500.0</td>\n",
       "      <td>296280.0</td>\n",
       "      <td>16069.5</td>\n",
       "      <td>225000.0</td>\n",
       "      <td>Working</td>\n",
       "      <td>Secondary / secondary special</td>\n",
       "      <td>...</td>\n",
       "      <td>2</td>\n",
       "      <td>School</td>\n",
       "      <td>NaN</td>\n",
       "      <td>0.287306</td>\n",
       "      <td>NaN</td>\n",
       "      <td>-212.0</td>\n",
       "      <td>NaN</td>\n",
       "      <td>NaN</td>\n",
       "      <td>NaN</td>\n",
       "      <td>NaN</td>\n",
       "    </tr>\n",
       "    <tr>\n",
       "      <th>2</th>\n",
       "      <td>171204</td>\n",
       "      <td>Cash loans</td>\n",
       "      <td>F</td>\n",
       "      <td>1</td>\n",
       "      <td>180000.0</td>\n",
       "      <td>183694.5</td>\n",
       "      <td>11236.5</td>\n",
       "      <td>139500.0</td>\n",
       "      <td>Commercial associate</td>\n",
       "      <td>Secondary / secondary special</td>\n",
       "      <td>...</td>\n",
       "      <td>3</td>\n",
       "      <td>Trade: type 7</td>\n",
       "      <td>NaN</td>\n",
       "      <td>0.352456</td>\n",
       "      <td>0.389339</td>\n",
       "      <td>-428.0</td>\n",
       "      <td>0.0</td>\n",
       "      <td>1.0</td>\n",
       "      <td>1.0</td>\n",
       "      <td>1.0</td>\n",
       "    </tr>\n",
       "  </tbody>\n",
       "</table>\n",
       "<p>3 rows × 33 columns</p>\n",
       "</div>"
      ],
      "text/plain": [
       "   SK_ID_CURR NAME_CONTRACT_TYPE CODE_GENDER  CNT_CHILDREN  AMT_INCOME_TOTAL  \\\n",
       "0      171202         Cash loans           F             1          144000.0   \n",
       "1      171203         Cash loans           F             0          103500.0   \n",
       "2      171204         Cash loans           F             1          180000.0   \n",
       "\n",
       "   AMT_CREDIT  AMT_ANNUITY  AMT_GOODS_PRICE      NAME_INCOME_TYPE  \\\n",
       "0    961146.0      28233.0         688500.0               Working   \n",
       "1    296280.0      16069.5         225000.0               Working   \n",
       "2    183694.5      11236.5         139500.0  Commercial associate   \n",
       "\n",
       "             NAME_EDUCATION_TYPE  ... REGION_RATING_CLIENT ORGANIZATION_TYPE  \\\n",
       "0               Higher education  ...                    2      Kindergarten   \n",
       "1  Secondary / secondary special  ...                    2            School   \n",
       "2  Secondary / secondary special  ...                    3     Trade: type 7   \n",
       "\n",
       "   EXT_SOURCE_1  EXT_SOURCE_2  EXT_SOURCE_3  DAYS_LAST_PHONE_CHANGE  \\\n",
       "0           NaN      0.720416           NaN                    -1.0   \n",
       "1           NaN      0.287306           NaN                  -212.0   \n",
       "2           NaN      0.352456      0.389339                  -428.0   \n",
       "\n",
       "   AMT_REQ_CREDIT_BUREAU_HOUR  AMT_REQ_CREDIT_BUREAU_MON  \\\n",
       "0                         NaN                        NaN   \n",
       "1                         NaN                        NaN   \n",
       "2                         0.0                        1.0   \n",
       "\n",
       "   AMT_REQ_CREDIT_BUREAU_QRT  AMT_REQ_CREDIT_BUREAU_YEAR  \n",
       "0                        NaN                         NaN  \n",
       "1                        NaN                         NaN  \n",
       "2                        1.0                         1.0  \n",
       "\n",
       "[3 rows x 33 columns]"
      ]
     },
     "execution_count": 4,
     "metadata": {},
     "output_type": "execute_result"
    }
   ],
   "source": [
    "# Check test data\n",
    "print(f\"test shape: {test.shape}\")\n",
    "test.head(3)"
   ]
  },
  {
   "cell_type": "markdown",
   "metadata": {
    "id": "ISAjKWceCnmH"
   },
   "source": [
    "You can see that there are 30 types of features. In this notebook, we will not analyze all 30 types of features, but will focus on 5 types of features. When the number of features is large, as in this case, it would be difficult to perform analysis and preprocessing on all the features from the beginning. Therefore, it is easier to start with a small number of features with the goal of producing prediction results, and then increase the number of features to be handled. For the remaining 25 types of features, please refer to the previous materials and this NOTEBOOK, etc., and perform the analysis on your own.\n",
    "\n",
    "\n",
    "For the 5 types of features used, we have selected them so that we can explain the various processes."
   ]
  },
  {
   "cell_type": "code",
   "execution_count": 5,
   "metadata": {
    "id": "zCF0BZ2lCnmH"
   },
   "outputs": [],
   "source": [
    "# Focus on 5 features\n",
    "use_features = [\"NAME_CONTRACT_TYPE\", \"AMT_INCOME_TOTAL\", \"EXT_SOURCE_2\", \"OWN_CAR_AGE\", \"ORGANIZATION_TYPE\"]\n",
    "target = train[\"TARGET\"].values\n",
    "\n",
    "train = train[use_features]\n",
    "train[\"TARGET\"] = target\n",
    "test = test[use_features]"
   ]
  },
  {
   "cell_type": "markdown",
   "metadata": {
    "id": "5zCvRUOCCnmH"
   },
   "source": [
    "Let's check the data once again."
   ]
  },
  {
   "cell_type": "code",
   "execution_count": 6,
   "metadata": {
    "colab": {
     "base_uri": "https://localhost:8080/",
     "height": 162
    },
    "executionInfo": {
     "elapsed": 37,
     "status": "ok",
     "timestamp": 1740899690564,
     "user": {
      "displayName": "Hiroki Arashi",
      "userId": "11190395752703205632"
     },
     "user_tz": -540
    },
    "id": "X4IL84J-CnmI",
    "outputId": "a7a25db1-c40e-479e-a12f-419acbc69194"
   },
   "outputs": [
    {
     "name": "stdout",
     "output_type": "stream",
     "text": [
      "train shape: (171202, 6)\n"
     ]
    },
    {
     "data": {
      "application/vnd.microsoft.datawrangler.viewer.v0+json": {
       "columns": [
        {
         "name": "index",
         "rawType": "int64",
         "type": "integer"
        },
        {
         "name": "NAME_CONTRACT_TYPE",
         "rawType": "object",
         "type": "string"
        },
        {
         "name": "AMT_INCOME_TOTAL",
         "rawType": "float64",
         "type": "float"
        },
        {
         "name": "EXT_SOURCE_2",
         "rawType": "float64",
         "type": "float"
        },
        {
         "name": "OWN_CAR_AGE",
         "rawType": "float64",
         "type": "float"
        },
        {
         "name": "ORGANIZATION_TYPE",
         "rawType": "object",
         "type": "string"
        },
        {
         "name": "TARGET",
         "rawType": "int64",
         "type": "integer"
        }
       ],
       "conversionMethod": "pd.DataFrame",
       "ref": "d26d78cc-1b94-46ce-8550-b0280c0b2e04",
       "rows": [
        [
         "0",
         "Cash loans",
         "112500.0",
         "0.3725906530484186",
         null,
         "School",
         "0"
        ],
        [
         "1",
         "Cash loans",
         "225000.0",
         "0.4495669178425824",
         null,
         "XNA",
         "0"
        ],
        [
         "2",
         "Cash loans",
         "54000.0",
         "0.5695033488190875",
         null,
         "Postal",
         "0"
        ]
       ],
       "shape": {
        "columns": 6,
        "rows": 3
       }
      },
      "text/html": [
       "<div>\n",
       "<style scoped>\n",
       "    .dataframe tbody tr th:only-of-type {\n",
       "        vertical-align: middle;\n",
       "    }\n",
       "\n",
       "    .dataframe tbody tr th {\n",
       "        vertical-align: top;\n",
       "    }\n",
       "\n",
       "    .dataframe thead th {\n",
       "        text-align: right;\n",
       "    }\n",
       "</style>\n",
       "<table border=\"1\" class=\"dataframe\">\n",
       "  <thead>\n",
       "    <tr style=\"text-align: right;\">\n",
       "      <th></th>\n",
       "      <th>NAME_CONTRACT_TYPE</th>\n",
       "      <th>AMT_INCOME_TOTAL</th>\n",
       "      <th>EXT_SOURCE_2</th>\n",
       "      <th>OWN_CAR_AGE</th>\n",
       "      <th>ORGANIZATION_TYPE</th>\n",
       "      <th>TARGET</th>\n",
       "    </tr>\n",
       "  </thead>\n",
       "  <tbody>\n",
       "    <tr>\n",
       "      <th>0</th>\n",
       "      <td>Cash loans</td>\n",
       "      <td>112500.0</td>\n",
       "      <td>0.372591</td>\n",
       "      <td>NaN</td>\n",
       "      <td>School</td>\n",
       "      <td>0</td>\n",
       "    </tr>\n",
       "    <tr>\n",
       "      <th>1</th>\n",
       "      <td>Cash loans</td>\n",
       "      <td>225000.0</td>\n",
       "      <td>0.449567</td>\n",
       "      <td>NaN</td>\n",
       "      <td>XNA</td>\n",
       "      <td>0</td>\n",
       "    </tr>\n",
       "    <tr>\n",
       "      <th>2</th>\n",
       "      <td>Cash loans</td>\n",
       "      <td>54000.0</td>\n",
       "      <td>0.569503</td>\n",
       "      <td>NaN</td>\n",
       "      <td>Postal</td>\n",
       "      <td>0</td>\n",
       "    </tr>\n",
       "  </tbody>\n",
       "</table>\n",
       "</div>"
      ],
      "text/plain": [
       "  NAME_CONTRACT_TYPE  AMT_INCOME_TOTAL  EXT_SOURCE_2  OWN_CAR_AGE  \\\n",
       "0         Cash loans          112500.0      0.372591          NaN   \n",
       "1         Cash loans          225000.0      0.449567          NaN   \n",
       "2         Cash loans           54000.0      0.569503          NaN   \n",
       "\n",
       "  ORGANIZATION_TYPE  TARGET  \n",
       "0            School       0  \n",
       "1               XNA       0  \n",
       "2            Postal       0  "
      ]
     },
     "execution_count": 6,
     "metadata": {},
     "output_type": "execute_result"
    }
   ],
   "source": [
    "# Check train data\n",
    "print(f\"train shape: {train.shape}\")\n",
    "train.head(3)"
   ]
  },
  {
   "cell_type": "code",
   "execution_count": 7,
   "metadata": {
    "colab": {
     "base_uri": "https://localhost:8080/",
     "height": 162
    },
    "executionInfo": {
     "elapsed": 171,
     "status": "ok",
     "timestamp": 1740899693134,
     "user": {
      "displayName": "Hiroki Arashi",
      "userId": "11190395752703205632"
     },
     "user_tz": -540
    },
    "id": "ns__iaZ3CnmI",
    "outputId": "b0f91836-6a5d-4b41-bfc4-81d9d079c42a"
   },
   "outputs": [
    {
     "name": "stdout",
     "output_type": "stream",
     "text": [
      "test shape: (61500, 5)\n"
     ]
    },
    {
     "data": {
      "application/vnd.microsoft.datawrangler.viewer.v0+json": {
       "columns": [
        {
         "name": "index",
         "rawType": "int64",
         "type": "integer"
        },
        {
         "name": "NAME_CONTRACT_TYPE",
         "rawType": "object",
         "type": "string"
        },
        {
         "name": "AMT_INCOME_TOTAL",
         "rawType": "float64",
         "type": "float"
        },
        {
         "name": "EXT_SOURCE_2",
         "rawType": "float64",
         "type": "float"
        },
        {
         "name": "OWN_CAR_AGE",
         "rawType": "float64",
         "type": "float"
        },
        {
         "name": "ORGANIZATION_TYPE",
         "rawType": "object",
         "type": "string"
        }
       ],
       "conversionMethod": "pd.DataFrame",
       "ref": "0abcf468-6c6e-4bac-b1ce-e98d0e599b2d",
       "rows": [
        [
         "0",
         "Cash loans",
         "144000.0",
         "0.7204155832419394",
         null,
         "Kindergarten"
        ],
        [
         "1",
         "Cash loans",
         "103500.0",
         "0.2873062585469742",
         null,
         "School"
        ],
        [
         "2",
         "Cash loans",
         "180000.0",
         "0.3524559579915555",
         null,
         "Trade: type 7"
        ]
       ],
       "shape": {
        "columns": 5,
        "rows": 3
       }
      },
      "text/html": [
       "<div>\n",
       "<style scoped>\n",
       "    .dataframe tbody tr th:only-of-type {\n",
       "        vertical-align: middle;\n",
       "    }\n",
       "\n",
       "    .dataframe tbody tr th {\n",
       "        vertical-align: top;\n",
       "    }\n",
       "\n",
       "    .dataframe thead th {\n",
       "        text-align: right;\n",
       "    }\n",
       "</style>\n",
       "<table border=\"1\" class=\"dataframe\">\n",
       "  <thead>\n",
       "    <tr style=\"text-align: right;\">\n",
       "      <th></th>\n",
       "      <th>NAME_CONTRACT_TYPE</th>\n",
       "      <th>AMT_INCOME_TOTAL</th>\n",
       "      <th>EXT_SOURCE_2</th>\n",
       "      <th>OWN_CAR_AGE</th>\n",
       "      <th>ORGANIZATION_TYPE</th>\n",
       "    </tr>\n",
       "  </thead>\n",
       "  <tbody>\n",
       "    <tr>\n",
       "      <th>0</th>\n",
       "      <td>Cash loans</td>\n",
       "      <td>144000.0</td>\n",
       "      <td>0.720416</td>\n",
       "      <td>NaN</td>\n",
       "      <td>Kindergarten</td>\n",
       "    </tr>\n",
       "    <tr>\n",
       "      <th>1</th>\n",
       "      <td>Cash loans</td>\n",
       "      <td>103500.0</td>\n",
       "      <td>0.287306</td>\n",
       "      <td>NaN</td>\n",
       "      <td>School</td>\n",
       "    </tr>\n",
       "    <tr>\n",
       "      <th>2</th>\n",
       "      <td>Cash loans</td>\n",
       "      <td>180000.0</td>\n",
       "      <td>0.352456</td>\n",
       "      <td>NaN</td>\n",
       "      <td>Trade: type 7</td>\n",
       "    </tr>\n",
       "  </tbody>\n",
       "</table>\n",
       "</div>"
      ],
      "text/plain": [
       "  NAME_CONTRACT_TYPE  AMT_INCOME_TOTAL  EXT_SOURCE_2  OWN_CAR_AGE  \\\n",
       "0         Cash loans          144000.0      0.720416          NaN   \n",
       "1         Cash loans          103500.0      0.287306          NaN   \n",
       "2         Cash loans          180000.0      0.352456          NaN   \n",
       "\n",
       "  ORGANIZATION_TYPE  \n",
       "0      Kindergarten  \n",
       "1            School  \n",
       "2     Trade: type 7  "
      ]
     },
     "execution_count": 7,
     "metadata": {},
     "output_type": "execute_result"
    }
   ],
   "source": [
    "# Check test data\n",
    "print(f\"test shape: {test.shape}\")\n",
    "test.head(3)"
   ]
  },
  {
   "cell_type": "markdown",
   "metadata": {
    "id": "Ooo0LA-2CnmI"
   },
   "source": [
    "### 1.2 Visualization and analysis(EDA)\n",
    "Next, we will visualize and analyze the data. In this work, we deepen our understanding of the data by checking the distribution of feature values, missing values, outliers, correlations, and so on. The results of the analysis obtained at this stage are used for preprocessing, feature creation, and selection of machine learning models, which are important tasks that will greatly affect the final forecast."
   ]
  },
  {
   "cell_type": "markdown",
   "metadata": {
    "id": "9tnoSfzvCnmJ"
   },
   "source": [
    "#### 1.2.1 Checking missing values\n",
    "In this section, we check for missing values.\n",
    "Most machine learning models cannot be trained on data with missing values. Therefore, we must fill in the missing values with some value, so we always check for missing values."
   ]
  },
  {
   "cell_type": "code",
   "execution_count": 8,
   "metadata": {
    "colab": {
     "base_uri": "https://localhost:8080/",
     "height": 272
    },
    "executionInfo": {
     "elapsed": 120,
     "status": "ok",
     "timestamp": 1740899696030,
     "user": {
      "displayName": "Hiroki Arashi",
      "userId": "11190395752703205632"
     },
     "user_tz": -540
    },
    "id": "10WA5hRBCnmJ",
    "outputId": "7b691dad-8f4d-488e-95c3-6fdca181db20"
   },
   "outputs": [
    {
     "data": {
      "text/plain": [
       "NAME_CONTRACT_TYPE         0\n",
       "AMT_INCOME_TOTAL           0\n",
       "EXT_SOURCE_2             369\n",
       "OWN_CAR_AGE           112992\n",
       "ORGANIZATION_TYPE          0\n",
       "TARGET                     0\n",
       "dtype: int64"
      ]
     },
     "execution_count": 8,
     "metadata": {},
     "output_type": "execute_result"
    }
   ],
   "source": [
    "# Check missing values of train data\n",
    "train.isnull().sum()"
   ]
  },
  {
   "cell_type": "code",
   "execution_count": 9,
   "metadata": {
    "colab": {
     "base_uri": "https://localhost:8080/",
     "height": 241
    },
    "executionInfo": {
     "elapsed": 93,
     "status": "ok",
     "timestamp": 1740899698739,
     "user": {
      "displayName": "Hiroki Arashi",
      "userId": "11190395752703205632"
     },
     "user_tz": -540
    },
    "id": "3Y7FVExVCnmJ",
    "outputId": "7d664e2a-0753-42f6-babb-3c9fdce75367"
   },
   "outputs": [
    {
     "data": {
      "text/plain": [
       "NAME_CONTRACT_TYPE        0\n",
       "AMT_INCOME_TOTAL          0\n",
       "EXT_SOURCE_2            130\n",
       "OWN_CAR_AGE           40909\n",
       "ORGANIZATION_TYPE         0\n",
       "dtype: int64"
      ]
     },
     "execution_count": 9,
     "metadata": {},
     "output_type": "execute_result"
    }
   ],
   "source": [
    "# Check missing values of test data\n",
    "test.isnull().sum()"
   ]
  },
  {
   "cell_type": "markdown",
   "metadata": {
    "id": "Erj6eK80CnmJ"
   },
   "source": [
    "We found that there are missing values in EXT_SOURCE_2 and OWN_CAR_AGE. We will deal with these missing values later. Of course, there is a possibility that there are missing values for other features that we are not covering here, so please check them by yourself."
   ]
  },
  {
   "cell_type": "markdown",
   "metadata": {
    "id": "PHtdHORMCnmJ"
   },
   "source": [
    "#### 1.2.2 Visualization and analysis of each feature\n",
    "In this section, each feature is visualized and analyzed to see what kind of characteristics it has."
   ]
  },
  {
   "cell_type": "code",
   "execution_count": 10,
   "metadata": {
    "colab": {
     "base_uri": "https://localhost:8080/",
     "height": 449
    },
    "executionInfo": {
     "elapsed": 680,
     "status": "ok",
     "timestamp": 1740899704847,
     "user": {
      "displayName": "Hiroki Arashi",
      "userId": "11190395752703205632"
     },
     "user_tz": -540
    },
    "id": "EYRYwJ_LCnmK",
    "outputId": "9bf1f975-97c6-4104-c15a-8ab064882a17"
   },
   "outputs": [
    {
     "data": {
      "image/png": "[encoded data removed]",
      "text/plain": [
       "<Figure size 640x480 with 1 Axes>"
      ]
     },
     "metadata": {},
     "output_type": "display_data"
    }
   ],
   "source": [
    "# The distribution of the target (default or not)\n",
    "sns.countplot(data=train, x=\"TARGET\")\n",
    "plt.show()"
   ]
  },
  {
   "cell_type": "markdown",
   "metadata": {
    "id": "cw4sq8rSCnmK"
   },
   "source": [
    "We can see that the distribution of the objective variable is highly skewed. Data in which the distribution of the objective variable is highly skewed in this way is called unbalanced data.\n",
    "\n",
    "\n",
    "When dealing with unbalanced data, we need to be particularly careful in selecting evaluation indices. For example, if you choose the correct response rate (Accuracy) as the evaluation indicator this time, you will find that simply predicting all zeros will result in a high correct response rate. Choosing such an inappropriate metric can cause the machine learning model to fail to learn well.\n",
    "\n",
    "Another approach to dealing with unbalanced data is to try to balance the distribution of the objective variable. The method of reducing the data of the larger objective variable is called undersampling, while the method of increasing the data of the smaller objective variable is called oversampling."
   ]
  },
  {
   "cell_type": "code",
   "execution_count": 11,
   "metadata": {
    "colab": {
     "base_uri": "https://localhost:8080/",
     "height": 449
    },
    "executionInfo": {
     "elapsed": 916,
     "status": "ok",
     "timestamp": 1740899708024,
     "user": {
      "displayName": "Hiroki Arashi",
      "userId": "11190395752703205632"
     },
     "user_tz": -540
    },
    "id": "8wz_F_PbCnmK",
    "outputId": "061116b3-c12a-43cb-ba84-64f41f5d7364"
   },
   "outputs": [
    {
     "data": {
      "image/png": "[encoded data removed]",
      "text/plain": [
       "<Figure size 640x480 with 1 Axes>"
      ]
     },
     "metadata": {},
     "output_type": "display_data"
    }
   ],
   "source": [
    "# The distribution of NAME_CONTRACT_TYPE\n",
    "sns.countplot(data=train, x=\"NAME_CONTRACT_TYPE\")\n",
    "plt.show()"
   ]
  },
  {
   "cell_type": "markdown",
   "metadata": {
    "id": "_CLL0KhFCnmL"
   },
   "source": [
    "There are two variables in NAME_CONTRACT_TYPE, Cash loans and Revolving loans, but they are not evenly distributed. Also, since the machine learning model can only handle data of numeric type, it is necessary to convert the data from string type to numeric type."
   ]
  },
  {
   "cell_type": "code",
   "execution_count": 12,
   "metadata": {
    "colab": {
     "base_uri": "https://localhost:8080/",
     "height": 486
    },
    "executionInfo": {
     "elapsed": 1214,
     "status": "ok",
     "timestamp": 1740899711962,
     "user": {
      "displayName": "Hiroki Arashi",
      "userId": "11190395752703205632"
     },
     "user_tz": -540
    },
    "id": "f5sFv7BPCnmL",
    "outputId": "dc2897d8-5821-4a76-a8b9-4b9b89fc9bd7"
   },
   "outputs": [
    {
     "data": {
      "image/png": "[encoded data removed]",
      "text/plain": [
       "<Figure size 3000x1000 with 1 Axes>"
      ]
     },
     "metadata": {},
     "output_type": "display_data"
    }
   ],
   "source": [
    "# The distribution of ORGANIZATION_TYPE\n",
    "plt.figure(figsize=(30, 10))\n",
    "sns.countplot(data=train, x=\"ORGANIZATION_TYPE\")\n",
    "plt.tick_params(axis=\"x\", rotation=90)\n",
    "plt.show()"
   ]
  },
  {
   "cell_type": "markdown",
   "metadata": {
    "id": "Rt51YzxOCnmL"
   },
   "source": [
    "There are many different ORGANIZATION_TYPEs, and you can also see that there is an ununiformity in the number of data. This is also a string type feature, so it needs to be converted to a numeric type. Also, the second variable from the left is “XNA,” which we can infer from its name to be a missing value.\n"
   ]
  },
  {
   "cell_type": "code",
   "execution_count": 13,
   "metadata": {
    "colab": {
     "base_uri": "https://localhost:8080/",
     "height": 506
    },
    "executionInfo": {
     "elapsed": 563,
     "status": "ok",
     "timestamp": 1740899716061,
     "user": {
      "displayName": "Hiroki Arashi",
      "userId": "11190395752703205632"
     },
     "user_tz": -540
    },
    "id": "ZVlLRi4TCnmL",
    "outputId": "193c4f33-66db-4596-d4fa-55118fc65cf9"
   },
   "outputs": [
    {
     "data": {
      "image/png": "[encoded data removed]",
      "text/plain": [
       "<Figure size 500x500 with 1 Axes>"
      ]
     },
     "metadata": {},
     "output_type": "display_data"
    }
   ],
   "source": [
    "# The distribution of EXT_SOURCE_2\n",
    "sns.displot(data=train, x=\"EXT_SOURCE_2\")\n",
    "plt.show()"
   ]
  },
  {
   "cell_type": "markdown",
   "metadata": {
    "id": "RaEXl1zICnmM"
   },
   "source": [
    "We can see that EXT_SOURCE_2 is normalized between 0 and 1. It seems we can handle this feature as it is."
   ]
  },
  {
   "cell_type": "code",
   "execution_count": 14,
   "metadata": {
    "colab": {
     "base_uri": "https://localhost:8080/",
     "height": 506
    },
    "executionInfo": {
     "elapsed": 7305,
     "status": "ok",
     "timestamp": 1740899725567,
     "user": {
      "displayName": "Hiroki Arashi",
      "userId": "11190395752703205632"
     },
     "user_tz": -540
    },
    "id": "2WwsHs0JCnmM",
    "outputId": "d030063f-75fd-4bcc-fcbe-ea2a555a216d"
   },
   "outputs": [
    {
     "data": {
      "image/png": "[encoded data removed]",
      "text/plain": [
       "<Figure size 500x500 with 1 Axes>"
      ]
     },
     "metadata": {},
     "output_type": "display_data"
    }
   ],
   "source": [
    "# The distribution of AMT_INCOME_TOTAL\n",
    "sns.displot(data=train, x=\"AMT_INCOME_TOTAL\")\n",
    "plt.show()"
   ]
  },
  {
   "cell_type": "markdown",
   "metadata": {
    "id": "JQbzv0D8CnmM"
   },
   "source": [
    "AMT_INCOME_TOTAL does not graph well when visualized as usual. In such cases, the cause may be the presence of a small number of outliers that take large values. If you wish to visualize data like this, a logarithmic transformation can be performed to successfully display the graph."
   ]
  },
  {
   "cell_type": "code",
   "execution_count": 15,
   "metadata": {
    "colab": {
     "base_uri": "https://localhost:8080/",
     "height": 506
    },
    "executionInfo": {
     "elapsed": 1052,
     "status": "ok",
     "timestamp": 1740899731219,
     "user": {
      "displayName": "Hiroki Arashi",
      "userId": "11190395752703205632"
     },
     "user_tz": -540
    },
    "id": "kgeKevDMCnmM",
    "outputId": "ceeeb555-df76-4393-9fbe-4a0575ca2618"
   },
   "outputs": [
    {
     "data": {
      "image/png": "[encoded data removed]",
      "text/plain": [
       "<Figure size 500x500 with 1 Axes>"
      ]
     },
     "metadata": {},
     "output_type": "display_data"
    }
   ],
   "source": [
    "# The distribution of AMT_INCOME_TOTAL（Logarithmic transformation）\n",
    "sns.displot(data=train, x=\"AMT_INCOME_TOTAL\", log_scale=10)\n",
    "plt.show()"
   ]
  },
  {
   "cell_type": "markdown",
   "metadata": {
    "id": "j4r3xGRMCnmM"
   },
   "source": [
    "We displayed the graph successfully by using logarithmic transformation.\n",
    "The income is supposed to be a continuous value, but it looks like a discrete value. Let's have a look at the type of AMT_INCOME_TOTAL values."
   ]
  },
  {
   "cell_type": "code",
   "execution_count": 16,
   "metadata": {
    "colab": {
     "base_uri": "https://localhost:8080/"
    },
    "executionInfo": {
     "elapsed": 49,
     "status": "ok",
     "timestamp": 1740899737275,
     "user": {
      "displayName": "Hiroki Arashi",
      "userId": "11190395752703205632"
     },
     "user_tz": -540
    },
    "id": "hWDiKd98CnmM",
    "outputId": "6d3d16fc-5284-4a42-8eb2-da389059839f"
   },
   "outputs": [
    {
     "data": {
      "text/plain": [
       "1641"
      ]
     },
     "execution_count": 16,
     "metadata": {},
     "output_type": "execute_result"
    }
   ],
   "source": [
    "# Check the type of AMT_INCOME_TOTAL values\n",
    "len(train[\"AMT_INCOME_TOTAL\"].unique())"
   ]
  },
  {
   "cell_type": "markdown",
   "metadata": {
    "id": "3VcQ-MEBCnmN"
   },
   "source": [
    "There are 171202 data in train, but AMT_INCOME_TOTAL consists of only 1641 different values. Let's check the top 10 values specifically."
   ]
  },
  {
   "cell_type": "code",
   "execution_count": 17,
   "metadata": {
    "colab": {
     "base_uri": "https://localhost:8080/",
     "height": 429
    },
    "executionInfo": {
     "elapsed": 9,
     "status": "ok",
     "timestamp": 1740899738793,
     "user": {
      "displayName": "Hiroki Arashi",
      "userId": "11190395752703205632"
     },
     "user_tz": -540
    },
    "id": "s8mETFkCCnmN",
    "outputId": "96a61f11-59fb-4622-8153-16a1902c58ee"
   },
   "outputs": [
    {
     "data": {
      "text/plain": [
       "AMT_INCOME_TOTAL\n",
       "135000.0    19969\n",
       "112500.0    17320\n",
       "157500.0    14772\n",
       "180000.0    13791\n",
       "90000.0     12481\n",
       "225000.0    11573\n",
       "202500.0     9128\n",
       "67500.0      6130\n",
       "270000.0     6006\n",
       "81000.0      3295\n",
       "Name: count, dtype: int64"
      ]
     },
     "execution_count": 17,
     "metadata": {},
     "output_type": "execute_result"
    }
   ],
   "source": [
    "# Top 10 values of AMT_INCOME_TOTAL\n",
    "train[\"AMT_INCOME_TOTAL\"].value_counts().head(10)"
   ]
  },
  {
   "cell_type": "markdown",
   "metadata": {
    "id": "82L-z5gQCnmN"
   },
   "source": [
    "It appears that AMT_INCOME_TOTAL is not an exact annual income, but rather data compiled from a rounded number."
   ]
  },
  {
   "cell_type": "code",
   "execution_count": 18,
   "metadata": {
    "colab": {
     "base_uri": "https://localhost:8080/",
     "height": 506
    },
    "executionInfo": {
     "elapsed": 650,
     "status": "ok",
     "timestamp": 1740899742228,
     "user": {
      "displayName": "Hiroki Arashi",
      "userId": "11190395752703205632"
     },
     "user_tz": -540
    },
    "id": "bXBlabmLCnmN",
    "outputId": "c62dfcac-86ef-4e55-b8d5-7b61eb78af25"
   },
   "outputs": [
    {
     "data": {
      "image/png": "[encoded data removed]",
      "text/plain": [
       "<Figure size 500x500 with 1 Axes>"
      ]
     },
     "metadata": {},
     "output_type": "display_data"
    }
   ],
   "source": [
    "# The distribution of OWN_CAR_AGE\n",
    "sns.displot(data=train, x=\"OWN_CAR_AGE\")\n",
    "plt.show()"
   ]
  },
  {
   "cell_type": "markdown",
   "metadata": {
    "id": "LheIcW5LCnmN"
   },
   "source": [
    "OWN_CAR_AGE can be inferred to be in years from the scale of values. In addition, the distribution is natural from 0 to 40, but there is an unnatural distribution around 60 to 70. It is hard to imagine that the number of years a car has been purchased increases suddenly like this, so they are considered to be outliers."
   ]
  },
  {
   "cell_type": "markdown",
   "metadata": {
    "id": "kl23q2zgCnmN"
   },
   "source": [
    "Up to this point, we have visualized and analyzed each feature. I believe that you have realized that visualization requires some ingenuity and that visualization can deepen your understanding of data. I am sure that the visualization and analysis of the 25 features not covered here will lead to improved forecasting accuracy."
   ]
  },
  {
   "cell_type": "markdown",
   "metadata": {
    "id": "rsPYkguwCnmO"
   },
   "source": [
    "## 2. Preprocessing and feature creation\n",
    "Here, we will conduct the preprocessing and create new features based on what we have learned in the preceding visualization and analysis."
   ]
  },
  {
   "cell_type": "markdown",
   "metadata": {
    "id": "z0cPsOyMCnmO"
   },
   "source": [
    "Complete missing values in EXT_SOURCE_2. There are various methods for completing missing values, but in this case, since the number of missing values is small, we simply use the average value to complete the missing values."
   ]
  },
  {
   "cell_type": "code",
   "execution_count": 19,
   "metadata": {
    "colab": {
     "base_uri": "https://localhost:8080/",
     "height": 272
    },
    "executionInfo": {
     "elapsed": 41,
     "status": "ok",
     "timestamp": 1740899744984,
     "user": {
      "displayName": "Hiroki Arashi",
      "userId": "11190395752703205632"
     },
     "user_tz": -540
    },
    "id": "yO-iJnwLCnmO",
    "outputId": "ea2055a5-5822-452f-979c-2a7f3718b568"
   },
   "outputs": [
    {
     "data": {
      "text/plain": [
       "NAME_CONTRACT_TYPE         0\n",
       "AMT_INCOME_TOTAL           0\n",
       "EXT_SOURCE_2               0\n",
       "OWN_CAR_AGE           112992\n",
       "ORGANIZATION_TYPE          0\n",
       "TARGET                     0\n",
       "dtype: int64"
      ]
     },
     "execution_count": 19,
     "metadata": {},
     "output_type": "execute_result"
    }
   ],
   "source": [
    "# Complete missing values of EXT_SOURCE_2 with the average\n",
    "train[\"EXT_SOURCE_2\"].fillna(train[\"EXT_SOURCE_2\"].mean(), inplace=True)\n",
    "test[\"EXT_SOURCE_2\"].fillna(train[\"EXT_SOURCE_2\"].mean(), inplace=True)\n",
    "\n",
    "train.isnull().sum()"
   ]
  },
  {
   "cell_type": "markdown",
   "metadata": {
    "id": "DL54Ws3zCnmO"
   },
   "source": [
    "Convert NAME_CONTRACT_TYPE to a numeric type. In this case, “Cash loans” is converted to 0 and “Revolving loans” to 1. This method of simply replacing an integer is called Label Encoding."
   ]
  },
  {
   "cell_type": "code",
   "execution_count": 20,
   "metadata": {
    "colab": {
     "base_uri": "https://localhost:8080/",
     "height": 206
    },
    "executionInfo": {
     "elapsed": 112,
     "status": "ok",
     "timestamp": 1740899747255,
     "user": {
      "displayName": "Hiroki Arashi",
      "userId": "11190395752703205632"
     },
     "user_tz": -540
    },
    "id": "2C_JEPadCnmO",
    "outputId": "0abeaa73-ddb8-47fb-9229-07bc48f33c5e"
   },
   "outputs": [
    {
     "data": {
      "application/vnd.microsoft.datawrangler.viewer.v0+json": {
       "columns": [
        {
         "name": "index",
         "rawType": "int64",
         "type": "integer"
        },
        {
         "name": "NAME_CONTRACT_TYPE",
         "rawType": "int64",
         "type": "integer"
        },
        {
         "name": "AMT_INCOME_TOTAL",
         "rawType": "float64",
         "type": "float"
        },
        {
         "name": "EXT_SOURCE_2",
         "rawType": "float64",
         "type": "float"
        },
        {
         "name": "OWN_CAR_AGE",
         "rawType": "float64",
         "type": "float"
        },
        {
         "name": "ORGANIZATION_TYPE",
         "rawType": "object",
         "type": "string"
        },
        {
         "name": "TARGET",
         "rawType": "int64",
         "type": "integer"
        }
       ],
       "conversionMethod": "pd.DataFrame",
       "ref": "4caeccb6-c6ce-48c3-8474-40b6d3d7bd71",
       "rows": [
        [
         "0",
         "0",
         "112500.0",
         "0.3725906530484186",
         null,
         "School",
         "0"
        ],
        [
         "1",
         "0",
         "225000.0",
         "0.4495669178425824",
         null,
         "XNA",
         "0"
        ],
        [
         "2",
         "0",
         "54000.0",
         "0.5695033488190875",
         null,
         "Postal",
         "0"
        ],
        [
         "3",
         "0",
         "67500.0",
         "0.105234586461568",
         null,
         "XNA",
         "0"
        ],
        [
         "4",
         "0",
         "157500.0",
         "0.2024897204486028",
         null,
         "Business Entity Type 3",
         "1"
        ]
       ],
       "shape": {
        "columns": 6,
        "rows": 5
       }
      },
      "text/html": [
       "<div>\n",
       "<style scoped>\n",
       "    .dataframe tbody tr th:only-of-type {\n",
       "        vertical-align: middle;\n",
       "    }\n",
       "\n",
       "    .dataframe tbody tr th {\n",
       "        vertical-align: top;\n",
       "    }\n",
       "\n",
       "    .dataframe thead th {\n",
       "        text-align: right;\n",
       "    }\n",
       "</style>\n",
       "<table border=\"1\" class=\"dataframe\">\n",
       "  <thead>\n",
       "    <tr style=\"text-align: right;\">\n",
       "      <th></th>\n",
       "      <th>NAME_CONTRACT_TYPE</th>\n",
       "      <th>AMT_INCOME_TOTAL</th>\n",
       "      <th>EXT_SOURCE_2</th>\n",
       "      <th>OWN_CAR_AGE</th>\n",
       "      <th>ORGANIZATION_TYPE</th>\n",
       "      <th>TARGET</th>\n",
       "    </tr>\n",
       "  </thead>\n",
       "  <tbody>\n",
       "    <tr>\n",
       "      <th>0</th>\n",
       "      <td>0</td>\n",
       "      <td>112500.0</td>\n",
       "      <td>0.372591</td>\n",
       "      <td>NaN</td>\n",
       "      <td>School</td>\n",
       "      <td>0</td>\n",
       "    </tr>\n",
       "    <tr>\n",
       "      <th>1</th>\n",
       "      <td>0</td>\n",
       "      <td>225000.0</td>\n",
       "      <td>0.449567</td>\n",
       "      <td>NaN</td>\n",
       "      <td>XNA</td>\n",
       "      <td>0</td>\n",
       "    </tr>\n",
       "    <tr>\n",
       "      <th>2</th>\n",
       "      <td>0</td>\n",
       "      <td>54000.0</td>\n",
       "      <td>0.569503</td>\n",
       "      <td>NaN</td>\n",
       "      <td>Postal</td>\n",
       "      <td>0</td>\n",
       "    </tr>\n",
       "    <tr>\n",
       "      <th>3</th>\n",
       "      <td>0</td>\n",
       "      <td>67500.0</td>\n",
       "      <td>0.105235</td>\n",
       "      <td>NaN</td>\n",
       "      <td>XNA</td>\n",
       "      <td>0</td>\n",
       "    </tr>\n",
       "    <tr>\n",
       "      <th>4</th>\n",
       "      <td>0</td>\n",
       "      <td>157500.0</td>\n",
       "      <td>0.202490</td>\n",
       "      <td>NaN</td>\n",
       "      <td>Business Entity Type 3</td>\n",
       "      <td>1</td>\n",
       "    </tr>\n",
       "  </tbody>\n",
       "</table>\n",
       "</div>"
      ],
      "text/plain": [
       "   NAME_CONTRACT_TYPE  AMT_INCOME_TOTAL  EXT_SOURCE_2  OWN_CAR_AGE  \\\n",
       "0                   0          112500.0      0.372591          NaN   \n",
       "1                   0          225000.0      0.449567          NaN   \n",
       "2                   0           54000.0      0.569503          NaN   \n",
       "3                   0           67500.0      0.105235          NaN   \n",
       "4                   0          157500.0      0.202490          NaN   \n",
       "\n",
       "        ORGANIZATION_TYPE  TARGET  \n",
       "0                  School       0  \n",
       "1                     XNA       0  \n",
       "2                  Postal       0  \n",
       "3                     XNA       0  \n",
       "4  Business Entity Type 3       1  "
      ]
     },
     "execution_count": 20,
     "metadata": {},
     "output_type": "execute_result"
    }
   ],
   "source": [
    "# Numerization of NAME_CONTRACT_TYPE（Label Encoding）\n",
    "train[\"NAME_CONTRACT_TYPE\"].replace({'Cash loans': 0, 'Revolving loans': 1}, inplace=True)\n",
    "test[\"NAME_CONTRACT_TYPE\"].replace({'Cash loans': 0, 'Revolving loans': 1}, inplace=True)\n",
    "\n",
    "train.head(5)"
   ]
  },
  {
   "cell_type": "markdown",
   "metadata": {
    "id": "j1OpbA-yCnmO"
   },
   "source": [
    "Convert ORGANIZATION_TYPE to a numeric type. This time, we will convert the variable to numeric in terms of the number of data in the variable. For example, if the number of data in “Police” is 1279 and the number of data in “Bank” is 1385, convert “Police” to 1279 and “Bank” to 1385. This method of replacing the number of data with the number of data is called Count Encoding."
   ]
  },
  {
   "cell_type": "code",
   "execution_count": 21,
   "metadata": {
    "colab": {
     "base_uri": "https://localhost:8080/",
     "height": 206
    },
    "executionInfo": {
     "elapsed": 84,
     "status": "ok",
     "timestamp": 1740899749417,
     "user": {
      "displayName": "Hiroki Arashi",
      "userId": "11190395752703205632"
     },
     "user_tz": -540
    },
    "id": "kLJPuILuCnmO",
    "outputId": "fcb9931c-67f9-4f1a-faf2-eacc858d9a53"
   },
   "outputs": [
    {
     "data": {
      "application/vnd.microsoft.datawrangler.viewer.v0+json": {
       "columns": [
        {
         "name": "index",
         "rawType": "int64",
         "type": "integer"
        },
        {
         "name": "NAME_CONTRACT_TYPE",
         "rawType": "int64",
         "type": "integer"
        },
        {
         "name": "AMT_INCOME_TOTAL",
         "rawType": "float64",
         "type": "float"
        },
        {
         "name": "EXT_SOURCE_2",
         "rawType": "float64",
         "type": "float"
        },
        {
         "name": "OWN_CAR_AGE",
         "rawType": "float64",
         "type": "float"
        },
        {
         "name": "ORGANIZATION_TYPE",
         "rawType": "int64",
         "type": "integer"
        },
        {
         "name": "TARGET",
         "rawType": "int64",
         "type": "integer"
        }
       ],
       "conversionMethod": "pd.DataFrame",
       "ref": "7b3d0af0-b274-4ed0-a8c0-fadc372aad73",
       "rows": [
        [
         "0",
         "0",
         "112500.0",
         "0.3725906530484186",
         null,
         "4991",
         "0"
        ],
        [
         "1",
         "0",
         "225000.0",
         "0.4495669178425824",
         null,
         "30898",
         "0"
        ],
        [
         "2",
         "0",
         "54000.0",
         "0.5695033488190875",
         null,
         "1185",
         "0"
        ],
        [
         "3",
         "0",
         "67500.0",
         "0.105234586461568",
         null,
         "30898",
         "0"
        ],
        [
         "4",
         "0",
         "157500.0",
         "0.2024897204486028",
         null,
         "37943",
         "1"
        ]
       ],
       "shape": {
        "columns": 6,
        "rows": 5
       }
      },
      "text/html": [
       "<div>\n",
       "<style scoped>\n",
       "    .dataframe tbody tr th:only-of-type {\n",
       "        vertical-align: middle;\n",
       "    }\n",
       "\n",
       "    .dataframe tbody tr th {\n",
       "        vertical-align: top;\n",
       "    }\n",
       "\n",
       "    .dataframe thead th {\n",
       "        text-align: right;\n",
       "    }\n",
       "</style>\n",
       "<table border=\"1\" class=\"dataframe\">\n",
       "  <thead>\n",
       "    <tr style=\"text-align: right;\">\n",
       "      <th></th>\n",
       "      <th>NAME_CONTRACT_TYPE</th>\n",
       "      <th>AMT_INCOME_TOTAL</th>\n",
       "      <th>EXT_SOURCE_2</th>\n",
       "      <th>OWN_CAR_AGE</th>\n",
       "      <th>ORGANIZATION_TYPE</th>\n",
       "      <th>TARGET</th>\n",
       "    </tr>\n",
       "  </thead>\n",
       "  <tbody>\n",
       "    <tr>\n",
       "      <th>0</th>\n",
       "      <td>0</td>\n",
       "      <td>112500.0</td>\n",
       "      <td>0.372591</td>\n",
       "      <td>NaN</td>\n",
       "      <td>4991</td>\n",
       "      <td>0</td>\n",
       "    </tr>\n",
       "    <tr>\n",
       "      <th>1</th>\n",
       "      <td>0</td>\n",
       "      <td>225000.0</td>\n",
       "      <td>0.449567</td>\n",
       "      <td>NaN</td>\n",
       "      <td>30898</td>\n",
       "      <td>0</td>\n",
       "    </tr>\n",
       "    <tr>\n",
       "      <th>2</th>\n",
       "      <td>0</td>\n",
       "      <td>54000.0</td>\n",
       "      <td>0.569503</td>\n",
       "      <td>NaN</td>\n",
       "      <td>1185</td>\n",
       "      <td>0</td>\n",
       "    </tr>\n",
       "    <tr>\n",
       "      <th>3</th>\n",
       "      <td>0</td>\n",
       "      <td>67500.0</td>\n",
       "      <td>0.105235</td>\n",
       "      <td>NaN</td>\n",
       "      <td>30898</td>\n",
       "      <td>0</td>\n",
       "    </tr>\n",
       "    <tr>\n",
       "      <th>4</th>\n",
       "      <td>0</td>\n",
       "      <td>157500.0</td>\n",
       "      <td>0.202490</td>\n",
       "      <td>NaN</td>\n",
       "      <td>37943</td>\n",
       "      <td>1</td>\n",
       "    </tr>\n",
       "  </tbody>\n",
       "</table>\n",
       "</div>"
      ],
      "text/plain": [
       "   NAME_CONTRACT_TYPE  AMT_INCOME_TOTAL  EXT_SOURCE_2  OWN_CAR_AGE  \\\n",
       "0                   0          112500.0      0.372591          NaN   \n",
       "1                   0          225000.0      0.449567          NaN   \n",
       "2                   0           54000.0      0.569503          NaN   \n",
       "3                   0           67500.0      0.105235          NaN   \n",
       "4                   0          157500.0      0.202490          NaN   \n",
       "\n",
       "   ORGANIZATION_TYPE  TARGET  \n",
       "0               4991       0  \n",
       "1              30898       0  \n",
       "2               1185       0  \n",
       "3              30898       0  \n",
       "4              37943       1  "
      ]
     },
     "execution_count": 21,
     "metadata": {},
     "output_type": "execute_result"
    }
   ],
   "source": [
    "# Numerization of ORGANIZATION_TYPE (Count Encoding）\n",
    "organization_ce = train[\"ORGANIZATION_TYPE\"].value_counts()\n",
    "train[\"ORGANIZATION_TYPE\"] = train[\"ORGANIZATION_TYPE\"].map(organization_ce)\n",
    "test[\"ORGANIZATION_TYPE\"] = test[\"ORGANIZATION_TYPE\"].map(organization_ce)\n",
    "\n",
    "train.head(5)"
   ]
  },
  {
   "cell_type": "markdown",
   "metadata": {
    "id": "OtdYByRsCnmP"
   },
   "source": [
    "Let's deal with OWN_CAR_AGE. First, we will replace the unnatural outliers that are over 60 with missing values."
   ]
  },
  {
   "cell_type": "code",
   "execution_count": 22,
   "metadata": {
    "id": "7-ojzBAtCnmP"
   },
   "outputs": [],
   "source": [
    "# Treat values above 60 (outliers) in OWN_CAR_AGE as missing values.\n",
    "train.loc[train[\"OWN_CAR_AGE\"] >= 60, \"OWN_CAR_AGE\"] = np.nan\n",
    "test.loc[test[\"OWN_CAR_AGE\"] >= 60, \"OWN_CAR_AGE\"] = np.nan"
   ]
  },
  {
   "cell_type": "markdown",
   "metadata": {
    "id": "aUbZ-qsiCnmP"
   },
   "source": [
    "Next, consider the handling of missing values in OWN_CAR_AGE. The original OWN_CAR_AGE had 112992 missing values for 171202 data. With such a large number of missing values, it is difficult and impractical to properly complete the missing values. Therefore, this time, OWN_CAR_AGE is grouped by decade, such as 0 to 9 years and 10 to 19 years, and then One Hot Encoding is performed to deal with the missing values."
   ]
  },
  {
   "cell_type": "code",
   "execution_count": 23,
   "metadata": {
    "colab": {
     "base_uri": "https://localhost:8080/"
    },
    "executionInfo": {
     "elapsed": 46,
     "status": "ok",
     "timestamp": 1740899752672,
     "user": {
      "displayName": "Hiroki Arashi",
      "userId": "11190395752703205632"
     },
     "user_tz": -540
    },
    "id": "8bHTyLv_CnmP",
    "outputId": "72d7a71f-1c69-4072-f973-436c79559d52"
   },
   "outputs": [
    {
     "data": {
      "text/plain": [
       "array([nan,  0.,  2.,  1.,  3.,  4.,  5.])"
      ]
     },
     "execution_count": 23,
     "metadata": {},
     "output_type": "execute_result"
    }
   ],
   "source": [
    "# Divide OWN_CAR_AGE into groups\n",
    "train[\"OWN_CAR_AGE\"] = train[\"OWN_CAR_AGE\"] // 10\n",
    "test[\"OWN_CAR_AGE\"] = test[\"OWN_CAR_AGE\"] // 10\n",
    "\n",
    "train[\"OWN_CAR_AGE\"].unique()"
   ]
  },
  {
   "cell_type": "code",
   "execution_count": 24,
   "metadata": {
    "colab": {
     "base_uri": "https://localhost:8080/",
     "height": 226
    },
    "executionInfo": {
     "elapsed": 57,
     "status": "ok",
     "timestamp": 1740899754353,
     "user": {
      "displayName": "Hiroki Arashi",
      "userId": "11190395752703205632"
     },
     "user_tz": -540
    },
    "id": "GIcCvBHvCnmP",
    "outputId": "da404c02-9717-4666-9b45-0017df5f4257"
   },
   "outputs": [
    {
     "data": {
      "application/vnd.microsoft.datawrangler.viewer.v0+json": {
       "columns": [
        {
         "name": "index",
         "rawType": "int64",
         "type": "integer"
        },
        {
         "name": "NAME_CONTRACT_TYPE",
         "rawType": "int64",
         "type": "integer"
        },
        {
         "name": "AMT_INCOME_TOTAL",
         "rawType": "float64",
         "type": "float"
        },
        {
         "name": "EXT_SOURCE_2",
         "rawType": "float64",
         "type": "float"
        },
        {
         "name": "ORGANIZATION_TYPE",
         "rawType": "int64",
         "type": "integer"
        },
        {
         "name": "TARGET",
         "rawType": "int64",
         "type": "integer"
        },
        {
         "name": "OWN_CAR_AGE_0.0",
         "rawType": "bool",
         "type": "boolean"
        },
        {
         "name": "OWN_CAR_AGE_1.0",
         "rawType": "bool",
         "type": "boolean"
        },
        {
         "name": "OWN_CAR_AGE_2.0",
         "rawType": "bool",
         "type": "boolean"
        },
        {
         "name": "OWN_CAR_AGE_3.0",
         "rawType": "bool",
         "type": "boolean"
        },
        {
         "name": "OWN_CAR_AGE_4.0",
         "rawType": "bool",
         "type": "boolean"
        },
        {
         "name": "OWN_CAR_AGE_5.0",
         "rawType": "bool",
         "type": "boolean"
        }
       ],
       "conversionMethod": "pd.DataFrame",
       "ref": "7d62ac47-a93e-4d02-8ec7-f6185ee19db7",
       "rows": [
        [
         "0",
         "0",
         "112500.0",
         "0.3725906530484186",
         "4991",
         "0",
         "False",
         "False",
         "False",
         "False",
         "False",
         "False"
        ],
        [
         "1",
         "0",
         "225000.0",
         "0.4495669178425824",
         "30898",
         "0",
         "False",
         "False",
         "False",
         "False",
         "False",
         "False"
        ],
        [
         "2",
         "0",
         "54000.0",
         "0.5695033488190875",
         "1185",
         "0",
         "False",
         "False",
         "False",
         "False",
         "False",
         "False"
        ],
        [
         "3",
         "0",
         "67500.0",
         "0.105234586461568",
         "30898",
         "0",
         "False",
         "False",
         "False",
         "False",
         "False",
         "False"
        ],
        [
         "4",
         "0",
         "157500.0",
         "0.2024897204486028",
         "37943",
         "1",
         "False",
         "False",
         "False",
         "False",
         "False",
         "False"
        ]
       ],
       "shape": {
        "columns": 11,
        "rows": 5
       }
      },
      "text/html": [
       "<div>\n",
       "<style scoped>\n",
       "    .dataframe tbody tr th:only-of-type {\n",
       "        vertical-align: middle;\n",
       "    }\n",
       "\n",
       "    .dataframe tbody tr th {\n",
       "        vertical-align: top;\n",
       "    }\n",
       "\n",
       "    .dataframe thead th {\n",
       "        text-align: right;\n",
       "    }\n",
       "</style>\n",
       "<table border=\"1\" class=\"dataframe\">\n",
       "  <thead>\n",
       "    <tr style=\"text-align: right;\">\n",
       "      <th></th>\n",
       "      <th>NAME_CONTRACT_TYPE</th>\n",
       "      <th>AMT_INCOME_TOTAL</th>\n",
       "      <th>EXT_SOURCE_2</th>\n",
       "      <th>ORGANIZATION_TYPE</th>\n",
       "      <th>TARGET</th>\n",
       "      <th>OWN_CAR_AGE_0.0</th>\n",
       "      <th>OWN_CAR_AGE_1.0</th>\n",
       "      <th>OWN_CAR_AGE_2.0</th>\n",
       "      <th>OWN_CAR_AGE_3.0</th>\n",
       "      <th>OWN_CAR_AGE_4.0</th>\n",
       "      <th>OWN_CAR_AGE_5.0</th>\n",
       "    </tr>\n",
       "  </thead>\n",
       "  <tbody>\n",
       "    <tr>\n",
       "      <th>0</th>\n",
       "      <td>0</td>\n",
       "      <td>112500.0</td>\n",
       "      <td>0.372591</td>\n",
       "      <td>4991</td>\n",
       "      <td>0</td>\n",
       "      <td>False</td>\n",
       "      <td>False</td>\n",
       "      <td>False</td>\n",
       "      <td>False</td>\n",
       "      <td>False</td>\n",
       "      <td>False</td>\n",
       "    </tr>\n",
       "    <tr>\n",
       "      <th>1</th>\n",
       "      <td>0</td>\n",
       "      <td>225000.0</td>\n",
       "      <td>0.449567</td>\n",
       "      <td>30898</td>\n",
       "      <td>0</td>\n",
       "      <td>False</td>\n",
       "      <td>False</td>\n",
       "      <td>False</td>\n",
       "      <td>False</td>\n",
       "      <td>False</td>\n",
       "      <td>False</td>\n",
       "    </tr>\n",
       "    <tr>\n",
       "      <th>2</th>\n",
       "      <td>0</td>\n",
       "      <td>54000.0</td>\n",
       "      <td>0.569503</td>\n",
       "      <td>1185</td>\n",
       "      <td>0</td>\n",
       "      <td>False</td>\n",
       "      <td>False</td>\n",
       "      <td>False</td>\n",
       "      <td>False</td>\n",
       "      <td>False</td>\n",
       "      <td>False</td>\n",
       "    </tr>\n",
       "    <tr>\n",
       "      <th>3</th>\n",
       "      <td>0</td>\n",
       "      <td>67500.0</td>\n",
       "      <td>0.105235</td>\n",
       "      <td>30898</td>\n",
       "      <td>0</td>\n",
       "      <td>False</td>\n",
       "      <td>False</td>\n",
       "      <td>False</td>\n",
       "      <td>False</td>\n",
       "      <td>False</td>\n",
       "      <td>False</td>\n",
       "    </tr>\n",
       "    <tr>\n",
       "      <th>4</th>\n",
       "      <td>0</td>\n",
       "      <td>157500.0</td>\n",
       "      <td>0.202490</td>\n",
       "      <td>37943</td>\n",
       "      <td>1</td>\n",
       "      <td>False</td>\n",
       "      <td>False</td>\n",
       "      <td>False</td>\n",
       "      <td>False</td>\n",
       "      <td>False</td>\n",
       "      <td>False</td>\n",
       "    </tr>\n",
       "  </tbody>\n",
       "</table>\n",
       "</div>"
      ],
      "text/plain": [
       "   NAME_CONTRACT_TYPE  AMT_INCOME_TOTAL  EXT_SOURCE_2  ORGANIZATION_TYPE  \\\n",
       "0                   0          112500.0      0.372591               4991   \n",
       "1                   0          225000.0      0.449567              30898   \n",
       "2                   0           54000.0      0.569503               1185   \n",
       "3                   0           67500.0      0.105235              30898   \n",
       "4                   0          157500.0      0.202490              37943   \n",
       "\n",
       "   TARGET  OWN_CAR_AGE_0.0  OWN_CAR_AGE_1.0  OWN_CAR_AGE_2.0  OWN_CAR_AGE_3.0  \\\n",
       "0       0            False            False            False            False   \n",
       "1       0            False            False            False            False   \n",
       "2       0            False            False            False            False   \n",
       "3       0            False            False            False            False   \n",
       "4       1            False            False            False            False   \n",
       "\n",
       "   OWN_CAR_AGE_4.0  OWN_CAR_AGE_5.0  \n",
       "0            False            False  \n",
       "1            False            False  \n",
       "2            False            False  \n",
       "3            False            False  \n",
       "4            False            False  "
      ]
     },
     "execution_count": 24,
     "metadata": {},
     "output_type": "execute_result"
    }
   ],
   "source": [
    "# Apply One Hot Encodiing to OWN_CAR_AGE\n",
    "train_car_age_ohe = pd.get_dummies(train[\"OWN_CAR_AGE\"]).add_prefix(\"OWN_CAR_AGE_\")\n",
    "test_car_age_ohe = pd.get_dummies(test[\"OWN_CAR_AGE\"]).add_prefix(\"OWN_CAR_AGE_\")\n",
    "\n",
    "train = pd.concat([train, train_car_age_ohe], axis=1)\n",
    "test = pd.concat([test, test_car_age_ohe], axis=1)\n",
    "\n",
    "train.drop('OWN_CAR_AGE', axis=1, inplace=True)\n",
    "test.drop('OWN_CAR_AGE', axis=1, inplace=True)\n",
    "\n",
    "train.head(5)"
   ]
  },
  {
   "cell_type": "markdown",
   "metadata": {
    "id": "FoKdK60PCnmP"
   },
   "source": [
    "## 3. Machine learning model creation\n",
    "Here, we will build machine learning models."
   ]
  },
  {
   "cell_type": "markdown",
   "metadata": {
    "id": "2LLoN-aQIsrk"
   },
   "source": [
    "First, load the necessary libraries.\n",
    "\n",
    "- train_test_split: Split data into training and evaluation data.\n",
    "- StandardScaler: Standardize the data.\n",
    "- roc_auc_score: Calculate AUC, the evaluation index for this time."
   ]
  },
  {
   "cell_type": "code",
   "execution_count": 25,
   "metadata": {
    "id": "RVwkQ5b8CnmP"
   },
   "outputs": [],
   "source": [
    "# Loading libraries\n",
    "from sklearn.model_selection import train_test_split\n",
    "from sklearn.metrics import roc_auc_score"
   ]
  },
  {
   "cell_type": "markdown",
   "metadata": {
    "id": "bcgHtFrRJpev"
   },
   "source": [
    "Split the data into explanatory and objective variables. Since the objective variable in this case is “TARGET,” the rest of the data will be explanatory variables."
   ]
  },
  {
   "cell_type": "code",
   "execution_count": 26,
   "metadata": {
    "id": "joie-z89KBdg"
   },
   "outputs": [],
   "source": [
    "# Split the data into explanatory and objective variables\n",
    "X = train.drop(\"TARGET\", axis=1).values\n",
    "y = train[\"TARGET\"].values\n",
    "X_test = test.values"
   ]
  },
  {
   "cell_type": "markdown",
   "metadata": {
    "id": "M85-Y6M2KQBX"
   },
   "source": [
    "Standardize the data. Standardization is the operation of transforming the values so that the mean is 0 and the variance is 1. Some models, such as logistic regression and neural networks, do not learn well without scaling the values in this way."
   ]
  },
  {
   "cell_type": "code",
   "execution_count": 27,
   "metadata": {
    "id": "_PipkeXdKlvK"
   },
   "outputs": [],
   "source": [
    "# Split the original data into the training data and the evaluatioin data\n",
    "X_train, X_valid, y_train, y_valid = train_test_split(X, y, test_size=0.3, stratify=y, random_state=0)"
   ]
  },
  {
   "cell_type": "markdown",
   "metadata": {
    "id": "RFXE351Dah5p"
   },
   "source": [
    "### Catboost"
   ]
  },
  {
   "cell_type": "code",
   "execution_count": 28,
   "metadata": {},
   "outputs": [],
   "source": [
    "from catboost import CatBoostClassifier"
   ]
  },
  {
   "cell_type": "code",
   "execution_count": 45,
   "metadata": {},
   "outputs": [
    {
     "name": "stdout",
     "output_type": "stream",
     "text": [
      "0:\ttest: 0.6166958\tbest: 0.6166958 (0)\ttotal: 25.8ms\tremaining: 25.7s\n",
      "50:\ttest: 0.6736451\tbest: 0.6736451 (50)\ttotal: 1.04s\tremaining: 19.5s\n",
      "100:\ttest: 0.6749290\tbest: 0.6750106 (98)\ttotal: 2.09s\tremaining: 18.6s\n",
      "150:\ttest: 0.6749111\tbest: 0.6750415 (140)\ttotal: 3.18s\tremaining: 17.9s\n",
      "200:\ttest: 0.6741500\tbest: 0.6750415 (140)\ttotal: 4.27s\tremaining: 17s\n",
      "Stopped by overfitting detector  (100 iterations wait)\n",
      "\n",
      "bestTest = 0.6750414974\n",
      "bestIteration = 140\n",
      "\n",
      "Shrink model to first 141 iterations.\n"
     ]
    },
    {
     "data": {
      "text/plain": [
       "<catboost.core.CatBoostClassifier at 0x2cb725d79e0>"
      ]
     },
     "execution_count": 45,
     "metadata": {},
     "output_type": "execute_result"
    }
   ],
   "source": [
    "cb = CatBoostClassifier(iterations=1000, learning_rate=0.1, depth=6, l2_leaf_reg=3, loss_function='Logloss', eval_metric='AUC', random_seed=0)\n",
    "cb.fit(X_train, y_train, eval_set=(X_valid, y_valid), early_stopping_rounds=100, verbose=50)"
   ]
  },
  {
   "cell_type": "markdown",
   "metadata": {},
   "source": [
    "### Optuna Tuning"
   ]
  },
  {
   "cell_type": "code",
   "execution_count": 31,
   "metadata": {},
   "outputs": [],
   "source": [
    "import optuna\n",
    "from optuna.samplers import TPESampler"
   ]
  },
  {
   "cell_type": "code",
   "execution_count": 41,
   "metadata": {},
   "outputs": [],
   "source": [
    "#Use Optuna to find the best hyperparameters\n",
    "def objective(trial):\n",
    "    model = CatBoostClassifier(\n",
    "        task_type=\"GPU\",\n",
    "        devices='0:1',\n",
    "        iterations=300,\n",
    "        learning_rate=trial.suggest_float(\"learning_rate\", 1e-2, 1e-1, log=True),\n",
    "        depth=trial.suggest_int(\"depth\", 4, 10),\n",
    "        l2_leaf_reg=trial.suggest_float(\"l2_leaf_reg\", 1e-4, 100.0, log=True),\n",
    "        bootstrap_type=trial.suggest_categorical(\"bootstrap_type\", [\"Bayesian\"]),\n",
    "        random_strength=trial.suggest_float(\"random_strength\", 1e-8, 10.0, log=True),\n",
    "        bagging_temperature=trial.suggest_float(\"bagging_temperature\", 0.0, 10.0),\n",
    "        od_type=trial.suggest_categorical(\"od_type\", [\"IncToDec\", \"Iter\"]),\n",
    "        od_wait=trial.suggest_int(\"od_wait\", 10, 50),\n",
    "        eval_metric=\"AUC\",\n",
    "        verbose=False\n",
    "    )\n",
    "    model.fit(X_train, y_train)\n",
    "    y_pred = model.predict(X_valid)\n",
    "    return roc_auc_score(y_valid, y_pred)"
   ]
  },
  {
   "cell_type": "code",
   "execution_count": 42,
   "metadata": {},
   "outputs": [],
   "source": [
    "optuna.logging.set_verbosity(optuna.logging.INFO)\n",
    "\n",
    "sampler = TPESampler(seed=1)"
   ]
  },
  {
   "cell_type": "code",
   "execution_count": 43,
   "metadata": {},
   "outputs": [
    {
     "name": "stderr",
     "output_type": "stream",
     "text": [
      "[I 2025-03-10 23:55:05,527] A new study created in memory with name: catboost\n",
      "Default metric period is 5 because AUC is/are not implemented for GPU\n",
      "[I 2025-03-10 23:55:10,139] Trial 0 finished with value: 0.5004188535381175 and parameters: {'learning_rate': 0.02612293709960432, 'depth': 9, 'l2_leaf_reg': 0.00010015813955858975, 'bootstrap_type': 'Bayesian', 'random_strength': 5.260089742045368e-06, 'bagging_temperature': 1.4675589081711304, 'od_type': 'Iter', 'od_wait': 24}. Best is trial 0 with value: 0.5004188535381175.\n",
      "Default metric period is 5 because AUC is/are not implemented for GPU\n",
      "[I 2025-03-10 23:55:13,220] Trial 1 finished with value: 0.5003406147908857 and parameters: {'learning_rate': 0.0249325945254849, 'depth': 7, 'l2_leaf_reg': 0.032746665712253896, 'bootstrap_type': 'Bayesian', 'random_strength': 0.01468843425028415, 'bagging_temperature': 2.0445224973151745, 'od_type': 'IncToDec', 'od_wait': 37}. Best is trial 0 with value: 0.5004188535381175.\n",
      "Default metric period is 5 because AUC is/are not implemented for GPU\n",
      "[I 2025-03-10 23:55:16,286] Trial 2 finished with value: 0.5 and parameters: {'learning_rate': 0.026139952999364047, 'depth': 7, 'l2_leaf_reg': 0.0006955392321661608, 'bootstrap_type': 'Bayesian', 'random_strength': 6.066153585423825e-07, 'bagging_temperature': 8.007445686755366, 'od_type': 'IncToDec', 'od_wait': 38}. Best is trial 0 with value: 0.5004188535381175.\n",
      "Default metric period is 5 because AUC is/are not implemented for GPU\n",
      "[I 2025-03-10 23:55:22,225] Trial 3 finished with value: 0.5021571759242586 and parameters: {'learning_rate': 0.07522966922648874, 'depth': 10, 'l2_leaf_reg': 0.00032379136916692525, 'bootstrap_type': 'Bayesian', 'random_strength': 2.2464308214708563e-08, 'bagging_temperature': 1.698304195645689, 'od_type': 'IncToDec', 'od_wait': 27}. Best is trial 3 with value: 0.5021571759242586.\n",
      "Default metric period is 5 because AUC is/are not implemented for GPU\n",
      "[I 2025-03-10 23:55:25,210] Trial 4 finished with value: 0.5002306064788967 and parameters: {'learning_rate': 0.09075896406600996, 'depth': 7, 'l2_leaf_reg': 1.4166503840925495, 'bootstrap_type': 'Bayesian', 'random_strength': 6.912588094940543e-06, 'bagging_temperature': 6.865009276815837, 'od_type': 'IncToDec', 'od_wait': 40}. Best is trial 3 with value: 0.5021571759242586.\n",
      "Default metric period is 5 because AUC is/are not implemented for GPU\n",
      "[I 2025-03-10 23:55:29,717] Trial 5 finished with value: 0.5029654837650577 and parameters: {'learning_rate': 0.09746778326527859, 'depth': 9, 'l2_leaf_reg': 0.004815750211552355, 'bootstrap_type': 'Bayesian', 'random_strength': 0.12691529280491062, 'bagging_temperature': 1.0322600657764203, 'od_type': 'Iter', 'od_wait': 22}. Best is trial 5 with value: 0.5029654837650577.\n",
      "Default metric period is 5 because AUC is/are not implemented for GPU\n",
      "[I 2025-03-10 23:55:32,057] Trial 6 finished with value: 0.5 and parameters: {'learning_rate': 0.019398821130508406, 'depth': 4, 'l2_leaf_reg': 0.00013067777979022333, 'bootstrap_type': 'Bayesian', 'random_strength': 0.012868259091186626, 'bagging_temperature': 2.1162811600005904, 'od_type': 'Iter', 'od_wait': 12}. Best is trial 5 with value: 0.5029654837650577.\n",
      "Default metric period is 5 because AUC is/are not implemented for GPU\n",
      "[I 2025-03-10 23:55:34,598] Trial 7 finished with value: 0.5 and parameters: {'learning_rate': 0.03750745574291497, 'depth': 5, 'l2_leaf_reg': 0.34342603946278455, 'bootstrap_type': 'Bayesian', 'random_strength': 0.019852958748571008, 'bagging_temperature': 1.0233442882782584, 'od_type': 'Iter', 'od_wait': 26}. Best is trial 5 with value: 0.5029654837650577.\n",
      "Default metric period is 5 because AUC is/are not implemented for GPU\n",
      "[I 2025-03-10 23:55:37,732] Trial 8 finished with value: 0.5 and parameters: {'learning_rate': 0.011218982199320113, 'depth': 7, 'l2_leaf_reg': 0.9610984377628771, 'bootstrap_type': 'Bayesian', 'random_strength': 0.00043052860159544285, 'bagging_temperature': 9.445947559908133, 'od_type': 'Iter', 'od_wait': 15}. Best is trial 5 with value: 0.5029654837650577.\n",
      "Default metric period is 5 because AUC is/are not implemented for GPU\n",
      "[I 2025-03-10 23:55:42,133] Trial 9 finished with value: 0.5 and parameters: {'learning_rate': 0.013780860841367645, 'depth': 9, 'l2_leaf_reg': 0.024325457775639867, 'bootstrap_type': 'Bayesian', 'random_strength': 3.0774271011619546e-07, 'bagging_temperature': 9.275085803960339, 'od_type': 'Iter', 'od_wait': 39}. Best is trial 5 with value: 0.5029654837650577.\n",
      "Default metric period is 5 because AUC is/are not implemented for GPU\n",
      "[I 2025-03-10 23:55:46,504] Trial 10 finished with value: 0.5002411963338157 and parameters: {'learning_rate': 0.055017439646639785, 'depth': 9, 'l2_leaf_reg': 63.55821499377253, 'bootstrap_type': 'Bayesian', 'random_strength': 7.742935402525511, 'bagging_temperature': 4.614815328972507, 'od_type': 'Iter', 'od_wait': 19}. Best is trial 5 with value: 0.5029654837650577.\n",
      "Default metric period is 5 because AUC is/are not implemented for GPU\n",
      "[I 2025-03-10 23:55:52,377] Trial 11 finished with value: 0.5020242484689537 and parameters: {'learning_rate': 0.09848959879577017, 'depth': 10, 'l2_leaf_reg': 0.003509422216988982, 'bootstrap_type': 'Bayesian', 'random_strength': 1.493114033491453e-08, 'bagging_temperature': 3.943625888571975, 'od_type': 'IncToDec', 'od_wait': 30}. Best is trial 5 with value: 0.5029654837650577.\n",
      "Default metric period is 5 because AUC is/are not implemented for GPU\n",
      "[I 2025-03-10 23:55:57,265] Trial 12 finished with value: 0.5012924399419085 and parameters: {'learning_rate': 0.0625941294036134, 'depth': 10, 'l2_leaf_reg': 0.0045046765315564135, 'bootstrap_type': 'Bayesian', 'random_strength': 8.199466598733773, 'bagging_temperature': 0.1385340896284628, 'od_type': 'IncToDec', 'od_wait': 49}. Best is trial 5 with value: 0.5029654837650577.\n",
      "Default metric period is 5 because AUC is/are not implemented for GPU\n",
      "[I 2025-03-10 23:56:00,728] Trial 13 finished with value: 0.5004759125755114 and parameters: {'learning_rate': 0.066331164739908, 'depth': 8, 'l2_leaf_reg': 0.001504946104172784, 'bootstrap_type': 'Bayesian', 'random_strength': 0.3651818647667978, 'bagging_temperature': 3.1544561824727184, 'od_type': 'IncToDec', 'od_wait': 20}. Best is trial 5 with value: 0.5029654837650577.\n",
      "Default metric period is 5 because AUC is/are not implemented for GPU\n",
      "[I 2025-03-10 23:56:06,594] Trial 14 finished with value: 0.5005288618501064 and parameters: {'learning_rate': 0.047221223342599025, 'depth': 10, 'l2_leaf_reg': 0.0004484192964095917, 'bootstrap_type': 'Bayesian', 'random_strength': 0.000124200317066949, 'bagging_temperature': 5.7805295971336665, 'od_type': 'Iter', 'od_wait': 31}. Best is trial 5 with value: 0.5029654837650577.\n",
      "Default metric period is 5 because AUC is/are not implemented for GPU\n",
      "[I 2025-03-10 23:56:10,036] Trial 15 finished with value: 0.500958305243143 and parameters: {'learning_rate': 0.07453710905739945, 'depth': 8, 'l2_leaf_reg': 0.012585693563055049, 'bootstrap_type': 'Bayesian', 'random_strength': 1.725713963523798e-08, 'bagging_temperature': 3.037652629498523, 'od_type': 'IncToDec', 'od_wait': 29}. Best is trial 5 with value: 0.5029654837650577.\n",
      "Default metric period is 5 because AUC is/are not implemented for GPU\n",
      "[I 2025-03-10 23:56:13,399] Trial 16 finished with value: 0.500827117221316 and parameters: {'learning_rate': 0.04423753093208119, 'depth': 8, 'l2_leaf_reg': 0.10012374641173645, 'bootstrap_type': 'Bayesian', 'random_strength': 0.000596502680231784, 'bagging_temperature': 0.21097426444756184, 'od_type': 'IncToDec', 'od_wait': 21}. Best is trial 5 with value: 0.5029654837650577.\n",
      "Default metric period is 5 because AUC is/are not implemented for GPU\n",
      "[I 2025-03-10 23:56:16,042] Trial 17 finished with value: 0.5003406147908857 and parameters: {'learning_rate': 0.08438454716901185, 'depth': 6, 'l2_leaf_reg': 0.0006773395610940964, 'bootstrap_type': 'Bayesian', 'random_strength': 0.41060500756377105, 'bagging_temperature': 5.640474731246973, 'od_type': 'Iter', 'od_wait': 10}. Best is trial 5 with value: 0.5029654837650577.\n",
      "Default metric period is 5 because AUC is/are not implemented for GPU\n",
      "[I 2025-03-10 23:56:20,322] Trial 18 finished with value: 0.5005076821402684 and parameters: {'learning_rate': 0.09947662511589124, 'depth': 9, 'l2_leaf_reg': 19.204907892730905, 'bootstrap_type': 'Bayesian', 'random_strength': 5.269779164887128e-05, 'bagging_temperature': 3.069268145616803, 'od_type': 'IncToDec', 'od_wait': 34}. Best is trial 5 with value: 0.5029654837650577.\n",
      "Default metric period is 5 because AUC is/are not implemented for GPU\n",
      "[I 2025-03-10 23:56:25,943] Trial 19 finished with value: 0.501800122082177 and parameters: {'learning_rate': 0.052793449108082, 'depth': 10, 'l2_leaf_reg': 0.006508851030010669, 'bootstrap_type': 'Bayesian', 'random_strength': 0.0024887912675731145, 'bagging_temperature': 1.1032536835348852, 'od_type': 'Iter', 'od_wait': 45}. Best is trial 5 with value: 0.5029654837650577.\n",
      "Default metric period is 5 because AUC is/are not implemented for GPU\n",
      "[I 2025-03-10 23:56:29,582] Trial 20 finished with value: 0.5003617945007236 and parameters: {'learning_rate': 0.03540757497642888, 'depth': 8, 'l2_leaf_reg': 0.09275547797356196, 'bootstrap_type': 'Bayesian', 'random_strength': 0.6703660577536136, 'bagging_temperature': 2.1412856435081906, 'od_type': 'Iter', 'od_wait': 16}. Best is trial 5 with value: 0.5029654837650577.\n",
      "Default metric period is 5 because AUC is/are not implemented for GPU\n",
      "[I 2025-03-10 23:56:35,309] Trial 21 finished with value: 0.5019395296296018 and parameters: {'learning_rate': 0.09913532033025235, 'depth': 10, 'l2_leaf_reg': 0.002832073581249348, 'bootstrap_type': 'Bayesian', 'random_strength': 1.067338480490805e-08, 'bagging_temperature': 3.731222740173516, 'od_type': 'IncToDec', 'od_wait': 27}. Best is trial 5 with value: 0.5029654837650577.\n",
      "Default metric period is 5 because AUC is/are not implemented for GPU\n",
      "[I 2025-03-10 23:56:40,929] Trial 22 finished with value: 0.501842481501853 and parameters: {'learning_rate': 0.07995768908640309, 'depth': 10, 'l2_leaf_reg': 0.00026653170985697607, 'bootstrap_type': 'Bayesian', 'random_strength': 2.130295376284132e-07, 'bagging_temperature': 4.2896816595026275, 'od_type': 'IncToDec', 'od_wait': 32}. Best is trial 5 with value: 0.5029654837650577.\n",
      "Default metric period is 5 because AUC is/are not implemented for GPU\n",
      "[I 2025-03-10 23:56:45,169] Trial 23 finished with value: 0.501787161897937 and parameters: {'learning_rate': 0.07498916513453341, 'depth': 9, 'l2_leaf_reg': 0.0016447869336046075, 'bootstrap_type': 'Bayesian', 'random_strength': 4.918048300605061e-08, 'bagging_temperature': 0.7556206412080594, 'od_type': 'IncToDec', 'od_wait': 24}. Best is trial 5 with value: 0.5029654837650577.\n",
      "Default metric period is 5 because AUC is/are not implemented for GPU\n",
      "[I 2025-03-10 23:56:51,157] Trial 24 finished with value: 0.5020201387061548 and parameters: {'learning_rate': 0.06380502632765421, 'depth': 10, 'l2_leaf_reg': 0.008547073751210846, 'bootstrap_type': 'Bayesian', 'random_strength': 2.1564280884861546e-06, 'bagging_temperature': 2.604180410586889, 'od_type': 'IncToDec', 'od_wait': 34}. Best is trial 5 with value: 0.5029654837650577.\n",
      "Default metric period is 5 because AUC is/are not implemented for GPU\n",
      "[I 2025-03-10 23:56:55,463] Trial 25 finished with value: 0.5014806870011294 and parameters: {'learning_rate': 0.09984967483010329, 'depth': 9, 'l2_leaf_reg': 0.001309424713755345, 'bootstrap_type': 'Bayesian', 'random_strength': 1.2396228368024107e-07, 'bagging_temperature': 3.9940805109838196, 'od_type': 'IncToDec', 'od_wait': 23}. Best is trial 5 with value: 0.5029654837650577.\n",
      "Default metric period is 5 because AUC is/are not implemented for GPU\n",
      "[I 2025-03-10 23:57:01,194] Trial 26 finished with value: 0.5011718417750007 and parameters: {'learning_rate': 0.07254331892351987, 'depth': 10, 'l2_leaf_reg': 0.00028116666864139205, 'bootstrap_type': 'Bayesian', 'random_strength': 1.622424290305074e-05, 'bagging_temperature': 5.336917114368157, 'od_type': 'IncToDec', 'od_wait': 29}. Best is trial 5 with value: 0.5029654837650577.\n",
      "Default metric period is 5 because AUC is/are not implemented for GPU\n",
      "[I 2025-03-10 23:57:03,993] Trial 27 finished with value: 0.5003300249359667 and parameters: {'learning_rate': 0.05625404993997988, 'depth': 6, 'l2_leaf_reg': 0.046030513576235194, 'bootstrap_type': 'Bayesian', 'random_strength': 1.1058113612395635e-06, 'bagging_temperature': 1.6269886845940813, 'od_type': 'IncToDec', 'od_wait': 17}. Best is trial 5 with value: 0.5029654837650577.\n",
      "Default metric period is 5 because AUC is/are not implemented for GPU\n",
      "[I 2025-03-10 23:57:08,309] Trial 28 finished with value: 0.5013283192694645 and parameters: {'learning_rate': 0.08154264825565327, 'depth': 9, 'l2_leaf_reg': 0.0032034939944823684, 'bootstrap_type': 'Bayesian', 'random_strength': 3.1778826119715984e-08, 'bagging_temperature': 3.398881628335801, 'od_type': 'Iter', 'od_wait': 26}. Best is trial 5 with value: 0.5029654837650577.\n",
      "Default metric period is 5 because AUC is/are not implemented for GPU\n",
      "[I 2025-03-10 23:57:11,997] Trial 29 finished with value: 0.5004970922853494 and parameters: {'learning_rate': 0.0404363175047668, 'depth': 8, 'l2_leaf_reg': 0.00016345374569184804, 'bootstrap_type': 'Bayesian', 'random_strength': 0.0663339379565442, 'bagging_temperature': 1.700716363844738, 'od_type': 'Iter', 'od_wait': 22}. Best is trial 5 with value: 0.5029654837650577.\n",
      "Default metric period is 5 because AUC is/are not implemented for GPU\n",
      "[I 2025-03-10 23:57:17,879] Trial 30 finished with value: 0.5003512046458046 and parameters: {'learning_rate': 0.02743200574565021, 'depth': 10, 'l2_leaf_reg': 0.0007633816762193143, 'bootstrap_type': 'Bayesian', 'random_strength': 8.567475884290217e-08, 'bagging_temperature': 6.224759907643259, 'od_type': 'IncToDec', 'od_wait': 43}. Best is trial 5 with value: 0.5029654837650577.\n",
      "Default metric period is 5 because AUC is/are not implemented for GPU\n",
      "[I 2025-03-10 23:57:24,175] Trial 31 finished with value: 0.5017683525174199 and parameters: {'learning_rate': 0.0634374979915142, 'depth': 10, 'l2_leaf_reg': 0.007927629770274166, 'bootstrap_type': 'Bayesian', 'random_strength': 1.9278514576171764e-06, 'bagging_temperature': 2.6073837079072386, 'od_type': 'IncToDec', 'od_wait': 34}. Best is trial 5 with value: 0.5029654837650577.\n",
      "Default metric period is 5 because AUC is/are not implemented for GPU\n",
      "[I 2025-03-10 23:57:30,045] Trial 32 finished with value: 0.5022230853830936 and parameters: {'learning_rate': 0.08657879583710242, 'depth': 10, 'l2_leaf_reg': 0.009981958855588021, 'bootstrap_type': 'Bayesian', 'random_strength': 3.395624614904646e-06, 'bagging_temperature': 2.6840181656723376, 'od_type': 'IncToDec', 'od_wait': 35}. Best is trial 5 with value: 0.5029654837650577.\n",
      "Default metric period is 5 because AUC is/are not implemented for GPU\n",
      "[I 2025-03-10 23:57:34,452] Trial 33 finished with value: 0.5010830131728498 and parameters: {'learning_rate': 0.08392352838098621, 'depth': 9, 'l2_leaf_reg': 0.0027735725720532036, 'bootstrap_type': 'Bayesian', 'random_strength': 1.0453157860529423e-08, 'bagging_temperature': 4.737004517875029, 'od_type': 'IncToDec', 'od_wait': 28}. Best is trial 5 with value: 0.5029654837650577.\n",
      "Default metric period is 5 because AUC is/are not implemented for GPU\n",
      "[W 2025-03-10 23:57:37,638] Trial 34 failed with parameters: {'learning_rate': 0.09068688079502465, 'depth': 9, 'l2_leaf_reg': 0.021908876560051447, 'bootstrap_type': 'Bayesian', 'random_strength': 3.265335484047319e-05, 'bagging_temperature': 0.6949687619395402, 'od_type': 'IncToDec', 'od_wait': 36} because of the following error: KeyboardInterrupt('').\n",
      "Traceback (most recent call last):\n",
      "  File \"c:\\Users\\Warge\\AppData\\Local\\Programs\\Python\\Python312\\Lib\\site-packages\\optuna\\study\\_optimize.py\", line 197, in _run_trial\n",
      "    value_or_values = func(trial)\n",
      "                      ^^^^^^^^^^^\n",
      "  File \"C:\\Users\\Warge\\AppData\\Local\\Temp\\ipykernel_37660\\2439736077.py\", line 18, in objective\n",
      "    model.fit(X_train, y_train)\n",
      "  File \"c:\\Users\\Warge\\AppData\\Local\\Programs\\Python\\Python312\\Lib\\site-packages\\catboost\\core.py\", line 5245, in fit\n",
      "    self._fit(X, y, cat_features, text_features, embedding_features, None, graph, sample_weight, None, None, None, None, baseline, use_best_model,\n",
      "  File \"c:\\Users\\Warge\\AppData\\Local\\Programs\\Python\\Python312\\Lib\\site-packages\\catboost\\core.py\", line 2410, in _fit\n",
      "    self._train(\n",
      "  File \"c:\\Users\\Warge\\AppData\\Local\\Programs\\Python\\Python312\\Lib\\site-packages\\catboost\\core.py\", line 1790, in _train\n",
      "    self._object._train(train_pool, test_pool, params, allow_clear_pool, init_model._object if init_model else None)\n",
      "  File \"_catboost.pyx\", line 5017, in _catboost._CatBoost._train\n",
      "  File \"_catboost.pyx\", line 5066, in _catboost._CatBoost._train\n",
      "KeyboardInterrupt\n",
      "[W 2025-03-10 23:57:37,640] Trial 34 failed with value None.\n"
     ]
    },
    {
     "ename": "KeyboardInterrupt",
     "evalue": "",
     "output_type": "error",
     "traceback": [
      "\u001b[1;31m---------------------------------------------------------------------------\u001b[0m",
      "\u001b[1;31mKeyboardInterrupt\u001b[0m                         Traceback (most recent call last)",
      "Cell \u001b[1;32mIn[43], line 2\u001b[0m\n\u001b[0;32m      1\u001b[0m study \u001b[38;5;241m=\u001b[39m optuna\u001b[38;5;241m.\u001b[39mcreate_study(study_name\u001b[38;5;241m=\u001b[39m\u001b[38;5;124m\"\u001b[39m\u001b[38;5;124mcatboost\u001b[39m\u001b[38;5;124m\"\u001b[39m, direction\u001b[38;5;241m=\u001b[39m\u001b[38;5;124m\"\u001b[39m\u001b[38;5;124mmaximize\u001b[39m\u001b[38;5;124m\"\u001b[39m, sampler\u001b[38;5;241m=\u001b[39msampler)\n\u001b[1;32m----> 2\u001b[0m \u001b[43mstudy\u001b[49m\u001b[38;5;241;43m.\u001b[39;49m\u001b[43moptimize\u001b[49m\u001b[43m(\u001b[49m\u001b[43mobjective\u001b[49m\u001b[43m,\u001b[49m\u001b[43m \u001b[49m\u001b[43mn_trials\u001b[49m\u001b[38;5;241;43m=\u001b[39;49m\u001b[38;5;241;43m100\u001b[39;49m\u001b[43m)\u001b[49m\n",
      "File \u001b[1;32mc:\\Users\\Warge\\AppData\\Local\\Programs\\Python\\Python312\\Lib\\site-packages\\optuna\\study\\study.py:475\u001b[0m, in \u001b[0;36mStudy.optimize\u001b[1;34m(self, func, n_trials, timeout, n_jobs, catch, callbacks, gc_after_trial, show_progress_bar)\u001b[0m\n\u001b[0;32m    373\u001b[0m \u001b[38;5;28;01mdef\u001b[39;00m\u001b[38;5;250m \u001b[39m\u001b[38;5;21moptimize\u001b[39m(\n\u001b[0;32m    374\u001b[0m     \u001b[38;5;28mself\u001b[39m,\n\u001b[0;32m    375\u001b[0m     func: ObjectiveFuncType,\n\u001b[1;32m   (...)\u001b[0m\n\u001b[0;32m    382\u001b[0m     show_progress_bar: \u001b[38;5;28mbool\u001b[39m \u001b[38;5;241m=\u001b[39m \u001b[38;5;28;01mFalse\u001b[39;00m,\n\u001b[0;32m    383\u001b[0m ) \u001b[38;5;241m-\u001b[39m\u001b[38;5;241m>\u001b[39m \u001b[38;5;28;01mNone\u001b[39;00m:\n\u001b[0;32m    384\u001b[0m \u001b[38;5;250m    \u001b[39m\u001b[38;5;124;03m\"\"\"Optimize an objective function.\u001b[39;00m\n\u001b[0;32m    385\u001b[0m \n\u001b[0;32m    386\u001b[0m \u001b[38;5;124;03m    Optimization is done by choosing a suitable set of hyperparameter values from a given\u001b[39;00m\n\u001b[1;32m   (...)\u001b[0m\n\u001b[0;32m    473\u001b[0m \u001b[38;5;124;03m            If nested invocation of this method occurs.\u001b[39;00m\n\u001b[0;32m    474\u001b[0m \u001b[38;5;124;03m    \"\"\"\u001b[39;00m\n\u001b[1;32m--> 475\u001b[0m     \u001b[43m_optimize\u001b[49m\u001b[43m(\u001b[49m\n\u001b[0;32m    476\u001b[0m \u001b[43m        \u001b[49m\u001b[43mstudy\u001b[49m\u001b[38;5;241;43m=\u001b[39;49m\u001b[38;5;28;43mself\u001b[39;49m\u001b[43m,\u001b[49m\n\u001b[0;32m    477\u001b[0m \u001b[43m        \u001b[49m\u001b[43mfunc\u001b[49m\u001b[38;5;241;43m=\u001b[39;49m\u001b[43mfunc\u001b[49m\u001b[43m,\u001b[49m\n\u001b[0;32m    478\u001b[0m \u001b[43m        \u001b[49m\u001b[43mn_trials\u001b[49m\u001b[38;5;241;43m=\u001b[39;49m\u001b[43mn_trials\u001b[49m\u001b[43m,\u001b[49m\n\u001b[0;32m    479\u001b[0m \u001b[43m        \u001b[49m\u001b[43mtimeout\u001b[49m\u001b[38;5;241;43m=\u001b[39;49m\u001b[43mtimeout\u001b[49m\u001b[43m,\u001b[49m\n\u001b[0;32m    480\u001b[0m \u001b[43m        \u001b[49m\u001b[43mn_jobs\u001b[49m\u001b[38;5;241;43m=\u001b[39;49m\u001b[43mn_jobs\u001b[49m\u001b[43m,\u001b[49m\n\u001b[0;32m    481\u001b[0m \u001b[43m        \u001b[49m\u001b[43mcatch\u001b[49m\u001b[38;5;241;43m=\u001b[39;49m\u001b[38;5;28;43mtuple\u001b[39;49m\u001b[43m(\u001b[49m\u001b[43mcatch\u001b[49m\u001b[43m)\u001b[49m\u001b[43m \u001b[49m\u001b[38;5;28;43;01mif\u001b[39;49;00m\u001b[43m \u001b[49m\u001b[38;5;28;43misinstance\u001b[39;49m\u001b[43m(\u001b[49m\u001b[43mcatch\u001b[49m\u001b[43m,\u001b[49m\u001b[43m \u001b[49m\u001b[43mIterable\u001b[49m\u001b[43m)\u001b[49m\u001b[43m \u001b[49m\u001b[38;5;28;43;01melse\u001b[39;49;00m\u001b[43m \u001b[49m\u001b[43m(\u001b[49m\u001b[43mcatch\u001b[49m\u001b[43m,\u001b[49m\u001b[43m)\u001b[49m\u001b[43m,\u001b[49m\n\u001b[0;32m    482\u001b[0m \u001b[43m        \u001b[49m\u001b[43mcallbacks\u001b[49m\u001b[38;5;241;43m=\u001b[39;49m\u001b[43mcallbacks\u001b[49m\u001b[43m,\u001b[49m\n\u001b[0;32m    483\u001b[0m \u001b[43m        \u001b[49m\u001b[43mgc_after_trial\u001b[49m\u001b[38;5;241;43m=\u001b[39;49m\u001b[43mgc_after_trial\u001b[49m\u001b[43m,\u001b[49m\n\u001b[0;32m    484\u001b[0m \u001b[43m        \u001b[49m\u001b[43mshow_progress_bar\u001b[49m\u001b[38;5;241;43m=\u001b[39;49m\u001b[43mshow_progress_bar\u001b[49m\u001b[43m,\u001b[49m\n\u001b[0;32m    485\u001b[0m \u001b[43m    \u001b[49m\u001b[43m)\u001b[49m\n",
      "File \u001b[1;32mc:\\Users\\Warge\\AppData\\Local\\Programs\\Python\\Python312\\Lib\\site-packages\\optuna\\study\\_optimize.py:63\u001b[0m, in \u001b[0;36m_optimize\u001b[1;34m(study, func, n_trials, timeout, n_jobs, catch, callbacks, gc_after_trial, show_progress_bar)\u001b[0m\n\u001b[0;32m     61\u001b[0m \u001b[38;5;28;01mtry\u001b[39;00m:\n\u001b[0;32m     62\u001b[0m     \u001b[38;5;28;01mif\u001b[39;00m n_jobs \u001b[38;5;241m==\u001b[39m \u001b[38;5;241m1\u001b[39m:\n\u001b[1;32m---> 63\u001b[0m         \u001b[43m_optimize_sequential\u001b[49m\u001b[43m(\u001b[49m\n\u001b[0;32m     64\u001b[0m \u001b[43m            \u001b[49m\u001b[43mstudy\u001b[49m\u001b[43m,\u001b[49m\n\u001b[0;32m     65\u001b[0m \u001b[43m            \u001b[49m\u001b[43mfunc\u001b[49m\u001b[43m,\u001b[49m\n\u001b[0;32m     66\u001b[0m \u001b[43m            \u001b[49m\u001b[43mn_trials\u001b[49m\u001b[43m,\u001b[49m\n\u001b[0;32m     67\u001b[0m \u001b[43m            \u001b[49m\u001b[43mtimeout\u001b[49m\u001b[43m,\u001b[49m\n\u001b[0;32m     68\u001b[0m \u001b[43m            \u001b[49m\u001b[43mcatch\u001b[49m\u001b[43m,\u001b[49m\n\u001b[0;32m     69\u001b[0m \u001b[43m            \u001b[49m\u001b[43mcallbacks\u001b[49m\u001b[43m,\u001b[49m\n\u001b[0;32m     70\u001b[0m \u001b[43m            \u001b[49m\u001b[43mgc_after_trial\u001b[49m\u001b[43m,\u001b[49m\n\u001b[0;32m     71\u001b[0m \u001b[43m            \u001b[49m\u001b[43mreseed_sampler_rng\u001b[49m\u001b[38;5;241;43m=\u001b[39;49m\u001b[38;5;28;43;01mFalse\u001b[39;49;00m\u001b[43m,\u001b[49m\n\u001b[0;32m     72\u001b[0m \u001b[43m            \u001b[49m\u001b[43mtime_start\u001b[49m\u001b[38;5;241;43m=\u001b[39;49m\u001b[38;5;28;43;01mNone\u001b[39;49;00m\u001b[43m,\u001b[49m\n\u001b[0;32m     73\u001b[0m \u001b[43m            \u001b[49m\u001b[43mprogress_bar\u001b[49m\u001b[38;5;241;43m=\u001b[39;49m\u001b[43mprogress_bar\u001b[49m\u001b[43m,\u001b[49m\n\u001b[0;32m     74\u001b[0m \u001b[43m        \u001b[49m\u001b[43m)\u001b[49m\n\u001b[0;32m     75\u001b[0m     \u001b[38;5;28;01melse\u001b[39;00m:\n\u001b[0;32m     76\u001b[0m         \u001b[38;5;28;01mif\u001b[39;00m n_jobs \u001b[38;5;241m==\u001b[39m \u001b[38;5;241m-\u001b[39m\u001b[38;5;241m1\u001b[39m:\n",
      "File \u001b[1;32mc:\\Users\\Warge\\AppData\\Local\\Programs\\Python\\Python312\\Lib\\site-packages\\optuna\\study\\_optimize.py:160\u001b[0m, in \u001b[0;36m_optimize_sequential\u001b[1;34m(study, func, n_trials, timeout, catch, callbacks, gc_after_trial, reseed_sampler_rng, time_start, progress_bar)\u001b[0m\n\u001b[0;32m    157\u001b[0m         \u001b[38;5;28;01mbreak\u001b[39;00m\n\u001b[0;32m    159\u001b[0m \u001b[38;5;28;01mtry\u001b[39;00m:\n\u001b[1;32m--> 160\u001b[0m     frozen_trial \u001b[38;5;241m=\u001b[39m \u001b[43m_run_trial\u001b[49m\u001b[43m(\u001b[49m\u001b[43mstudy\u001b[49m\u001b[43m,\u001b[49m\u001b[43m \u001b[49m\u001b[43mfunc\u001b[49m\u001b[43m,\u001b[49m\u001b[43m \u001b[49m\u001b[43mcatch\u001b[49m\u001b[43m)\u001b[49m\n\u001b[0;32m    161\u001b[0m \u001b[38;5;28;01mfinally\u001b[39;00m:\n\u001b[0;32m    162\u001b[0m     \u001b[38;5;66;03m# The following line mitigates memory problems that can be occurred in some\u001b[39;00m\n\u001b[0;32m    163\u001b[0m     \u001b[38;5;66;03m# environments (e.g., services that use computing containers such as GitHub Actions).\u001b[39;00m\n\u001b[0;32m    164\u001b[0m     \u001b[38;5;66;03m# Please refer to the following PR for further details:\u001b[39;00m\n\u001b[0;32m    165\u001b[0m     \u001b[38;5;66;03m# https://github.com/optuna/optuna/pull/325.\u001b[39;00m\n\u001b[0;32m    166\u001b[0m     \u001b[38;5;28;01mif\u001b[39;00m gc_after_trial:\n",
      "File \u001b[1;32mc:\\Users\\Warge\\AppData\\Local\\Programs\\Python\\Python312\\Lib\\site-packages\\optuna\\study\\_optimize.py:248\u001b[0m, in \u001b[0;36m_run_trial\u001b[1;34m(study, func, catch)\u001b[0m\n\u001b[0;32m    241\u001b[0m         \u001b[38;5;28;01massert\u001b[39;00m \u001b[38;5;28;01mFalse\u001b[39;00m, \u001b[38;5;124m\"\u001b[39m\u001b[38;5;124mShould not reach.\u001b[39m\u001b[38;5;124m\"\u001b[39m\n\u001b[0;32m    243\u001b[0m \u001b[38;5;28;01mif\u001b[39;00m (\n\u001b[0;32m    244\u001b[0m     frozen_trial\u001b[38;5;241m.\u001b[39mstate \u001b[38;5;241m==\u001b[39m TrialState\u001b[38;5;241m.\u001b[39mFAIL\n\u001b[0;32m    245\u001b[0m     \u001b[38;5;129;01mand\u001b[39;00m func_err \u001b[38;5;129;01mis\u001b[39;00m \u001b[38;5;129;01mnot\u001b[39;00m \u001b[38;5;28;01mNone\u001b[39;00m\n\u001b[0;32m    246\u001b[0m     \u001b[38;5;129;01mand\u001b[39;00m \u001b[38;5;129;01mnot\u001b[39;00m \u001b[38;5;28misinstance\u001b[39m(func_err, catch)\n\u001b[0;32m    247\u001b[0m ):\n\u001b[1;32m--> 248\u001b[0m     \u001b[38;5;28;01mraise\u001b[39;00m func_err\n\u001b[0;32m    249\u001b[0m \u001b[38;5;28;01mreturn\u001b[39;00m frozen_trial\n",
      "File \u001b[1;32mc:\\Users\\Warge\\AppData\\Local\\Programs\\Python\\Python312\\Lib\\site-packages\\optuna\\study\\_optimize.py:197\u001b[0m, in \u001b[0;36m_run_trial\u001b[1;34m(study, func, catch)\u001b[0m\n\u001b[0;32m    195\u001b[0m \u001b[38;5;28;01mwith\u001b[39;00m get_heartbeat_thread(trial\u001b[38;5;241m.\u001b[39m_trial_id, study\u001b[38;5;241m.\u001b[39m_storage):\n\u001b[0;32m    196\u001b[0m     \u001b[38;5;28;01mtry\u001b[39;00m:\n\u001b[1;32m--> 197\u001b[0m         value_or_values \u001b[38;5;241m=\u001b[39m \u001b[43mfunc\u001b[49m\u001b[43m(\u001b[49m\u001b[43mtrial\u001b[49m\u001b[43m)\u001b[49m\n\u001b[0;32m    198\u001b[0m     \u001b[38;5;28;01mexcept\u001b[39;00m exceptions\u001b[38;5;241m.\u001b[39mTrialPruned \u001b[38;5;28;01mas\u001b[39;00m e:\n\u001b[0;32m    199\u001b[0m         \u001b[38;5;66;03m# TODO(mamu): Handle multi-objective cases.\u001b[39;00m\n\u001b[0;32m    200\u001b[0m         state \u001b[38;5;241m=\u001b[39m TrialState\u001b[38;5;241m.\u001b[39mPRUNED\n",
      "Cell \u001b[1;32mIn[41], line 18\u001b[0m, in \u001b[0;36mobjective\u001b[1;34m(trial)\u001b[0m\n\u001b[0;32m      2\u001b[0m \u001b[38;5;28;01mdef\u001b[39;00m\u001b[38;5;250m \u001b[39m\u001b[38;5;21mobjective\u001b[39m(trial):\n\u001b[0;32m      3\u001b[0m     model \u001b[38;5;241m=\u001b[39m CatBoostClassifier(\n\u001b[0;32m      4\u001b[0m         task_type\u001b[38;5;241m=\u001b[39m\u001b[38;5;124m\"\u001b[39m\u001b[38;5;124mGPU\u001b[39m\u001b[38;5;124m\"\u001b[39m,\n\u001b[0;32m      5\u001b[0m         devices\u001b[38;5;241m=\u001b[39m\u001b[38;5;124m'\u001b[39m\u001b[38;5;124m0:1\u001b[39m\u001b[38;5;124m'\u001b[39m,\n\u001b[1;32m   (...)\u001b[0m\n\u001b[0;32m     16\u001b[0m         verbose\u001b[38;5;241m=\u001b[39m\u001b[38;5;28;01mFalse\u001b[39;00m\n\u001b[0;32m     17\u001b[0m     )\n\u001b[1;32m---> 18\u001b[0m     \u001b[43mmodel\u001b[49m\u001b[38;5;241;43m.\u001b[39;49m\u001b[43mfit\u001b[49m\u001b[43m(\u001b[49m\u001b[43mX_train\u001b[49m\u001b[43m,\u001b[49m\u001b[43m \u001b[49m\u001b[43my_train\u001b[49m\u001b[43m)\u001b[49m\n\u001b[0;32m     19\u001b[0m     y_pred \u001b[38;5;241m=\u001b[39m model\u001b[38;5;241m.\u001b[39mpredict(X_valid)\n\u001b[0;32m     20\u001b[0m     \u001b[38;5;28;01mreturn\u001b[39;00m roc_auc_score(y_valid, y_pred)\n",
      "File \u001b[1;32mc:\\Users\\Warge\\AppData\\Local\\Programs\\Python\\Python312\\Lib\\site-packages\\catboost\\core.py:5245\u001b[0m, in \u001b[0;36mCatBoostClassifier.fit\u001b[1;34m(self, X, y, cat_features, text_features, embedding_features, graph, sample_weight, baseline, use_best_model, eval_set, verbose, logging_level, plot, plot_file, column_description, verbose_eval, metric_period, silent, early_stopping_rounds, save_snapshot, snapshot_file, snapshot_interval, init_model, callbacks, log_cout, log_cerr)\u001b[0m\n\u001b[0;32m   5242\u001b[0m \u001b[38;5;28;01mif\u001b[39;00m \u001b[38;5;124m'\u001b[39m\u001b[38;5;124mloss_function\u001b[39m\u001b[38;5;124m'\u001b[39m \u001b[38;5;129;01min\u001b[39;00m params:\n\u001b[0;32m   5243\u001b[0m     CatBoostClassifier\u001b[38;5;241m.\u001b[39m_check_is_compatible_loss(params[\u001b[38;5;124m'\u001b[39m\u001b[38;5;124mloss_function\u001b[39m\u001b[38;5;124m'\u001b[39m])\n\u001b[1;32m-> 5245\u001b[0m \u001b[38;5;28;43mself\u001b[39;49m\u001b[38;5;241;43m.\u001b[39;49m\u001b[43m_fit\u001b[49m\u001b[43m(\u001b[49m\u001b[43mX\u001b[49m\u001b[43m,\u001b[49m\u001b[43m \u001b[49m\u001b[43my\u001b[49m\u001b[43m,\u001b[49m\u001b[43m \u001b[49m\u001b[43mcat_features\u001b[49m\u001b[43m,\u001b[49m\u001b[43m \u001b[49m\u001b[43mtext_features\u001b[49m\u001b[43m,\u001b[49m\u001b[43m \u001b[49m\u001b[43membedding_features\u001b[49m\u001b[43m,\u001b[49m\u001b[43m \u001b[49m\u001b[38;5;28;43;01mNone\u001b[39;49;00m\u001b[43m,\u001b[49m\u001b[43m \u001b[49m\u001b[43mgraph\u001b[49m\u001b[43m,\u001b[49m\u001b[43m \u001b[49m\u001b[43msample_weight\u001b[49m\u001b[43m,\u001b[49m\u001b[43m \u001b[49m\u001b[38;5;28;43;01mNone\u001b[39;49;00m\u001b[43m,\u001b[49m\u001b[43m \u001b[49m\u001b[38;5;28;43;01mNone\u001b[39;49;00m\u001b[43m,\u001b[49m\u001b[43m \u001b[49m\u001b[38;5;28;43;01mNone\u001b[39;49;00m\u001b[43m,\u001b[49m\u001b[43m \u001b[49m\u001b[38;5;28;43;01mNone\u001b[39;49;00m\u001b[43m,\u001b[49m\u001b[43m \u001b[49m\u001b[43mbaseline\u001b[49m\u001b[43m,\u001b[49m\u001b[43m \u001b[49m\u001b[43muse_best_model\u001b[49m\u001b[43m,\u001b[49m\n\u001b[0;32m   5246\u001b[0m \u001b[43m          \u001b[49m\u001b[43meval_set\u001b[49m\u001b[43m,\u001b[49m\u001b[43m \u001b[49m\u001b[43mverbose\u001b[49m\u001b[43m,\u001b[49m\u001b[43m \u001b[49m\u001b[43mlogging_level\u001b[49m\u001b[43m,\u001b[49m\u001b[43m \u001b[49m\u001b[43mplot\u001b[49m\u001b[43m,\u001b[49m\u001b[43m \u001b[49m\u001b[43mplot_file\u001b[49m\u001b[43m,\u001b[49m\u001b[43m \u001b[49m\u001b[43mcolumn_description\u001b[49m\u001b[43m,\u001b[49m\u001b[43m \u001b[49m\u001b[43mverbose_eval\u001b[49m\u001b[43m,\u001b[49m\u001b[43m \u001b[49m\u001b[43mmetric_period\u001b[49m\u001b[43m,\u001b[49m\n\u001b[0;32m   5247\u001b[0m \u001b[43m          \u001b[49m\u001b[43msilent\u001b[49m\u001b[43m,\u001b[49m\u001b[43m \u001b[49m\u001b[43mearly_stopping_rounds\u001b[49m\u001b[43m,\u001b[49m\u001b[43m \u001b[49m\u001b[43msave_snapshot\u001b[49m\u001b[43m,\u001b[49m\u001b[43m \u001b[49m\u001b[43msnapshot_file\u001b[49m\u001b[43m,\u001b[49m\u001b[43m \u001b[49m\u001b[43msnapshot_interval\u001b[49m\u001b[43m,\u001b[49m\u001b[43m \u001b[49m\u001b[43minit_model\u001b[49m\u001b[43m,\u001b[49m\u001b[43m \u001b[49m\u001b[43mcallbacks\u001b[49m\u001b[43m,\u001b[49m\u001b[43m \u001b[49m\u001b[43mlog_cout\u001b[49m\u001b[43m,\u001b[49m\u001b[43m \u001b[49m\u001b[43mlog_cerr\u001b[49m\u001b[43m)\u001b[49m\n\u001b[0;32m   5248\u001b[0m \u001b[38;5;28;01mreturn\u001b[39;00m \u001b[38;5;28mself\u001b[39m\n",
      "File \u001b[1;32mc:\\Users\\Warge\\AppData\\Local\\Programs\\Python\\Python312\\Lib\\site-packages\\catboost\\core.py:2410\u001b[0m, in \u001b[0;36mCatBoost._fit\u001b[1;34m(self, X, y, cat_features, text_features, embedding_features, pairs, graph, sample_weight, group_id, group_weight, subgroup_id, pairs_weight, baseline, use_best_model, eval_set, verbose, logging_level, plot, plot_file, column_description, verbose_eval, metric_period, silent, early_stopping_rounds, save_snapshot, snapshot_file, snapshot_interval, init_model, callbacks, log_cout, log_cerr)\u001b[0m\n\u001b[0;32m   2407\u001b[0m allow_clear_pool \u001b[38;5;241m=\u001b[39m train_params[\u001b[38;5;124m\"\u001b[39m\u001b[38;5;124mallow_clear_pool\u001b[39m\u001b[38;5;124m\"\u001b[39m]\n\u001b[0;32m   2409\u001b[0m \u001b[38;5;28;01mwith\u001b[39;00m plot_wrapper(plot, plot_file, \u001b[38;5;124m'\u001b[39m\u001b[38;5;124mTraining plots\u001b[39m\u001b[38;5;124m'\u001b[39m, [_get_train_dir(\u001b[38;5;28mself\u001b[39m\u001b[38;5;241m.\u001b[39mget_params())]):\n\u001b[1;32m-> 2410\u001b[0m     \u001b[38;5;28;43mself\u001b[39;49m\u001b[38;5;241;43m.\u001b[39;49m\u001b[43m_train\u001b[49m\u001b[43m(\u001b[49m\n\u001b[0;32m   2411\u001b[0m \u001b[43m        \u001b[49m\u001b[43mtrain_pool\u001b[49m\u001b[43m,\u001b[49m\n\u001b[0;32m   2412\u001b[0m \u001b[43m        \u001b[49m\u001b[43mtrain_params\u001b[49m\u001b[43m[\u001b[49m\u001b[38;5;124;43m\"\u001b[39;49m\u001b[38;5;124;43meval_sets\u001b[39;49m\u001b[38;5;124;43m\"\u001b[39;49m\u001b[43m]\u001b[49m\u001b[43m,\u001b[49m\n\u001b[0;32m   2413\u001b[0m \u001b[43m        \u001b[49m\u001b[43mparams\u001b[49m\u001b[43m,\u001b[49m\n\u001b[0;32m   2414\u001b[0m \u001b[43m        \u001b[49m\u001b[43mallow_clear_pool\u001b[49m\u001b[43m,\u001b[49m\n\u001b[0;32m   2415\u001b[0m \u001b[43m        \u001b[49m\u001b[43mtrain_params\u001b[49m\u001b[43m[\u001b[49m\u001b[38;5;124;43m\"\u001b[39;49m\u001b[38;5;124;43minit_model\u001b[39;49m\u001b[38;5;124;43m\"\u001b[39;49m\u001b[43m]\u001b[49m\n\u001b[0;32m   2416\u001b[0m \u001b[43m    \u001b[49m\u001b[43m)\u001b[49m\n\u001b[0;32m   2418\u001b[0m \u001b[38;5;66;03m# Have property feature_importance possibly set\u001b[39;00m\n\u001b[0;32m   2419\u001b[0m loss \u001b[38;5;241m=\u001b[39m \u001b[38;5;28mself\u001b[39m\u001b[38;5;241m.\u001b[39m_object\u001b[38;5;241m.\u001b[39m_get_loss_function_name()\n",
      "File \u001b[1;32mc:\\Users\\Warge\\AppData\\Local\\Programs\\Python\\Python312\\Lib\\site-packages\\catboost\\core.py:1790\u001b[0m, in \u001b[0;36m_CatBoostBase._train\u001b[1;34m(self, train_pool, test_pool, params, allow_clear_pool, init_model)\u001b[0m\n\u001b[0;32m   1789\u001b[0m \u001b[38;5;28;01mdef\u001b[39;00m\u001b[38;5;250m \u001b[39m\u001b[38;5;21m_train\u001b[39m(\u001b[38;5;28mself\u001b[39m, train_pool, test_pool, params, allow_clear_pool, init_model):\n\u001b[1;32m-> 1790\u001b[0m     \u001b[38;5;28;43mself\u001b[39;49m\u001b[38;5;241;43m.\u001b[39;49m\u001b[43m_object\u001b[49m\u001b[38;5;241;43m.\u001b[39;49m\u001b[43m_train\u001b[49m\u001b[43m(\u001b[49m\u001b[43mtrain_pool\u001b[49m\u001b[43m,\u001b[49m\u001b[43m \u001b[49m\u001b[43mtest_pool\u001b[49m\u001b[43m,\u001b[49m\u001b[43m \u001b[49m\u001b[43mparams\u001b[49m\u001b[43m,\u001b[49m\u001b[43m \u001b[49m\u001b[43mallow_clear_pool\u001b[49m\u001b[43m,\u001b[49m\u001b[43m \u001b[49m\u001b[43minit_model\u001b[49m\u001b[38;5;241;43m.\u001b[39;49m\u001b[43m_object\u001b[49m\u001b[43m \u001b[49m\u001b[38;5;28;43;01mif\u001b[39;49;00m\u001b[43m \u001b[49m\u001b[43minit_model\u001b[49m\u001b[43m \u001b[49m\u001b[38;5;28;43;01melse\u001b[39;49;00m\u001b[43m \u001b[49m\u001b[38;5;28;43;01mNone\u001b[39;49;00m\u001b[43m)\u001b[49m\n\u001b[0;32m   1791\u001b[0m     \u001b[38;5;28mself\u001b[39m\u001b[38;5;241m.\u001b[39m_set_trained_model_attributes()\n",
      "File \u001b[1;32m_catboost.pyx:5017\u001b[0m, in \u001b[0;36m_catboost._CatBoost._train\u001b[1;34m()\u001b[0m\n",
      "File \u001b[1;32m_catboost.pyx:5066\u001b[0m, in \u001b[0;36m_catboost._CatBoost._train\u001b[1;34m()\u001b[0m\n",
      "\u001b[1;31mKeyboardInterrupt\u001b[0m: "
     ]
    }
   ],
   "source": [
    "study = optuna.create_study(study_name=\"catboost\", direction=\"maximize\", sampler=sampler)\n",
    "study.optimize(objective, n_trials=100)"
   ]
  },
  {
   "cell_type": "code",
   "execution_count": null,
   "metadata": {},
   "outputs": [],
   "source": [
    "#evaluate the trial\n",
    "print(\"Number of finished trials: \", len(study.trials))\n",
    "print(\"Best trial:\")\n",
    "trial = study.best_trial\n",
    "print(\"  Value: \", trial.value)\n",
    "print(\"  Params: \")\n",
    "for key, value in trial.params.items():\n",
    "    print(\"    {}: {}\".format(key, value))"
   ]
  },
  {
   "cell_type": "markdown",
   "metadata": {
    "id": "tn_kdvWYCnmQ"
   },
   "source": [
    "## 4. Creating prediction results\n",
    "Finally, let's make a prediction for the test data, and prepare a csv file to submit."
   ]
  },
  {
   "cell_type": "markdown",
   "metadata": {},
   "source": [
    "## Final fitting"
   ]
  },
  {
   "cell_type": "code",
   "execution_count": 46,
   "metadata": {},
   "outputs": [
    {
     "name": "stdout",
     "output_type": "stream",
     "text": [
      "0:\ttotal: 27.7ms\tremaining: 27.7s\n",
      "1:\ttotal: 55.1ms\tremaining: 27.5s\n",
      "2:\ttotal: 77.3ms\tremaining: 25.7s\n",
      "3:\ttotal: 97.1ms\tremaining: 24.2s\n",
      "4:\ttotal: 123ms\tremaining: 24.4s\n",
      "5:\ttotal: 150ms\tremaining: 24.8s\n",
      "6:\ttotal: 178ms\tremaining: 25.2s\n",
      "7:\ttotal: 202ms\tremaining: 25s\n",
      "8:\ttotal: 225ms\tremaining: 24.8s\n",
      "9:\ttotal: 252ms\tremaining: 24.9s\n",
      "10:\ttotal: 280ms\tremaining: 25.2s\n",
      "11:\ttotal: 311ms\tremaining: 25.6s\n",
      "12:\ttotal: 340ms\tremaining: 25.8s\n",
      "13:\ttotal: 360ms\tremaining: 25.3s\n",
      "14:\ttotal: 387ms\tremaining: 25.4s\n",
      "15:\ttotal: 407ms\tremaining: 25s\n",
      "16:\ttotal: 432ms\tremaining: 25s\n",
      "17:\ttotal: 455ms\tremaining: 24.8s\n",
      "18:\ttotal: 477ms\tremaining: 24.6s\n",
      "19:\ttotal: 498ms\tremaining: 24.4s\n",
      "20:\ttotal: 520ms\tremaining: 24.2s\n",
      "21:\ttotal: 534ms\tremaining: 23.8s\n",
      "22:\ttotal: 557ms\tremaining: 23.7s\n",
      "23:\ttotal: 581ms\tremaining: 23.6s\n",
      "24:\ttotal: 606ms\tremaining: 23.7s\n",
      "25:\ttotal: 630ms\tremaining: 23.6s\n",
      "26:\ttotal: 655ms\tremaining: 23.6s\n",
      "27:\ttotal: 682ms\tremaining: 23.7s\n",
      "28:\ttotal: 708ms\tremaining: 23.7s\n",
      "29:\ttotal: 732ms\tremaining: 23.7s\n",
      "30:\ttotal: 758ms\tremaining: 23.7s\n",
      "31:\ttotal: 784ms\tremaining: 23.7s\n",
      "32:\ttotal: 809ms\tremaining: 23.7s\n",
      "33:\ttotal: 832ms\tremaining: 23.6s\n",
      "34:\ttotal: 856ms\tremaining: 23.6s\n",
      "35:\ttotal: 883ms\tremaining: 23.6s\n",
      "36:\ttotal: 907ms\tremaining: 23.6s\n",
      "37:\ttotal: 931ms\tremaining: 23.6s\n",
      "38:\ttotal: 953ms\tremaining: 23.5s\n",
      "39:\ttotal: 976ms\tremaining: 23.4s\n",
      "40:\ttotal: 1000ms\tremaining: 23.4s\n",
      "41:\ttotal: 1.02s\tremaining: 23.3s\n",
      "42:\ttotal: 1.04s\tremaining: 23.3s\n",
      "43:\ttotal: 1.07s\tremaining: 23.2s\n",
      "44:\ttotal: 1.09s\tremaining: 23.2s\n",
      "45:\ttotal: 1.12s\tremaining: 23.1s\n",
      "46:\ttotal: 1.14s\tremaining: 23.1s\n",
      "47:\ttotal: 1.16s\tremaining: 23s\n",
      "48:\ttotal: 1.18s\tremaining: 23s\n",
      "49:\ttotal: 1.21s\tremaining: 22.9s\n",
      "50:\ttotal: 1.23s\tremaining: 22.9s\n",
      "51:\ttotal: 1.25s\tremaining: 22.9s\n",
      "52:\ttotal: 1.28s\tremaining: 22.9s\n",
      "53:\ttotal: 1.3s\tremaining: 22.8s\n",
      "54:\ttotal: 1.32s\tremaining: 22.8s\n",
      "55:\ttotal: 1.35s\tremaining: 22.7s\n",
      "56:\ttotal: 1.37s\tremaining: 22.7s\n",
      "57:\ttotal: 1.4s\tremaining: 22.7s\n",
      "58:\ttotal: 1.42s\tremaining: 22.6s\n",
      "59:\ttotal: 1.44s\tremaining: 22.6s\n",
      "60:\ttotal: 1.46s\tremaining: 22.4s\n",
      "61:\ttotal: 1.48s\tremaining: 22.4s\n",
      "62:\ttotal: 1.5s\tremaining: 22.4s\n",
      "63:\ttotal: 1.53s\tremaining: 22.3s\n",
      "64:\ttotal: 1.55s\tremaining: 22.3s\n",
      "65:\ttotal: 1.57s\tremaining: 22.2s\n",
      "66:\ttotal: 1.6s\tremaining: 22.2s\n",
      "67:\ttotal: 1.62s\tremaining: 22.2s\n",
      "68:\ttotal: 1.64s\tremaining: 22.2s\n",
      "69:\ttotal: 1.66s\tremaining: 22.1s\n",
      "70:\ttotal: 1.69s\tremaining: 22.1s\n",
      "71:\ttotal: 1.71s\tremaining: 22.1s\n",
      "72:\ttotal: 1.74s\tremaining: 22s\n",
      "73:\ttotal: 1.76s\tremaining: 22s\n",
      "74:\ttotal: 1.78s\tremaining: 22s\n",
      "75:\ttotal: 1.8s\tremaining: 22s\n",
      "76:\ttotal: 1.83s\tremaining: 21.9s\n",
      "77:\ttotal: 1.85s\tremaining: 21.9s\n",
      "78:\ttotal: 1.88s\tremaining: 21.9s\n",
      "79:\ttotal: 1.9s\tremaining: 21.9s\n",
      "80:\ttotal: 1.93s\tremaining: 21.8s\n",
      "81:\ttotal: 1.95s\tremaining: 21.8s\n",
      "82:\ttotal: 1.97s\tremaining: 21.8s\n",
      "83:\ttotal: 2s\tremaining: 21.8s\n",
      "84:\ttotal: 2.02s\tremaining: 21.8s\n",
      "85:\ttotal: 2.04s\tremaining: 21.7s\n",
      "86:\ttotal: 2.07s\tremaining: 21.7s\n",
      "87:\ttotal: 2.09s\tremaining: 21.7s\n",
      "88:\ttotal: 2.12s\tremaining: 21.7s\n",
      "89:\ttotal: 2.14s\tremaining: 21.7s\n",
      "90:\ttotal: 2.17s\tremaining: 21.6s\n",
      "91:\ttotal: 2.19s\tremaining: 21.6s\n",
      "92:\ttotal: 2.21s\tremaining: 21.6s\n",
      "93:\ttotal: 2.24s\tremaining: 21.6s\n",
      "94:\ttotal: 2.26s\tremaining: 21.5s\n",
      "95:\ttotal: 2.28s\tremaining: 21.5s\n",
      "96:\ttotal: 2.3s\tremaining: 21.4s\n",
      "97:\ttotal: 2.32s\tremaining: 21.4s\n",
      "98:\ttotal: 2.35s\tremaining: 21.4s\n",
      "99:\ttotal: 2.37s\tremaining: 21.4s\n",
      "100:\ttotal: 2.4s\tremaining: 21.3s\n",
      "101:\ttotal: 2.42s\tremaining: 21.3s\n",
      "102:\ttotal: 2.44s\tremaining: 21.3s\n",
      "103:\ttotal: 2.46s\tremaining: 21.2s\n",
      "104:\ttotal: 2.48s\tremaining: 21.2s\n",
      "105:\ttotal: 2.51s\tremaining: 21.1s\n",
      "106:\ttotal: 2.53s\tremaining: 21.1s\n",
      "107:\ttotal: 2.56s\tremaining: 21.1s\n",
      "108:\ttotal: 2.58s\tremaining: 21.1s\n",
      "109:\ttotal: 2.61s\tremaining: 21.1s\n",
      "110:\ttotal: 2.63s\tremaining: 21.1s\n",
      "111:\ttotal: 2.65s\tremaining: 21s\n",
      "112:\ttotal: 2.68s\tremaining: 21s\n",
      "113:\ttotal: 2.7s\tremaining: 21s\n",
      "114:\ttotal: 2.72s\tremaining: 21s\n",
      "115:\ttotal: 2.75s\tremaining: 20.9s\n",
      "116:\ttotal: 2.77s\tremaining: 20.9s\n",
      "117:\ttotal: 2.79s\tremaining: 20.9s\n",
      "118:\ttotal: 2.82s\tremaining: 20.9s\n",
      "119:\ttotal: 2.84s\tremaining: 20.8s\n",
      "120:\ttotal: 2.87s\tremaining: 20.8s\n",
      "121:\ttotal: 2.89s\tremaining: 20.8s\n",
      "122:\ttotal: 2.92s\tremaining: 20.8s\n",
      "123:\ttotal: 2.94s\tremaining: 20.8s\n",
      "124:\ttotal: 2.96s\tremaining: 20.8s\n",
      "125:\ttotal: 2.99s\tremaining: 20.7s\n",
      "126:\ttotal: 3.01s\tremaining: 20.7s\n",
      "127:\ttotal: 3.04s\tremaining: 20.7s\n",
      "128:\ttotal: 3.06s\tremaining: 20.7s\n",
      "129:\ttotal: 3.08s\tremaining: 20.6s\n",
      "130:\ttotal: 3.11s\tremaining: 20.6s\n",
      "131:\ttotal: 3.13s\tremaining: 20.6s\n",
      "132:\ttotal: 3.16s\tremaining: 20.6s\n",
      "133:\ttotal: 3.18s\tremaining: 20.6s\n",
      "134:\ttotal: 3.21s\tremaining: 20.6s\n",
      "135:\ttotal: 3.23s\tremaining: 20.5s\n",
      "136:\ttotal: 3.26s\tremaining: 20.5s\n",
      "137:\ttotal: 3.28s\tremaining: 20.5s\n",
      "138:\ttotal: 3.31s\tremaining: 20.5s\n",
      "139:\ttotal: 3.33s\tremaining: 20.5s\n",
      "140:\ttotal: 3.36s\tremaining: 20.4s\n",
      "141:\ttotal: 3.38s\tremaining: 20.4s\n",
      "142:\ttotal: 3.4s\tremaining: 20.4s\n",
      "143:\ttotal: 3.43s\tremaining: 20.4s\n",
      "144:\ttotal: 3.45s\tremaining: 20.4s\n",
      "145:\ttotal: 3.48s\tremaining: 20.3s\n",
      "146:\ttotal: 3.5s\tremaining: 20.3s\n",
      "147:\ttotal: 3.52s\tremaining: 20.3s\n",
      "148:\ttotal: 3.55s\tremaining: 20.3s\n",
      "149:\ttotal: 3.57s\tremaining: 20.3s\n",
      "150:\ttotal: 3.6s\tremaining: 20.2s\n",
      "151:\ttotal: 3.62s\tremaining: 20.2s\n",
      "152:\ttotal: 3.65s\tremaining: 20.2s\n",
      "153:\ttotal: 3.67s\tremaining: 20.2s\n",
      "154:\ttotal: 3.7s\tremaining: 20.2s\n",
      "155:\ttotal: 3.72s\tremaining: 20.1s\n",
      "156:\ttotal: 3.74s\tremaining: 20.1s\n",
      "157:\ttotal: 3.77s\tremaining: 20.1s\n",
      "158:\ttotal: 3.79s\tremaining: 20s\n",
      "159:\ttotal: 3.81s\tremaining: 20s\n",
      "160:\ttotal: 3.83s\tremaining: 20s\n",
      "161:\ttotal: 3.86s\tremaining: 20s\n",
      "162:\ttotal: 3.88s\tremaining: 19.9s\n",
      "163:\ttotal: 3.91s\tremaining: 19.9s\n",
      "164:\ttotal: 3.93s\tremaining: 19.9s\n",
      "165:\ttotal: 3.95s\tremaining: 19.9s\n",
      "166:\ttotal: 3.98s\tremaining: 19.8s\n",
      "167:\ttotal: 4s\tremaining: 19.8s\n",
      "168:\ttotal: 4.03s\tremaining: 19.8s\n",
      "169:\ttotal: 4.05s\tremaining: 19.8s\n",
      "170:\ttotal: 4.08s\tremaining: 19.8s\n",
      "171:\ttotal: 4.1s\tremaining: 19.8s\n",
      "172:\ttotal: 4.13s\tremaining: 19.7s\n",
      "173:\ttotal: 4.15s\tremaining: 19.7s\n",
      "174:\ttotal: 4.17s\tremaining: 19.7s\n",
      "175:\ttotal: 4.2s\tremaining: 19.6s\n",
      "176:\ttotal: 4.22s\tremaining: 19.6s\n",
      "177:\ttotal: 4.24s\tremaining: 19.6s\n",
      "178:\ttotal: 4.27s\tremaining: 19.6s\n",
      "179:\ttotal: 4.29s\tremaining: 19.6s\n",
      "180:\ttotal: 4.32s\tremaining: 19.5s\n",
      "181:\ttotal: 4.34s\tremaining: 19.5s\n",
      "182:\ttotal: 4.37s\tremaining: 19.5s\n",
      "183:\ttotal: 4.39s\tremaining: 19.5s\n",
      "184:\ttotal: 4.42s\tremaining: 19.5s\n",
      "185:\ttotal: 4.44s\tremaining: 19.4s\n",
      "186:\ttotal: 4.46s\tremaining: 19.4s\n",
      "187:\ttotal: 4.49s\tremaining: 19.4s\n",
      "188:\ttotal: 4.51s\tremaining: 19.4s\n",
      "189:\ttotal: 4.53s\tremaining: 19.3s\n",
      "190:\ttotal: 4.56s\tremaining: 19.3s\n",
      "191:\ttotal: 4.58s\tremaining: 19.3s\n",
      "192:\ttotal: 4.61s\tremaining: 19.3s\n",
      "193:\ttotal: 4.63s\tremaining: 19.2s\n",
      "194:\ttotal: 4.66s\tremaining: 19.2s\n",
      "195:\ttotal: 4.68s\tremaining: 19.2s\n",
      "196:\ttotal: 4.7s\tremaining: 19.2s\n",
      "197:\ttotal: 4.73s\tremaining: 19.2s\n",
      "198:\ttotal: 4.75s\tremaining: 19.1s\n",
      "199:\ttotal: 4.78s\tremaining: 19.1s\n",
      "200:\ttotal: 4.8s\tremaining: 19.1s\n",
      "201:\ttotal: 4.82s\tremaining: 19.1s\n",
      "202:\ttotal: 4.85s\tremaining: 19s\n",
      "203:\ttotal: 4.87s\tremaining: 19s\n",
      "204:\ttotal: 4.9s\tremaining: 19s\n",
      "205:\ttotal: 4.92s\tremaining: 19s\n",
      "206:\ttotal: 4.94s\tremaining: 18.9s\n",
      "207:\ttotal: 4.97s\tremaining: 18.9s\n",
      "208:\ttotal: 4.99s\tremaining: 18.9s\n",
      "209:\ttotal: 5.01s\tremaining: 18.9s\n",
      "210:\ttotal: 5.04s\tremaining: 18.8s\n",
      "211:\ttotal: 5.06s\tremaining: 18.8s\n",
      "212:\ttotal: 5.09s\tremaining: 18.8s\n",
      "213:\ttotal: 5.11s\tremaining: 18.8s\n",
      "214:\ttotal: 5.13s\tremaining: 18.7s\n",
      "215:\ttotal: 5.16s\tremaining: 18.7s\n",
      "216:\ttotal: 5.19s\tremaining: 18.7s\n",
      "217:\ttotal: 5.21s\tremaining: 18.7s\n",
      "218:\ttotal: 5.24s\tremaining: 18.7s\n",
      "219:\ttotal: 5.26s\tremaining: 18.6s\n",
      "220:\ttotal: 5.28s\tremaining: 18.6s\n",
      "221:\ttotal: 5.31s\tremaining: 18.6s\n",
      "222:\ttotal: 5.33s\tremaining: 18.6s\n",
      "223:\ttotal: 5.36s\tremaining: 18.6s\n",
      "224:\ttotal: 5.38s\tremaining: 18.5s\n",
      "225:\ttotal: 5.4s\tremaining: 18.5s\n",
      "226:\ttotal: 5.42s\tremaining: 18.5s\n",
      "227:\ttotal: 5.45s\tremaining: 18.5s\n",
      "228:\ttotal: 5.47s\tremaining: 18.4s\n",
      "229:\ttotal: 5.5s\tremaining: 18.4s\n",
      "230:\ttotal: 5.52s\tremaining: 18.4s\n",
      "231:\ttotal: 5.55s\tremaining: 18.4s\n",
      "232:\ttotal: 5.57s\tremaining: 18.3s\n",
      "233:\ttotal: 5.6s\tremaining: 18.3s\n",
      "234:\ttotal: 5.62s\tremaining: 18.3s\n",
      "235:\ttotal: 5.64s\tremaining: 18.3s\n",
      "236:\ttotal: 5.67s\tremaining: 18.2s\n",
      "237:\ttotal: 5.69s\tremaining: 18.2s\n",
      "238:\ttotal: 5.71s\tremaining: 18.2s\n",
      "239:\ttotal: 5.74s\tremaining: 18.2s\n",
      "240:\ttotal: 5.76s\tremaining: 18.1s\n",
      "241:\ttotal: 5.78s\tremaining: 18.1s\n",
      "242:\ttotal: 5.81s\tremaining: 18.1s\n",
      "243:\ttotal: 5.83s\tremaining: 18.1s\n",
      "244:\ttotal: 5.85s\tremaining: 18s\n",
      "245:\ttotal: 5.88s\tremaining: 18s\n",
      "246:\ttotal: 5.9s\tremaining: 18s\n",
      "247:\ttotal: 5.93s\tremaining: 18s\n",
      "248:\ttotal: 5.95s\tremaining: 17.9s\n",
      "249:\ttotal: 5.98s\tremaining: 17.9s\n",
      "250:\ttotal: 6s\tremaining: 17.9s\n",
      "251:\ttotal: 6.03s\tremaining: 17.9s\n",
      "252:\ttotal: 6.05s\tremaining: 17.9s\n",
      "253:\ttotal: 6.07s\tremaining: 17.8s\n",
      "254:\ttotal: 6.1s\tremaining: 17.8s\n",
      "255:\ttotal: 6.12s\tremaining: 17.8s\n",
      "256:\ttotal: 6.14s\tremaining: 17.8s\n",
      "257:\ttotal: 6.17s\tremaining: 17.7s\n",
      "258:\ttotal: 6.19s\tremaining: 17.7s\n",
      "259:\ttotal: 6.21s\tremaining: 17.7s\n",
      "260:\ttotal: 6.24s\tremaining: 17.7s\n",
      "261:\ttotal: 6.27s\tremaining: 17.6s\n",
      "262:\ttotal: 6.29s\tremaining: 17.6s\n",
      "263:\ttotal: 6.32s\tremaining: 17.6s\n",
      "264:\ttotal: 6.34s\tremaining: 17.6s\n",
      "265:\ttotal: 6.36s\tremaining: 17.6s\n",
      "266:\ttotal: 6.39s\tremaining: 17.5s\n",
      "267:\ttotal: 6.41s\tremaining: 17.5s\n",
      "268:\ttotal: 6.43s\tremaining: 17.5s\n",
      "269:\ttotal: 6.46s\tremaining: 17.5s\n",
      "270:\ttotal: 6.48s\tremaining: 17.4s\n",
      "271:\ttotal: 6.5s\tremaining: 17.4s\n",
      "272:\ttotal: 6.53s\tremaining: 17.4s\n",
      "273:\ttotal: 6.55s\tremaining: 17.4s\n",
      "274:\ttotal: 6.57s\tremaining: 17.3s\n",
      "275:\ttotal: 6.59s\tremaining: 17.3s\n",
      "276:\ttotal: 6.62s\tremaining: 17.3s\n",
      "277:\ttotal: 6.64s\tremaining: 17.2s\n",
      "278:\ttotal: 6.67s\tremaining: 17.2s\n",
      "279:\ttotal: 6.69s\tremaining: 17.2s\n",
      "280:\ttotal: 6.71s\tremaining: 17.2s\n",
      "281:\ttotal: 6.74s\tremaining: 17.2s\n",
      "282:\ttotal: 6.76s\tremaining: 17.1s\n",
      "283:\ttotal: 6.79s\tremaining: 17.1s\n",
      "284:\ttotal: 6.81s\tremaining: 17.1s\n",
      "285:\ttotal: 6.83s\tremaining: 17.1s\n",
      "286:\ttotal: 6.86s\tremaining: 17s\n",
      "287:\ttotal: 6.88s\tremaining: 17s\n",
      "288:\ttotal: 6.91s\tremaining: 17s\n",
      "289:\ttotal: 6.93s\tremaining: 17s\n",
      "290:\ttotal: 6.95s\tremaining: 16.9s\n",
      "291:\ttotal: 6.98s\tremaining: 16.9s\n",
      "292:\ttotal: 7s\tremaining: 16.9s\n",
      "293:\ttotal: 7.02s\tremaining: 16.9s\n",
      "294:\ttotal: 7.05s\tremaining: 16.8s\n",
      "295:\ttotal: 7.07s\tremaining: 16.8s\n",
      "296:\ttotal: 7.1s\tremaining: 16.8s\n",
      "297:\ttotal: 7.12s\tremaining: 16.8s\n",
      "298:\ttotal: 7.14s\tremaining: 16.8s\n",
      "299:\ttotal: 7.17s\tremaining: 16.7s\n",
      "300:\ttotal: 7.19s\tremaining: 16.7s\n",
      "301:\ttotal: 7.21s\tremaining: 16.7s\n",
      "302:\ttotal: 7.24s\tremaining: 16.6s\n",
      "303:\ttotal: 7.26s\tremaining: 16.6s\n",
      "304:\ttotal: 7.28s\tremaining: 16.6s\n",
      "305:\ttotal: 7.31s\tremaining: 16.6s\n",
      "306:\ttotal: 7.33s\tremaining: 16.5s\n",
      "307:\ttotal: 7.36s\tremaining: 16.5s\n",
      "308:\ttotal: 7.38s\tremaining: 16.5s\n",
      "309:\ttotal: 7.4s\tremaining: 16.5s\n",
      "310:\ttotal: 7.43s\tremaining: 16.5s\n",
      "311:\ttotal: 7.45s\tremaining: 16.4s\n",
      "312:\ttotal: 7.47s\tremaining: 16.4s\n",
      "313:\ttotal: 7.5s\tremaining: 16.4s\n",
      "314:\ttotal: 7.52s\tremaining: 16.4s\n",
      "315:\ttotal: 7.55s\tremaining: 16.3s\n",
      "316:\ttotal: 7.57s\tremaining: 16.3s\n",
      "317:\ttotal: 7.59s\tremaining: 16.3s\n",
      "318:\ttotal: 7.62s\tremaining: 16.3s\n",
      "319:\ttotal: 7.64s\tremaining: 16.2s\n",
      "320:\ttotal: 7.67s\tremaining: 16.2s\n",
      "321:\ttotal: 7.69s\tremaining: 16.2s\n",
      "322:\ttotal: 7.71s\tremaining: 16.2s\n",
      "323:\ttotal: 7.74s\tremaining: 16.1s\n",
      "324:\ttotal: 7.76s\tremaining: 16.1s\n",
      "325:\ttotal: 7.78s\tremaining: 16.1s\n",
      "326:\ttotal: 7.81s\tremaining: 16.1s\n",
      "327:\ttotal: 7.83s\tremaining: 16s\n",
      "328:\ttotal: 7.85s\tremaining: 16s\n",
      "329:\ttotal: 7.88s\tremaining: 16s\n",
      "330:\ttotal: 7.9s\tremaining: 16s\n",
      "331:\ttotal: 7.92s\tremaining: 15.9s\n",
      "332:\ttotal: 7.95s\tremaining: 15.9s\n",
      "333:\ttotal: 7.98s\tremaining: 15.9s\n",
      "334:\ttotal: 8s\tremaining: 15.9s\n",
      "335:\ttotal: 8.03s\tremaining: 15.9s\n",
      "336:\ttotal: 8.05s\tremaining: 15.8s\n",
      "337:\ttotal: 8.07s\tremaining: 15.8s\n",
      "338:\ttotal: 8.1s\tremaining: 15.8s\n",
      "339:\ttotal: 8.12s\tremaining: 15.8s\n",
      "340:\ttotal: 8.15s\tremaining: 15.7s\n",
      "341:\ttotal: 8.17s\tremaining: 15.7s\n",
      "342:\ttotal: 8.19s\tremaining: 15.7s\n",
      "343:\ttotal: 8.22s\tremaining: 15.7s\n",
      "344:\ttotal: 8.24s\tremaining: 15.6s\n",
      "345:\ttotal: 8.27s\tremaining: 15.6s\n",
      "346:\ttotal: 8.29s\tremaining: 15.6s\n",
      "347:\ttotal: 8.31s\tremaining: 15.6s\n",
      "348:\ttotal: 8.34s\tremaining: 15.6s\n",
      "349:\ttotal: 8.36s\tremaining: 15.5s\n",
      "350:\ttotal: 8.39s\tremaining: 15.5s\n",
      "351:\ttotal: 8.41s\tremaining: 15.5s\n",
      "352:\ttotal: 8.43s\tremaining: 15.5s\n",
      "353:\ttotal: 8.46s\tremaining: 15.4s\n",
      "354:\ttotal: 8.48s\tremaining: 15.4s\n",
      "355:\ttotal: 8.51s\tremaining: 15.4s\n",
      "356:\ttotal: 8.53s\tremaining: 15.4s\n",
      "357:\ttotal: 8.56s\tremaining: 15.3s\n",
      "358:\ttotal: 8.58s\tremaining: 15.3s\n",
      "359:\ttotal: 8.61s\tremaining: 15.3s\n",
      "360:\ttotal: 8.63s\tremaining: 15.3s\n",
      "361:\ttotal: 8.66s\tremaining: 15.3s\n",
      "362:\ttotal: 8.68s\tremaining: 15.2s\n",
      "363:\ttotal: 8.7s\tremaining: 15.2s\n",
      "364:\ttotal: 8.73s\tremaining: 15.2s\n",
      "365:\ttotal: 8.75s\tremaining: 15.2s\n",
      "366:\ttotal: 8.77s\tremaining: 15.1s\n",
      "367:\ttotal: 8.79s\tremaining: 15.1s\n",
      "368:\ttotal: 8.82s\tremaining: 15.1s\n",
      "369:\ttotal: 8.84s\tremaining: 15.1s\n",
      "370:\ttotal: 8.86s\tremaining: 15s\n",
      "371:\ttotal: 8.89s\tremaining: 15s\n",
      "372:\ttotal: 8.91s\tremaining: 15s\n",
      "373:\ttotal: 8.94s\tremaining: 15s\n",
      "374:\ttotal: 8.96s\tremaining: 14.9s\n",
      "375:\ttotal: 8.98s\tremaining: 14.9s\n",
      "376:\ttotal: 9.01s\tremaining: 14.9s\n",
      "377:\ttotal: 9.03s\tremaining: 14.9s\n",
      "378:\ttotal: 9.05s\tremaining: 14.8s\n",
      "379:\ttotal: 9.08s\tremaining: 14.8s\n",
      "380:\ttotal: 9.1s\tremaining: 14.8s\n",
      "381:\ttotal: 9.12s\tremaining: 14.8s\n",
      "382:\ttotal: 9.15s\tremaining: 14.7s\n",
      "383:\ttotal: 9.17s\tremaining: 14.7s\n",
      "384:\ttotal: 9.2s\tremaining: 14.7s\n",
      "385:\ttotal: 9.22s\tremaining: 14.7s\n",
      "386:\ttotal: 9.24s\tremaining: 14.6s\n",
      "387:\ttotal: 9.27s\tremaining: 14.6s\n",
      "388:\ttotal: 9.29s\tremaining: 14.6s\n",
      "389:\ttotal: 9.31s\tremaining: 14.6s\n",
      "390:\ttotal: 9.34s\tremaining: 14.5s\n",
      "391:\ttotal: 9.36s\tremaining: 14.5s\n",
      "392:\ttotal: 9.38s\tremaining: 14.5s\n",
      "393:\ttotal: 9.41s\tremaining: 14.5s\n",
      "394:\ttotal: 9.43s\tremaining: 14.4s\n",
      "395:\ttotal: 9.45s\tremaining: 14.4s\n",
      "396:\ttotal: 9.48s\tremaining: 14.4s\n",
      "397:\ttotal: 9.5s\tremaining: 14.4s\n",
      "398:\ttotal: 9.53s\tremaining: 14.4s\n",
      "399:\ttotal: 9.55s\tremaining: 14.3s\n",
      "400:\ttotal: 9.57s\tremaining: 14.3s\n",
      "401:\ttotal: 9.6s\tremaining: 14.3s\n",
      "402:\ttotal: 9.62s\tremaining: 14.3s\n",
      "403:\ttotal: 9.65s\tremaining: 14.2s\n",
      "404:\ttotal: 9.67s\tremaining: 14.2s\n",
      "405:\ttotal: 9.7s\tremaining: 14.2s\n",
      "406:\ttotal: 9.72s\tremaining: 14.2s\n",
      "407:\ttotal: 9.74s\tremaining: 14.1s\n",
      "408:\ttotal: 9.77s\tremaining: 14.1s\n",
      "409:\ttotal: 9.79s\tremaining: 14.1s\n",
      "410:\ttotal: 9.82s\tremaining: 14.1s\n",
      "411:\ttotal: 9.84s\tremaining: 14s\n",
      "412:\ttotal: 9.86s\tremaining: 14s\n",
      "413:\ttotal: 9.89s\tremaining: 14s\n",
      "414:\ttotal: 9.91s\tremaining: 14s\n",
      "415:\ttotal: 9.94s\tremaining: 13.9s\n",
      "416:\ttotal: 9.96s\tremaining: 13.9s\n",
      "417:\ttotal: 9.98s\tremaining: 13.9s\n",
      "418:\ttotal: 10s\tremaining: 13.9s\n",
      "419:\ttotal: 10s\tremaining: 13.8s\n",
      "420:\ttotal: 10.1s\tremaining: 13.8s\n",
      "421:\ttotal: 10.1s\tremaining: 13.8s\n",
      "422:\ttotal: 10.1s\tremaining: 13.8s\n",
      "423:\ttotal: 10.1s\tremaining: 13.8s\n",
      "424:\ttotal: 10.1s\tremaining: 13.7s\n",
      "425:\ttotal: 10.2s\tremaining: 13.7s\n",
      "426:\ttotal: 10.2s\tremaining: 13.7s\n",
      "427:\ttotal: 10.2s\tremaining: 13.7s\n",
      "428:\ttotal: 10.2s\tremaining: 13.6s\n",
      "429:\ttotal: 10.3s\tremaining: 13.6s\n",
      "430:\ttotal: 10.3s\tremaining: 13.6s\n",
      "431:\ttotal: 10.3s\tremaining: 13.6s\n",
      "432:\ttotal: 10.3s\tremaining: 13.5s\n",
      "433:\ttotal: 10.4s\tremaining: 13.5s\n",
      "434:\ttotal: 10.4s\tremaining: 13.5s\n",
      "435:\ttotal: 10.4s\tremaining: 13.5s\n",
      "436:\ttotal: 10.4s\tremaining: 13.4s\n",
      "437:\ttotal: 10.5s\tremaining: 13.4s\n",
      "438:\ttotal: 10.5s\tremaining: 13.4s\n",
      "439:\ttotal: 10.5s\tremaining: 13.4s\n",
      "440:\ttotal: 10.5s\tremaining: 13.3s\n",
      "441:\ttotal: 10.6s\tremaining: 13.3s\n",
      "442:\ttotal: 10.6s\tremaining: 13.3s\n",
      "443:\ttotal: 10.6s\tremaining: 13.3s\n",
      "444:\ttotal: 10.6s\tremaining: 13.2s\n",
      "445:\ttotal: 10.6s\tremaining: 13.2s\n",
      "446:\ttotal: 10.7s\tremaining: 13.2s\n",
      "447:\ttotal: 10.7s\tremaining: 13.2s\n",
      "448:\ttotal: 10.7s\tremaining: 13.2s\n",
      "449:\ttotal: 10.7s\tremaining: 13.1s\n",
      "450:\ttotal: 10.8s\tremaining: 13.1s\n",
      "451:\ttotal: 10.8s\tremaining: 13.1s\n",
      "452:\ttotal: 10.8s\tremaining: 13.1s\n",
      "453:\ttotal: 10.8s\tremaining: 13s\n",
      "454:\ttotal: 10.9s\tremaining: 13s\n",
      "455:\ttotal: 10.9s\tremaining: 13s\n",
      "456:\ttotal: 10.9s\tremaining: 13s\n",
      "457:\ttotal: 10.9s\tremaining: 12.9s\n",
      "458:\ttotal: 11s\tremaining: 12.9s\n",
      "459:\ttotal: 11s\tremaining: 12.9s\n",
      "460:\ttotal: 11s\tremaining: 12.9s\n",
      "461:\ttotal: 11s\tremaining: 12.8s\n",
      "462:\ttotal: 11s\tremaining: 12.8s\n",
      "463:\ttotal: 11.1s\tremaining: 12.8s\n",
      "464:\ttotal: 11.1s\tremaining: 12.8s\n",
      "465:\ttotal: 11.1s\tremaining: 12.7s\n",
      "466:\ttotal: 11.1s\tremaining: 12.7s\n",
      "467:\ttotal: 11.2s\tremaining: 12.7s\n",
      "468:\ttotal: 11.2s\tremaining: 12.7s\n",
      "469:\ttotal: 11.2s\tremaining: 12.6s\n",
      "470:\ttotal: 11.2s\tremaining: 12.6s\n",
      "471:\ttotal: 11.3s\tremaining: 12.6s\n",
      "472:\ttotal: 11.3s\tremaining: 12.6s\n",
      "473:\ttotal: 11.3s\tremaining: 12.5s\n",
      "474:\ttotal: 11.3s\tremaining: 12.5s\n",
      "475:\ttotal: 11.3s\tremaining: 12.5s\n",
      "476:\ttotal: 11.4s\tremaining: 12.5s\n",
      "477:\ttotal: 11.4s\tremaining: 12.4s\n",
      "478:\ttotal: 11.4s\tremaining: 12.4s\n",
      "479:\ttotal: 11.4s\tremaining: 12.4s\n",
      "480:\ttotal: 11.5s\tremaining: 12.4s\n",
      "481:\ttotal: 11.5s\tremaining: 12.3s\n",
      "482:\ttotal: 11.5s\tremaining: 12.3s\n",
      "483:\ttotal: 11.5s\tremaining: 12.3s\n",
      "484:\ttotal: 11.5s\tremaining: 12.3s\n",
      "485:\ttotal: 11.6s\tremaining: 12.2s\n",
      "486:\ttotal: 11.6s\tremaining: 12.2s\n",
      "487:\ttotal: 11.6s\tremaining: 12.2s\n",
      "488:\ttotal: 11.6s\tremaining: 12.2s\n",
      "489:\ttotal: 11.7s\tremaining: 12.1s\n",
      "490:\ttotal: 11.7s\tremaining: 12.1s\n",
      "491:\ttotal: 11.7s\tremaining: 12.1s\n",
      "492:\ttotal: 11.7s\tremaining: 12.1s\n",
      "493:\ttotal: 11.8s\tremaining: 12s\n",
      "494:\ttotal: 11.8s\tremaining: 12s\n",
      "495:\ttotal: 11.8s\tremaining: 12s\n",
      "496:\ttotal: 11.8s\tremaining: 12s\n",
      "497:\ttotal: 11.8s\tremaining: 11.9s\n",
      "498:\ttotal: 11.9s\tremaining: 11.9s\n",
      "499:\ttotal: 11.9s\tremaining: 11.9s\n",
      "500:\ttotal: 11.9s\tremaining: 11.9s\n",
      "501:\ttotal: 11.9s\tremaining: 11.8s\n",
      "502:\ttotal: 12s\tremaining: 11.8s\n",
      "503:\ttotal: 12s\tremaining: 11.8s\n",
      "504:\ttotal: 12s\tremaining: 11.8s\n",
      "505:\ttotal: 12s\tremaining: 11.7s\n",
      "506:\ttotal: 12s\tremaining: 11.7s\n",
      "507:\ttotal: 12.1s\tremaining: 11.7s\n",
      "508:\ttotal: 12.1s\tremaining: 11.7s\n",
      "509:\ttotal: 12.1s\tremaining: 11.6s\n",
      "510:\ttotal: 12.1s\tremaining: 11.6s\n",
      "511:\ttotal: 12.2s\tremaining: 11.6s\n",
      "512:\ttotal: 12.2s\tremaining: 11.6s\n",
      "513:\ttotal: 12.2s\tremaining: 11.5s\n",
      "514:\ttotal: 12.2s\tremaining: 11.5s\n",
      "515:\ttotal: 12.2s\tremaining: 11.5s\n",
      "516:\ttotal: 12.3s\tremaining: 11.5s\n",
      "517:\ttotal: 12.3s\tremaining: 11.4s\n",
      "518:\ttotal: 12.3s\tremaining: 11.4s\n",
      "519:\ttotal: 12.3s\tremaining: 11.4s\n",
      "520:\ttotal: 12.4s\tremaining: 11.4s\n",
      "521:\ttotal: 12.4s\tremaining: 11.3s\n",
      "522:\ttotal: 12.4s\tremaining: 11.3s\n",
      "523:\ttotal: 12.4s\tremaining: 11.3s\n",
      "524:\ttotal: 12.4s\tremaining: 11.3s\n",
      "525:\ttotal: 12.5s\tremaining: 11.2s\n",
      "526:\ttotal: 12.5s\tremaining: 11.2s\n",
      "527:\ttotal: 12.5s\tremaining: 11.2s\n",
      "528:\ttotal: 12.5s\tremaining: 11.2s\n",
      "529:\ttotal: 12.6s\tremaining: 11.1s\n",
      "530:\ttotal: 12.6s\tremaining: 11.1s\n",
      "531:\ttotal: 12.6s\tremaining: 11.1s\n",
      "532:\ttotal: 12.6s\tremaining: 11.1s\n",
      "533:\ttotal: 12.7s\tremaining: 11s\n",
      "534:\ttotal: 12.7s\tremaining: 11s\n",
      "535:\ttotal: 12.7s\tremaining: 11s\n",
      "536:\ttotal: 12.7s\tremaining: 11s\n",
      "537:\ttotal: 12.7s\tremaining: 10.9s\n",
      "538:\ttotal: 12.8s\tremaining: 10.9s\n",
      "539:\ttotal: 12.8s\tremaining: 10.9s\n",
      "540:\ttotal: 12.8s\tremaining: 10.9s\n",
      "541:\ttotal: 12.8s\tremaining: 10.8s\n",
      "542:\ttotal: 12.9s\tremaining: 10.8s\n",
      "543:\ttotal: 12.9s\tremaining: 10.8s\n",
      "544:\ttotal: 12.9s\tremaining: 10.8s\n",
      "545:\ttotal: 12.9s\tremaining: 10.7s\n",
      "546:\ttotal: 12.9s\tremaining: 10.7s\n",
      "547:\ttotal: 13s\tremaining: 10.7s\n",
      "548:\ttotal: 13s\tremaining: 10.7s\n",
      "549:\ttotal: 13s\tremaining: 10.7s\n",
      "550:\ttotal: 13s\tremaining: 10.6s\n",
      "551:\ttotal: 13.1s\tremaining: 10.6s\n",
      "552:\ttotal: 13.1s\tremaining: 10.6s\n",
      "553:\ttotal: 13.1s\tremaining: 10.6s\n",
      "554:\ttotal: 13.1s\tremaining: 10.5s\n",
      "555:\ttotal: 13.2s\tremaining: 10.5s\n",
      "556:\ttotal: 13.2s\tremaining: 10.5s\n",
      "557:\ttotal: 13.2s\tremaining: 10.5s\n",
      "558:\ttotal: 13.2s\tremaining: 10.4s\n",
      "559:\ttotal: 13.2s\tremaining: 10.4s\n",
      "560:\ttotal: 13.3s\tremaining: 10.4s\n",
      "561:\ttotal: 13.3s\tremaining: 10.4s\n",
      "562:\ttotal: 13.3s\tremaining: 10.3s\n",
      "563:\ttotal: 13.3s\tremaining: 10.3s\n",
      "564:\ttotal: 13.4s\tremaining: 10.3s\n",
      "565:\ttotal: 13.4s\tremaining: 10.3s\n",
      "566:\ttotal: 13.4s\tremaining: 10.2s\n",
      "567:\ttotal: 13.4s\tremaining: 10.2s\n",
      "568:\ttotal: 13.4s\tremaining: 10.2s\n",
      "569:\ttotal: 13.5s\tremaining: 10.2s\n",
      "570:\ttotal: 13.5s\tremaining: 10.1s\n",
      "571:\ttotal: 13.5s\tremaining: 10.1s\n",
      "572:\ttotal: 13.5s\tremaining: 10.1s\n",
      "573:\ttotal: 13.6s\tremaining: 10.1s\n",
      "574:\ttotal: 13.6s\tremaining: 10s\n",
      "575:\ttotal: 13.6s\tremaining: 10s\n",
      "576:\ttotal: 13.6s\tremaining: 9.99s\n",
      "577:\ttotal: 13.6s\tremaining: 9.96s\n",
      "578:\ttotal: 13.7s\tremaining: 9.94s\n",
      "579:\ttotal: 13.7s\tremaining: 9.91s\n",
      "580:\ttotal: 13.7s\tremaining: 9.89s\n",
      "581:\ttotal: 13.7s\tremaining: 9.86s\n",
      "582:\ttotal: 13.8s\tremaining: 9.84s\n",
      "583:\ttotal: 13.8s\tremaining: 9.81s\n",
      "584:\ttotal: 13.8s\tremaining: 9.79s\n",
      "585:\ttotal: 13.8s\tremaining: 9.77s\n",
      "586:\ttotal: 13.8s\tremaining: 9.74s\n",
      "587:\ttotal: 13.9s\tremaining: 9.72s\n",
      "588:\ttotal: 13.9s\tremaining: 9.7s\n",
      "589:\ttotal: 13.9s\tremaining: 9.67s\n",
      "590:\ttotal: 13.9s\tremaining: 9.64s\n",
      "591:\ttotal: 14s\tremaining: 9.62s\n",
      "592:\ttotal: 14s\tremaining: 9.59s\n",
      "593:\ttotal: 14s\tremaining: 9.57s\n",
      "594:\ttotal: 14s\tremaining: 9.54s\n",
      "595:\ttotal: 14s\tremaining: 9.52s\n",
      "596:\ttotal: 14.1s\tremaining: 9.49s\n",
      "597:\ttotal: 14.1s\tremaining: 9.47s\n",
      "598:\ttotal: 14.1s\tremaining: 9.45s\n",
      "599:\ttotal: 14.1s\tremaining: 9.42s\n",
      "600:\ttotal: 14.2s\tremaining: 9.4s\n",
      "601:\ttotal: 14.2s\tremaining: 9.37s\n",
      "602:\ttotal: 14.2s\tremaining: 9.35s\n",
      "603:\ttotal: 14.2s\tremaining: 9.32s\n",
      "604:\ttotal: 14.2s\tremaining: 9.3s\n",
      "605:\ttotal: 14.3s\tremaining: 9.28s\n",
      "606:\ttotal: 14.3s\tremaining: 9.25s\n",
      "607:\ttotal: 14.3s\tremaining: 9.23s\n",
      "608:\ttotal: 14.3s\tremaining: 9.2s\n",
      "609:\ttotal: 14.4s\tremaining: 9.18s\n",
      "610:\ttotal: 14.4s\tremaining: 9.15s\n",
      "611:\ttotal: 14.4s\tremaining: 9.13s\n",
      "612:\ttotal: 14.4s\tremaining: 9.1s\n",
      "613:\ttotal: 14.4s\tremaining: 9.08s\n",
      "614:\ttotal: 14.5s\tremaining: 9.06s\n",
      "615:\ttotal: 14.5s\tremaining: 9.03s\n",
      "616:\ttotal: 14.5s\tremaining: 9.01s\n",
      "617:\ttotal: 14.5s\tremaining: 8.98s\n",
      "618:\ttotal: 14.6s\tremaining: 8.96s\n",
      "619:\ttotal: 14.6s\tremaining: 8.94s\n",
      "620:\ttotal: 14.6s\tremaining: 8.92s\n",
      "621:\ttotal: 14.6s\tremaining: 8.89s\n",
      "622:\ttotal: 14.7s\tremaining: 8.87s\n",
      "623:\ttotal: 14.7s\tremaining: 8.85s\n",
      "624:\ttotal: 14.7s\tremaining: 8.82s\n",
      "625:\ttotal: 14.7s\tremaining: 8.8s\n",
      "626:\ttotal: 14.7s\tremaining: 8.77s\n",
      "627:\ttotal: 14.8s\tremaining: 8.75s\n",
      "628:\ttotal: 14.8s\tremaining: 8.72s\n",
      "629:\ttotal: 14.8s\tremaining: 8.7s\n",
      "630:\ttotal: 14.8s\tremaining: 8.67s\n",
      "631:\ttotal: 14.9s\tremaining: 8.65s\n",
      "632:\ttotal: 14.9s\tremaining: 8.63s\n",
      "633:\ttotal: 14.9s\tremaining: 8.6s\n",
      "634:\ttotal: 14.9s\tremaining: 8.58s\n",
      "635:\ttotal: 14.9s\tremaining: 8.55s\n",
      "636:\ttotal: 15s\tremaining: 8.53s\n",
      "637:\ttotal: 15s\tremaining: 8.5s\n",
      "638:\ttotal: 15s\tremaining: 8.48s\n",
      "639:\ttotal: 15s\tremaining: 8.46s\n",
      "640:\ttotal: 15.1s\tremaining: 8.43s\n",
      "641:\ttotal: 15.1s\tremaining: 8.41s\n",
      "642:\ttotal: 15.1s\tremaining: 8.39s\n",
      "643:\ttotal: 15.1s\tremaining: 8.36s\n",
      "644:\ttotal: 15.1s\tremaining: 8.34s\n",
      "645:\ttotal: 15.2s\tremaining: 8.31s\n",
      "646:\ttotal: 15.2s\tremaining: 8.29s\n",
      "647:\ttotal: 15.2s\tremaining: 8.27s\n",
      "648:\ttotal: 15.2s\tremaining: 8.24s\n",
      "649:\ttotal: 15.3s\tremaining: 8.22s\n",
      "650:\ttotal: 15.3s\tremaining: 8.19s\n",
      "651:\ttotal: 15.3s\tremaining: 8.17s\n",
      "652:\ttotal: 15.3s\tremaining: 8.14s\n",
      "653:\ttotal: 15.3s\tremaining: 8.12s\n",
      "654:\ttotal: 15.4s\tremaining: 8.1s\n",
      "655:\ttotal: 15.4s\tremaining: 8.07s\n",
      "656:\ttotal: 15.4s\tremaining: 8.05s\n",
      "657:\ttotal: 15.4s\tremaining: 8.02s\n",
      "658:\ttotal: 15.5s\tremaining: 8s\n",
      "659:\ttotal: 15.5s\tremaining: 7.97s\n",
      "660:\ttotal: 15.5s\tremaining: 7.95s\n",
      "661:\ttotal: 15.5s\tremaining: 7.93s\n",
      "662:\ttotal: 15.5s\tremaining: 7.9s\n",
      "663:\ttotal: 15.6s\tremaining: 7.88s\n",
      "664:\ttotal: 15.6s\tremaining: 7.85s\n",
      "665:\ttotal: 15.6s\tremaining: 7.83s\n",
      "666:\ttotal: 15.6s\tremaining: 7.81s\n",
      "667:\ttotal: 15.7s\tremaining: 7.78s\n",
      "668:\ttotal: 15.7s\tremaining: 7.76s\n",
      "669:\ttotal: 15.7s\tremaining: 7.73s\n",
      "670:\ttotal: 15.7s\tremaining: 7.71s\n",
      "671:\ttotal: 15.7s\tremaining: 7.68s\n",
      "672:\ttotal: 15.8s\tremaining: 7.66s\n",
      "673:\ttotal: 15.8s\tremaining: 7.63s\n",
      "674:\ttotal: 15.8s\tremaining: 7.61s\n",
      "675:\ttotal: 15.8s\tremaining: 7.59s\n",
      "676:\ttotal: 15.9s\tremaining: 7.56s\n",
      "677:\ttotal: 15.9s\tremaining: 7.54s\n",
      "678:\ttotal: 15.9s\tremaining: 7.51s\n",
      "679:\ttotal: 15.9s\tremaining: 7.49s\n",
      "680:\ttotal: 15.9s\tremaining: 7.47s\n",
      "681:\ttotal: 16s\tremaining: 7.44s\n",
      "682:\ttotal: 16s\tremaining: 7.42s\n",
      "683:\ttotal: 16s\tremaining: 7.39s\n",
      "684:\ttotal: 16s\tremaining: 7.37s\n",
      "685:\ttotal: 16s\tremaining: 7.35s\n",
      "686:\ttotal: 16.1s\tremaining: 7.32s\n",
      "687:\ttotal: 16.1s\tremaining: 7.3s\n",
      "688:\ttotal: 16.1s\tremaining: 7.27s\n",
      "689:\ttotal: 16.1s\tremaining: 7.25s\n",
      "690:\ttotal: 16.2s\tremaining: 7.23s\n",
      "691:\ttotal: 16.2s\tremaining: 7.2s\n",
      "692:\ttotal: 16.2s\tremaining: 7.18s\n",
      "693:\ttotal: 16.2s\tremaining: 7.16s\n",
      "694:\ttotal: 16.3s\tremaining: 7.13s\n",
      "695:\ttotal: 16.3s\tremaining: 7.11s\n",
      "696:\ttotal: 16.3s\tremaining: 7.08s\n",
      "697:\ttotal: 16.3s\tremaining: 7.06s\n",
      "698:\ttotal: 16.3s\tremaining: 7.03s\n",
      "699:\ttotal: 16.4s\tremaining: 7.01s\n",
      "700:\ttotal: 16.4s\tremaining: 6.99s\n",
      "701:\ttotal: 16.4s\tremaining: 6.96s\n",
      "702:\ttotal: 16.4s\tremaining: 6.94s\n",
      "703:\ttotal: 16.4s\tremaining: 6.91s\n",
      "704:\ttotal: 16.5s\tremaining: 6.89s\n",
      "705:\ttotal: 16.5s\tremaining: 6.87s\n",
      "706:\ttotal: 16.5s\tremaining: 6.84s\n",
      "707:\ttotal: 16.5s\tremaining: 6.82s\n",
      "708:\ttotal: 16.6s\tremaining: 6.79s\n",
      "709:\ttotal: 16.6s\tremaining: 6.77s\n",
      "710:\ttotal: 16.6s\tremaining: 6.75s\n",
      "711:\ttotal: 16.6s\tremaining: 6.72s\n",
      "712:\ttotal: 16.6s\tremaining: 6.7s\n",
      "713:\ttotal: 16.7s\tremaining: 6.67s\n",
      "714:\ttotal: 16.7s\tremaining: 6.65s\n",
      "715:\ttotal: 16.7s\tremaining: 6.63s\n",
      "716:\ttotal: 16.7s\tremaining: 6.6s\n",
      "717:\ttotal: 16.8s\tremaining: 6.58s\n",
      "718:\ttotal: 16.8s\tremaining: 6.56s\n",
      "719:\ttotal: 16.8s\tremaining: 6.53s\n",
      "720:\ttotal: 16.8s\tremaining: 6.51s\n",
      "721:\ttotal: 16.8s\tremaining: 6.48s\n",
      "722:\ttotal: 16.9s\tremaining: 6.46s\n",
      "723:\ttotal: 16.9s\tremaining: 6.44s\n",
      "724:\ttotal: 16.9s\tremaining: 6.41s\n",
      "725:\ttotal: 16.9s\tremaining: 6.39s\n",
      "726:\ttotal: 16.9s\tremaining: 6.36s\n",
      "727:\ttotal: 17s\tremaining: 6.34s\n",
      "728:\ttotal: 17s\tremaining: 6.32s\n",
      "729:\ttotal: 17s\tremaining: 6.29s\n",
      "730:\ttotal: 17s\tremaining: 6.27s\n",
      "731:\ttotal: 17.1s\tremaining: 6.24s\n",
      "732:\ttotal: 17.1s\tremaining: 6.22s\n",
      "733:\ttotal: 17.1s\tremaining: 6.2s\n",
      "734:\ttotal: 17.1s\tremaining: 6.17s\n",
      "735:\ttotal: 17.1s\tremaining: 6.15s\n",
      "736:\ttotal: 17.2s\tremaining: 6.13s\n",
      "737:\ttotal: 17.2s\tremaining: 6.1s\n",
      "738:\ttotal: 17.2s\tremaining: 6.08s\n",
      "739:\ttotal: 17.2s\tremaining: 6.05s\n",
      "740:\ttotal: 17.2s\tremaining: 6.03s\n",
      "741:\ttotal: 17.3s\tremaining: 6s\n",
      "742:\ttotal: 17.3s\tremaining: 5.98s\n",
      "743:\ttotal: 17.3s\tremaining: 5.96s\n",
      "744:\ttotal: 17.3s\tremaining: 5.94s\n",
      "745:\ttotal: 17.4s\tremaining: 5.91s\n",
      "746:\ttotal: 17.4s\tremaining: 5.89s\n",
      "747:\ttotal: 17.4s\tremaining: 5.87s\n",
      "748:\ttotal: 17.4s\tremaining: 5.84s\n",
      "749:\ttotal: 17.5s\tremaining: 5.82s\n",
      "750:\ttotal: 17.5s\tremaining: 5.79s\n",
      "751:\ttotal: 17.5s\tremaining: 5.77s\n",
      "752:\ttotal: 17.5s\tremaining: 5.75s\n",
      "753:\ttotal: 17.5s\tremaining: 5.72s\n",
      "754:\ttotal: 17.6s\tremaining: 5.7s\n",
      "755:\ttotal: 17.6s\tremaining: 5.68s\n",
      "756:\ttotal: 17.6s\tremaining: 5.65s\n",
      "757:\ttotal: 17.6s\tremaining: 5.63s\n",
      "758:\ttotal: 17.7s\tremaining: 5.61s\n",
      "759:\ttotal: 17.7s\tremaining: 5.58s\n",
      "760:\ttotal: 17.7s\tremaining: 5.56s\n",
      "761:\ttotal: 17.7s\tremaining: 5.53s\n",
      "762:\ttotal: 17.7s\tremaining: 5.51s\n",
      "763:\ttotal: 17.8s\tremaining: 5.49s\n",
      "764:\ttotal: 17.8s\tremaining: 5.46s\n",
      "765:\ttotal: 17.8s\tremaining: 5.44s\n",
      "766:\ttotal: 17.8s\tremaining: 5.42s\n",
      "767:\ttotal: 17.9s\tremaining: 5.39s\n",
      "768:\ttotal: 17.9s\tremaining: 5.37s\n",
      "769:\ttotal: 17.9s\tremaining: 5.35s\n",
      "770:\ttotal: 17.9s\tremaining: 5.32s\n",
      "771:\ttotal: 17.9s\tremaining: 5.3s\n",
      "772:\ttotal: 18s\tremaining: 5.28s\n",
      "773:\ttotal: 18s\tremaining: 5.25s\n",
      "774:\ttotal: 18s\tremaining: 5.23s\n",
      "775:\ttotal: 18s\tremaining: 5.21s\n",
      "776:\ttotal: 18.1s\tremaining: 5.18s\n",
      "777:\ttotal: 18.1s\tremaining: 5.16s\n",
      "778:\ttotal: 18.1s\tremaining: 5.14s\n",
      "779:\ttotal: 18.1s\tremaining: 5.11s\n",
      "780:\ttotal: 18.2s\tremaining: 5.09s\n",
      "781:\ttotal: 18.2s\tremaining: 5.07s\n",
      "782:\ttotal: 18.2s\tremaining: 5.04s\n",
      "783:\ttotal: 18.2s\tremaining: 5.02s\n",
      "784:\ttotal: 18.2s\tremaining: 5s\n",
      "785:\ttotal: 18.3s\tremaining: 4.97s\n",
      "786:\ttotal: 18.3s\tremaining: 4.95s\n",
      "787:\ttotal: 18.3s\tremaining: 4.92s\n",
      "788:\ttotal: 18.3s\tremaining: 4.9s\n",
      "789:\ttotal: 18.4s\tremaining: 4.88s\n",
      "790:\ttotal: 18.4s\tremaining: 4.85s\n",
      "791:\ttotal: 18.4s\tremaining: 4.83s\n",
      "792:\ttotal: 18.4s\tremaining: 4.81s\n",
      "793:\ttotal: 18.4s\tremaining: 4.78s\n",
      "794:\ttotal: 18.5s\tremaining: 4.76s\n",
      "795:\ttotal: 18.5s\tremaining: 4.74s\n",
      "796:\ttotal: 18.5s\tremaining: 4.71s\n",
      "797:\ttotal: 18.5s\tremaining: 4.69s\n",
      "798:\ttotal: 18.5s\tremaining: 4.67s\n",
      "799:\ttotal: 18.6s\tremaining: 4.64s\n",
      "800:\ttotal: 18.6s\tremaining: 4.62s\n",
      "801:\ttotal: 18.6s\tremaining: 4.6s\n",
      "802:\ttotal: 18.6s\tremaining: 4.57s\n",
      "803:\ttotal: 18.7s\tremaining: 4.55s\n",
      "804:\ttotal: 18.7s\tremaining: 4.53s\n",
      "805:\ttotal: 18.7s\tremaining: 4.5s\n",
      "806:\ttotal: 18.7s\tremaining: 4.48s\n",
      "807:\ttotal: 18.7s\tremaining: 4.45s\n",
      "808:\ttotal: 18.8s\tremaining: 4.43s\n",
      "809:\ttotal: 18.8s\tremaining: 4.41s\n",
      "810:\ttotal: 18.8s\tremaining: 4.38s\n",
      "811:\ttotal: 18.8s\tremaining: 4.36s\n",
      "812:\ttotal: 18.9s\tremaining: 4.34s\n",
      "813:\ttotal: 18.9s\tremaining: 4.31s\n",
      "814:\ttotal: 18.9s\tremaining: 4.29s\n",
      "815:\ttotal: 18.9s\tremaining: 4.27s\n",
      "816:\ttotal: 18.9s\tremaining: 4.24s\n",
      "817:\ttotal: 19s\tremaining: 4.22s\n",
      "818:\ttotal: 19s\tremaining: 4.2s\n",
      "819:\ttotal: 19s\tremaining: 4.17s\n",
      "820:\ttotal: 19s\tremaining: 4.15s\n",
      "821:\ttotal: 19s\tremaining: 4.13s\n",
      "822:\ttotal: 19.1s\tremaining: 4.1s\n",
      "823:\ttotal: 19.1s\tremaining: 4.08s\n",
      "824:\ttotal: 19.1s\tremaining: 4.05s\n",
      "825:\ttotal: 19.1s\tremaining: 4.03s\n",
      "826:\ttotal: 19.2s\tremaining: 4.01s\n",
      "827:\ttotal: 19.2s\tremaining: 3.98s\n",
      "828:\ttotal: 19.2s\tremaining: 3.96s\n",
      "829:\ttotal: 19.2s\tremaining: 3.94s\n",
      "830:\ttotal: 19.2s\tremaining: 3.91s\n",
      "831:\ttotal: 19.3s\tremaining: 3.89s\n",
      "832:\ttotal: 19.3s\tremaining: 3.87s\n",
      "833:\ttotal: 19.3s\tremaining: 3.85s\n",
      "834:\ttotal: 19.3s\tremaining: 3.82s\n",
      "835:\ttotal: 19.4s\tremaining: 3.8s\n",
      "836:\ttotal: 19.4s\tremaining: 3.78s\n",
      "837:\ttotal: 19.4s\tremaining: 3.75s\n",
      "838:\ttotal: 19.4s\tremaining: 3.73s\n",
      "839:\ttotal: 19.5s\tremaining: 3.71s\n",
      "840:\ttotal: 19.5s\tremaining: 3.68s\n",
      "841:\ttotal: 19.5s\tremaining: 3.66s\n",
      "842:\ttotal: 19.5s\tremaining: 3.64s\n",
      "843:\ttotal: 19.6s\tremaining: 3.61s\n",
      "844:\ttotal: 19.6s\tremaining: 3.59s\n",
      "845:\ttotal: 19.6s\tremaining: 3.57s\n",
      "846:\ttotal: 19.6s\tremaining: 3.54s\n",
      "847:\ttotal: 19.6s\tremaining: 3.52s\n",
      "848:\ttotal: 19.7s\tremaining: 3.5s\n",
      "849:\ttotal: 19.7s\tremaining: 3.47s\n",
      "850:\ttotal: 19.7s\tremaining: 3.45s\n",
      "851:\ttotal: 19.7s\tremaining: 3.43s\n",
      "852:\ttotal: 19.8s\tremaining: 3.4s\n",
      "853:\ttotal: 19.8s\tremaining: 3.38s\n",
      "854:\ttotal: 19.8s\tremaining: 3.36s\n",
      "855:\ttotal: 19.8s\tremaining: 3.33s\n",
      "856:\ttotal: 19.8s\tremaining: 3.31s\n",
      "857:\ttotal: 19.9s\tremaining: 3.29s\n",
      "858:\ttotal: 19.9s\tremaining: 3.26s\n",
      "859:\ttotal: 19.9s\tremaining: 3.24s\n",
      "860:\ttotal: 19.9s\tremaining: 3.22s\n",
      "861:\ttotal: 19.9s\tremaining: 3.19s\n",
      "862:\ttotal: 20s\tremaining: 3.17s\n",
      "863:\ttotal: 20s\tremaining: 3.15s\n",
      "864:\ttotal: 20s\tremaining: 3.12s\n",
      "865:\ttotal: 20s\tremaining: 3.1s\n",
      "866:\ttotal: 20.1s\tremaining: 3.08s\n",
      "867:\ttotal: 20.1s\tremaining: 3.05s\n",
      "868:\ttotal: 20.1s\tremaining: 3.03s\n",
      "869:\ttotal: 20.1s\tremaining: 3.01s\n",
      "870:\ttotal: 20.1s\tremaining: 2.98s\n",
      "871:\ttotal: 20.2s\tremaining: 2.96s\n",
      "872:\ttotal: 20.2s\tremaining: 2.94s\n",
      "873:\ttotal: 20.2s\tremaining: 2.91s\n",
      "874:\ttotal: 20.2s\tremaining: 2.89s\n",
      "875:\ttotal: 20.3s\tremaining: 2.87s\n",
      "876:\ttotal: 20.3s\tremaining: 2.84s\n",
      "877:\ttotal: 20.3s\tremaining: 2.82s\n",
      "878:\ttotal: 20.3s\tremaining: 2.8s\n",
      "879:\ttotal: 20.3s\tremaining: 2.77s\n",
      "880:\ttotal: 20.4s\tremaining: 2.75s\n",
      "881:\ttotal: 20.4s\tremaining: 2.73s\n",
      "882:\ttotal: 20.4s\tremaining: 2.7s\n",
      "883:\ttotal: 20.4s\tremaining: 2.68s\n",
      "884:\ttotal: 20.4s\tremaining: 2.66s\n",
      "885:\ttotal: 20.5s\tremaining: 2.63s\n",
      "886:\ttotal: 20.5s\tremaining: 2.61s\n",
      "887:\ttotal: 20.5s\tremaining: 2.59s\n",
      "888:\ttotal: 20.5s\tremaining: 2.56s\n",
      "889:\ttotal: 20.6s\tremaining: 2.54s\n",
      "890:\ttotal: 20.6s\tremaining: 2.52s\n",
      "891:\ttotal: 20.6s\tremaining: 2.49s\n",
      "892:\ttotal: 20.6s\tremaining: 2.47s\n",
      "893:\ttotal: 20.6s\tremaining: 2.45s\n",
      "894:\ttotal: 20.7s\tremaining: 2.42s\n",
      "895:\ttotal: 20.7s\tremaining: 2.4s\n",
      "896:\ttotal: 20.7s\tremaining: 2.38s\n",
      "897:\ttotal: 20.7s\tremaining: 2.35s\n",
      "898:\ttotal: 20.8s\tremaining: 2.33s\n",
      "899:\ttotal: 20.8s\tremaining: 2.31s\n",
      "900:\ttotal: 20.8s\tremaining: 2.29s\n",
      "901:\ttotal: 20.8s\tremaining: 2.26s\n",
      "902:\ttotal: 20.8s\tremaining: 2.24s\n",
      "903:\ttotal: 20.9s\tremaining: 2.21s\n",
      "904:\ttotal: 20.9s\tremaining: 2.19s\n",
      "905:\ttotal: 20.9s\tremaining: 2.17s\n",
      "906:\ttotal: 20.9s\tremaining: 2.15s\n",
      "907:\ttotal: 20.9s\tremaining: 2.12s\n",
      "908:\ttotal: 21s\tremaining: 2.1s\n",
      "909:\ttotal: 21s\tremaining: 2.08s\n",
      "910:\ttotal: 21s\tremaining: 2.05s\n",
      "911:\ttotal: 21s\tremaining: 2.03s\n",
      "912:\ttotal: 21.1s\tremaining: 2.01s\n",
      "913:\ttotal: 21.1s\tremaining: 1.98s\n",
      "914:\ttotal: 21.1s\tremaining: 1.96s\n",
      "915:\ttotal: 21.1s\tremaining: 1.94s\n",
      "916:\ttotal: 21.1s\tremaining: 1.91s\n",
      "917:\ttotal: 21.2s\tremaining: 1.89s\n",
      "918:\ttotal: 21.2s\tremaining: 1.87s\n",
      "919:\ttotal: 21.2s\tremaining: 1.84s\n",
      "920:\ttotal: 21.2s\tremaining: 1.82s\n",
      "921:\ttotal: 21.3s\tremaining: 1.8s\n",
      "922:\ttotal: 21.3s\tremaining: 1.77s\n",
      "923:\ttotal: 21.3s\tremaining: 1.75s\n",
      "924:\ttotal: 21.3s\tremaining: 1.73s\n",
      "925:\ttotal: 21.4s\tremaining: 1.71s\n",
      "926:\ttotal: 21.4s\tremaining: 1.68s\n",
      "927:\ttotal: 21.4s\tremaining: 1.66s\n",
      "928:\ttotal: 21.4s\tremaining: 1.64s\n",
      "929:\ttotal: 21.4s\tremaining: 1.61s\n",
      "930:\ttotal: 21.5s\tremaining: 1.59s\n",
      "931:\ttotal: 21.5s\tremaining: 1.57s\n",
      "932:\ttotal: 21.5s\tremaining: 1.54s\n",
      "933:\ttotal: 21.5s\tremaining: 1.52s\n",
      "934:\ttotal: 21.6s\tremaining: 1.5s\n",
      "935:\ttotal: 21.6s\tremaining: 1.47s\n",
      "936:\ttotal: 21.6s\tremaining: 1.45s\n",
      "937:\ttotal: 21.6s\tremaining: 1.43s\n",
      "938:\ttotal: 21.6s\tremaining: 1.41s\n",
      "939:\ttotal: 21.7s\tremaining: 1.38s\n",
      "940:\ttotal: 21.7s\tremaining: 1.36s\n",
      "941:\ttotal: 21.7s\tremaining: 1.34s\n",
      "942:\ttotal: 21.7s\tremaining: 1.31s\n",
      "943:\ttotal: 21.8s\tremaining: 1.29s\n",
      "944:\ttotal: 21.8s\tremaining: 1.27s\n",
      "945:\ttotal: 21.8s\tremaining: 1.24s\n",
      "946:\ttotal: 21.8s\tremaining: 1.22s\n",
      "947:\ttotal: 21.8s\tremaining: 1.2s\n",
      "948:\ttotal: 21.9s\tremaining: 1.18s\n",
      "949:\ttotal: 21.9s\tremaining: 1.15s\n",
      "950:\ttotal: 21.9s\tremaining: 1.13s\n",
      "951:\ttotal: 21.9s\tremaining: 1.1s\n",
      "952:\ttotal: 22s\tremaining: 1.08s\n",
      "953:\ttotal: 22s\tremaining: 1.06s\n",
      "954:\ttotal: 22s\tremaining: 1.04s\n",
      "955:\ttotal: 22s\tremaining: 1.01s\n",
      "956:\ttotal: 22s\tremaining: 990ms\n",
      "957:\ttotal: 22.1s\tremaining: 967ms\n",
      "958:\ttotal: 22.1s\tremaining: 944ms\n",
      "959:\ttotal: 22.1s\tremaining: 921ms\n",
      "960:\ttotal: 22.1s\tremaining: 898ms\n",
      "961:\ttotal: 22.2s\tremaining: 875ms\n",
      "962:\ttotal: 22.2s\tremaining: 852ms\n",
      "963:\ttotal: 22.2s\tremaining: 829ms\n",
      "964:\ttotal: 22.2s\tremaining: 806ms\n",
      "965:\ttotal: 22.2s\tremaining: 783ms\n",
      "966:\ttotal: 22.3s\tremaining: 760ms\n",
      "967:\ttotal: 22.3s\tremaining: 737ms\n",
      "968:\ttotal: 22.3s\tremaining: 714ms\n",
      "969:\ttotal: 22.3s\tremaining: 690ms\n",
      "970:\ttotal: 22.3s\tremaining: 667ms\n",
      "971:\ttotal: 22.4s\tremaining: 644ms\n",
      "972:\ttotal: 22.4s\tremaining: 621ms\n",
      "973:\ttotal: 22.4s\tremaining: 598ms\n",
      "974:\ttotal: 22.4s\tremaining: 575ms\n",
      "975:\ttotal: 22.5s\tremaining: 552ms\n",
      "976:\ttotal: 22.5s\tremaining: 529ms\n",
      "977:\ttotal: 22.5s\tremaining: 506ms\n",
      "978:\ttotal: 22.5s\tremaining: 483ms\n",
      "979:\ttotal: 22.5s\tremaining: 460ms\n",
      "980:\ttotal: 22.6s\tremaining: 437ms\n",
      "981:\ttotal: 22.6s\tremaining: 414ms\n",
      "982:\ttotal: 22.6s\tremaining: 391ms\n",
      "983:\ttotal: 22.6s\tremaining: 368ms\n",
      "984:\ttotal: 22.7s\tremaining: 345ms\n",
      "985:\ttotal: 22.7s\tremaining: 322ms\n",
      "986:\ttotal: 22.7s\tremaining: 299ms\n",
      "987:\ttotal: 22.7s\tremaining: 276ms\n",
      "988:\ttotal: 22.7s\tremaining: 253ms\n",
      "989:\ttotal: 22.8s\tremaining: 230ms\n",
      "990:\ttotal: 22.8s\tremaining: 207ms\n",
      "991:\ttotal: 22.8s\tremaining: 184ms\n",
      "992:\ttotal: 22.8s\tremaining: 161ms\n",
      "993:\ttotal: 22.9s\tremaining: 138ms\n",
      "994:\ttotal: 22.9s\tremaining: 115ms\n",
      "995:\ttotal: 22.9s\tremaining: 91.9ms\n",
      "996:\ttotal: 22.9s\tremaining: 69ms\n",
      "997:\ttotal: 22.9s\tremaining: 46ms\n",
      "998:\ttotal: 23s\tremaining: 23ms\n",
      "999:\ttotal: 23s\tremaining: 0us\n"
     ]
    },
    {
     "data": {
      "text/plain": [
       "<catboost.core.CatBoostClassifier at 0x2cb725d79e0>"
      ]
     },
     "execution_count": 46,
     "metadata": {},
     "output_type": "execute_result"
    }
   ],
   "source": [
    "cb.fit(X, y)"
   ]
  },
  {
   "cell_type": "code",
   "execution_count": 47,
   "metadata": {},
   "outputs": [],
   "source": [
    "preds = cb.predict_proba(X_test)[:, 1]"
   ]
  },
  {
   "cell_type": "code",
   "execution_count": 48,
   "metadata": {},
   "outputs": [
    {
     "data": {
      "application/vnd.microsoft.datawrangler.viewer.v0+json": {
       "columns": [
        {
         "name": "index",
         "rawType": "int64",
         "type": "integer"
        },
        {
         "name": "SK_ID_CURR",
         "rawType": "int64",
         "type": "integer"
        },
        {
         "name": "TARGET",
         "rawType": "float64",
         "type": "float"
        }
       ],
       "conversionMethod": "pd.DataFrame",
       "ref": "55529c18-3871-4d58-8595-885451aeb312",
       "rows": [
        [
         "0",
         "171202",
         "0.04286771390276855"
        ],
        [
         "1",
         "171203",
         "0.0795703307343327"
        ],
        [
         "2",
         "171204",
         "0.15626072464325436"
        ],
        [
         "3",
         "171205",
         "0.07110184558606922"
        ],
        [
         "4",
         "171206",
         "0.09359945208343523"
        ],
        [
         "5",
         "171207",
         "0.03957606451789005"
        ],
        [
         "6",
         "171208",
         "0.16168802322629283"
        ],
        [
         "7",
         "171209",
         "0.11912451855698253"
        ],
        [
         "8",
         "171210",
         "0.15925793377502628"
        ],
        [
         "9",
         "171211",
         "0.08035163660407639"
        ],
        [
         "10",
         "171212",
         "0.08791499871264065"
        ],
        [
         "11",
         "171213",
         "0.14590930044598405"
        ],
        [
         "12",
         "171214",
         "0.07819202682290029"
        ],
        [
         "13",
         "171215",
         "0.042715990731472205"
        ],
        [
         "14",
         "171216",
         "0.036013857315796545"
        ],
        [
         "15",
         "171217",
         "0.04307611688243304"
        ],
        [
         "16",
         "171218",
         "0.05843281332465438"
        ],
        [
         "17",
         "171219",
         "0.04070582635694497"
        ],
        [
         "18",
         "171220",
         "0.06721997314230234"
        ],
        [
         "19",
         "171221",
         "0.03086687883626924"
        ],
        [
         "20",
         "171222",
         "0.0206295390830956"
        ],
        [
         "21",
         "171223",
         "0.05070526725625641"
        ],
        [
         "22",
         "171224",
         "0.061161819922208906"
        ],
        [
         "23",
         "171225",
         "0.07614125603338463"
        ],
        [
         "24",
         "171226",
         "0.04330383224835211"
        ],
        [
         "25",
         "171227",
         "0.05116586836821115"
        ],
        [
         "26",
         "171228",
         "0.23297312701301523"
        ],
        [
         "27",
         "171229",
         "0.03715472414728081"
        ],
        [
         "28",
         "171230",
         "0.17166375665833677"
        ],
        [
         "29",
         "171231",
         "0.135924443179802"
        ],
        [
         "30",
         "171232",
         "0.11868391811069648"
        ],
        [
         "31",
         "171233",
         "0.021781908735309535"
        ],
        [
         "32",
         "171234",
         "0.07572059569216055"
        ],
        [
         "33",
         "171235",
         "0.1016637414262398"
        ],
        [
         "34",
         "171236",
         "0.11673006733241573"
        ],
        [
         "35",
         "171237",
         "0.08393535024596198"
        ],
        [
         "36",
         "171238",
         "0.10753191094465432"
        ],
        [
         "37",
         "171239",
         "0.13861084161570486"
        ],
        [
         "38",
         "171240",
         "0.11182799870124299"
        ],
        [
         "39",
         "171241",
         "0.045035414281582226"
        ],
        [
         "40",
         "171242",
         "0.020741001700299123"
        ],
        [
         "41",
         "171243",
         "0.06293735232149057"
        ],
        [
         "42",
         "171244",
         "0.10753697058744148"
        ],
        [
         "43",
         "171245",
         "0.16932561548862632"
        ],
        [
         "44",
         "171246",
         "0.07009398803676865"
        ],
        [
         "45",
         "171247",
         "0.11420539092290218"
        ],
        [
         "46",
         "171248",
         "0.2583819694323046"
        ],
        [
         "47",
         "171249",
         "0.16177844133223476"
        ],
        [
         "48",
         "171250",
         "0.01835152835483928"
        ],
        [
         "49",
         "171251",
         "0.058193441705943906"
        ]
       ],
       "shape": {
        "columns": 2,
        "rows": 61500
       }
      },
      "text/html": [
       "<div>\n",
       "<style scoped>\n",
       "    .dataframe tbody tr th:only-of-type {\n",
       "        vertical-align: middle;\n",
       "    }\n",
       "\n",
       "    .dataframe tbody tr th {\n",
       "        vertical-align: top;\n",
       "    }\n",
       "\n",
       "    .dataframe thead th {\n",
       "        text-align: right;\n",
       "    }\n",
       "</style>\n",
       "<table border=\"1\" class=\"dataframe\">\n",
       "  <thead>\n",
       "    <tr style=\"text-align: right;\">\n",
       "      <th></th>\n",
       "      <th>SK_ID_CURR</th>\n",
       "      <th>TARGET</th>\n",
       "    </tr>\n",
       "  </thead>\n",
       "  <tbody>\n",
       "    <tr>\n",
       "      <th>0</th>\n",
       "      <td>171202</td>\n",
       "      <td>0.042868</td>\n",
       "    </tr>\n",
       "    <tr>\n",
       "      <th>1</th>\n",
       "      <td>171203</td>\n",
       "      <td>0.079570</td>\n",
       "    </tr>\n",
       "    <tr>\n",
       "      <th>2</th>\n",
       "      <td>171204</td>\n",
       "      <td>0.156261</td>\n",
       "    </tr>\n",
       "    <tr>\n",
       "      <th>3</th>\n",
       "      <td>171205</td>\n",
       "      <td>0.071102</td>\n",
       "    </tr>\n",
       "    <tr>\n",
       "      <th>4</th>\n",
       "      <td>171206</td>\n",
       "      <td>0.093599</td>\n",
       "    </tr>\n",
       "    <tr>\n",
       "      <th>...</th>\n",
       "      <td>...</td>\n",
       "      <td>...</td>\n",
       "    </tr>\n",
       "    <tr>\n",
       "      <th>61495</th>\n",
       "      <td>232697</td>\n",
       "      <td>0.262139</td>\n",
       "    </tr>\n",
       "    <tr>\n",
       "      <th>61496</th>\n",
       "      <td>232698</td>\n",
       "      <td>0.052600</td>\n",
       "    </tr>\n",
       "    <tr>\n",
       "      <th>61497</th>\n",
       "      <td>232699</td>\n",
       "      <td>0.090257</td>\n",
       "    </tr>\n",
       "    <tr>\n",
       "      <th>61498</th>\n",
       "      <td>232700</td>\n",
       "      <td>0.143954</td>\n",
       "    </tr>\n",
       "    <tr>\n",
       "      <th>61499</th>\n",
       "      <td>232701</td>\n",
       "      <td>0.122387</td>\n",
       "    </tr>\n",
       "  </tbody>\n",
       "</table>\n",
       "<p>61500 rows × 2 columns</p>\n",
       "</div>"
      ],
      "text/plain": [
       "       SK_ID_CURR    TARGET\n",
       "0          171202  0.042868\n",
       "1          171203  0.079570\n",
       "2          171204  0.156261\n",
       "3          171205  0.071102\n",
       "4          171206  0.093599\n",
       "...           ...       ...\n",
       "61495      232697  0.262139\n",
       "61496      232698  0.052600\n",
       "61497      232699  0.090257\n",
       "61498      232700  0.143954\n",
       "61499      232701  0.122387\n",
       "\n",
       "[61500 rows x 2 columns]"
      ]
     },
     "execution_count": 48,
     "metadata": {},
     "output_type": "execute_result"
    }
   ],
   "source": [
    "sample_sub[\"TARGET\"] = preds\n",
    "sample_sub"
   ]
  },
  {
   "cell_type": "code",
   "execution_count": 49,
   "metadata": {
    "id": "i2PJ33yqnWei"
   },
   "outputs": [],
   "source": [
    "# Create the \"output\" directory if it doesn't exist\n",
    "output_dir = current_dir / \"output\"\n",
    "os.makedirs(output_dir, exist_ok=True)\n",
    "\n",
    "# Specify the new output file path\n",
    "output_file = output_dir / \"submission.csv\"\n",
    "\n",
    "# Save the CSV file to the \"output\" directory\n",
    "sample_sub.to_csv(output_file, index=False)"
   ]
  },
  {
   "cell_type": "markdown",
   "metadata": {
    "id": "LEIQ6tJFYSs4"
   },
   "source": [
    "That's all for the tutorial of Home Credit Default Risk competition! Only 5 out of 30 features are covered in this NOTEBOOK, so there are a lot of room for improvement. From now on, please refer to this NOTEBOOK and previous materials to further improve your score!"
   ]
  }
 ],
 "metadata": {
  "colab": {
   "provenance": []
  },
  "kernelspec": {
   "display_name": "Python 3",
   "language": "python",
   "name": "python3"
  },
  "language_info": {
   "codemirror_mode": {
    "name": "ipython",
    "version": 3
   },
   "file_extension": ".py",
   "mimetype": "text/x-python",
   "name": "python",
   "nbconvert_exporter": "python",
   "pygments_lexer": "ipython3",
   "version": "3.12.8"
  },
  "orig_nbformat": 4
 },
 "nbformat": 4,
 "nbformat_minor": 0
}
